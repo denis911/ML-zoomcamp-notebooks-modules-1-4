{
 "cells": [
  {
   "cell_type": "markdown",
   "id": "e1b8e4a5-7840-4059-a487-91cdf432abee",
   "metadata": {},
   "source": [
    "## Load data"
   ]
  },
  {
   "cell_type": "code",
   "execution_count": 1,
   "id": "b0c5b9fe-3028-4836-bfd2-cf011abda020",
   "metadata": {},
   "outputs": [],
   "source": [
    "import pandas as pd\n",
    "import numpy as np\n",
    "\n",
    "import seaborn as sns\n",
    "from matplotlib import pyplot as plt\n",
    "%matplotlib inline"
   ]
  },
  {
   "cell_type": "code",
   "execution_count": 2,
   "id": "a0b65d3e-f95b-4e90-8ea0-865d43dab259",
   "metadata": {},
   "outputs": [],
   "source": [
    "df = pd.read_csv('data.csv')\n",
    "# df.head()"
   ]
  },
  {
   "cell_type": "markdown",
   "id": "fcdff3d7-5c6a-4369-9dc7-42eb0de6fc6a",
   "metadata": {},
   "source": [
    "## Clean up data"
   ]
  },
  {
   "cell_type": "code",
   "execution_count": 3,
   "id": "dfc19822-c49a-4bd1-b3a1-abe143779a2b",
   "metadata": {},
   "outputs": [],
   "source": [
    "# we need to predict MSRP - retail price - based on other features\n",
    "# but before we need to look at data, prepare and beautify it...\n",
    "\n",
    "# STEP 1 - make columns look good:\n",
    "df.columns = df.columns.str.lower()\n",
    "df.columns = df.columns.str.replace(\" \", \"_\")\n",
    "# df.head()"
   ]
  },
  {
   "cell_type": "code",
   "execution_count": 4,
   "id": "a9a9e37e-b12b-4531-97cc-c13e6b75b1b8",
   "metadata": {},
   "outputs": [
    {
     "data": {
      "text/plain": [
       "make                  object\n",
       "model                 object\n",
       "year                   int64\n",
       "engine_fuel_type      object\n",
       "engine_hp            float64\n",
       "engine_cylinders     float64\n",
       "transmission_type     object\n",
       "driven_wheels         object\n",
       "number_of_doors      float64\n",
       "market_category       object\n",
       "vehicle_size          object\n",
       "vehicle_style         object\n",
       "highway_mpg            int64\n",
       "city_mpg               int64\n",
       "popularity             int64\n",
       "msrp                   int64\n",
       "dtype: object"
      ]
     },
     "execution_count": 4,
     "metadata": {},
     "output_type": "execute_result"
    }
   ],
   "source": [
    "# STEP 2 - use dtypes and make all df values look unified\n",
    "\n",
    "df.dtypes # for example number_of_doors is float64 )) -- not a good idea )) "
   ]
  },
  {
   "cell_type": "code",
   "execution_count": 5,
   "id": "df24804e-5318-4b6b-8364-fd3a0fa9bf20",
   "metadata": {},
   "outputs": [
    {
     "data": {
      "text/plain": [
       "['make',\n",
       " 'model',\n",
       " 'engine_fuel_type',\n",
       " 'transmission_type',\n",
       " 'driven_wheels',\n",
       " 'market_category',\n",
       " 'vehicle_size',\n",
       " 'vehicle_style']"
      ]
     },
     "execution_count": 5,
     "metadata": {},
     "output_type": "execute_result"
    }
   ],
   "source": [
    "strings = list(df.dtypes[df.dtypes == \"object\"].index)\n",
    "strings # all string cols here - we can modify and clean it"
   ]
  },
  {
   "cell_type": "code",
   "execution_count": 6,
   "id": "01bf8bb4-8eb4-47cb-9eb0-e90a29d030bc",
   "metadata": {},
   "outputs": [],
   "source": [
    "for col in strings:\n",
    "    df[col] = df[col].str.lower().str.replace(\" \", \"_\")"
   ]
  },
  {
   "cell_type": "code",
   "execution_count": 7,
   "id": "ef4aa6c2-f71a-463d-b0f7-f7515099783b",
   "metadata": {},
   "outputs": [
    {
     "data": {
      "text/html": [
       "<div>\n",
       "<style scoped>\n",
       "    .dataframe tbody tr th:only-of-type {\n",
       "        vertical-align: middle;\n",
       "    }\n",
       "\n",
       "    .dataframe tbody tr th {\n",
       "        vertical-align: top;\n",
       "    }\n",
       "\n",
       "    .dataframe thead th {\n",
       "        text-align: right;\n",
       "    }\n",
       "</style>\n",
       "<table border=\"1\" class=\"dataframe\">\n",
       "  <thead>\n",
       "    <tr style=\"text-align: right;\">\n",
       "      <th></th>\n",
       "      <th>make</th>\n",
       "      <th>model</th>\n",
       "      <th>year</th>\n",
       "      <th>engine_fuel_type</th>\n",
       "      <th>engine_hp</th>\n",
       "      <th>engine_cylinders</th>\n",
       "      <th>transmission_type</th>\n",
       "      <th>driven_wheels</th>\n",
       "      <th>number_of_doors</th>\n",
       "      <th>market_category</th>\n",
       "      <th>vehicle_size</th>\n",
       "      <th>vehicle_style</th>\n",
       "      <th>highway_mpg</th>\n",
       "      <th>city_mpg</th>\n",
       "      <th>popularity</th>\n",
       "      <th>msrp</th>\n",
       "    </tr>\n",
       "  </thead>\n",
       "  <tbody>\n",
       "    <tr>\n",
       "      <th>0</th>\n",
       "      <td>bmw</td>\n",
       "      <td>1_series_m</td>\n",
       "      <td>2011</td>\n",
       "      <td>premium_unleaded_(required)</td>\n",
       "      <td>335.0</td>\n",
       "      <td>6.0</td>\n",
       "      <td>manual</td>\n",
       "      <td>rear_wheel_drive</td>\n",
       "      <td>2.0</td>\n",
       "      <td>factory_tuner,luxury,high-performance</td>\n",
       "      <td>compact</td>\n",
       "      <td>coupe</td>\n",
       "      <td>26</td>\n",
       "      <td>19</td>\n",
       "      <td>3916</td>\n",
       "      <td>46135</td>\n",
       "    </tr>\n",
       "    <tr>\n",
       "      <th>1</th>\n",
       "      <td>bmw</td>\n",
       "      <td>1_series</td>\n",
       "      <td>2011</td>\n",
       "      <td>premium_unleaded_(required)</td>\n",
       "      <td>300.0</td>\n",
       "      <td>6.0</td>\n",
       "      <td>manual</td>\n",
       "      <td>rear_wheel_drive</td>\n",
       "      <td>2.0</td>\n",
       "      <td>luxury,performance</td>\n",
       "      <td>compact</td>\n",
       "      <td>convertible</td>\n",
       "      <td>28</td>\n",
       "      <td>19</td>\n",
       "      <td>3916</td>\n",
       "      <td>40650</td>\n",
       "    </tr>\n",
       "    <tr>\n",
       "      <th>2</th>\n",
       "      <td>bmw</td>\n",
       "      <td>1_series</td>\n",
       "      <td>2011</td>\n",
       "      <td>premium_unleaded_(required)</td>\n",
       "      <td>300.0</td>\n",
       "      <td>6.0</td>\n",
       "      <td>manual</td>\n",
       "      <td>rear_wheel_drive</td>\n",
       "      <td>2.0</td>\n",
       "      <td>luxury,high-performance</td>\n",
       "      <td>compact</td>\n",
       "      <td>coupe</td>\n",
       "      <td>28</td>\n",
       "      <td>20</td>\n",
       "      <td>3916</td>\n",
       "      <td>36350</td>\n",
       "    </tr>\n",
       "    <tr>\n",
       "      <th>3</th>\n",
       "      <td>bmw</td>\n",
       "      <td>1_series</td>\n",
       "      <td>2011</td>\n",
       "      <td>premium_unleaded_(required)</td>\n",
       "      <td>230.0</td>\n",
       "      <td>6.0</td>\n",
       "      <td>manual</td>\n",
       "      <td>rear_wheel_drive</td>\n",
       "      <td>2.0</td>\n",
       "      <td>luxury,performance</td>\n",
       "      <td>compact</td>\n",
       "      <td>coupe</td>\n",
       "      <td>28</td>\n",
       "      <td>18</td>\n",
       "      <td>3916</td>\n",
       "      <td>29450</td>\n",
       "    </tr>\n",
       "    <tr>\n",
       "      <th>4</th>\n",
       "      <td>bmw</td>\n",
       "      <td>1_series</td>\n",
       "      <td>2011</td>\n",
       "      <td>premium_unleaded_(required)</td>\n",
       "      <td>230.0</td>\n",
       "      <td>6.0</td>\n",
       "      <td>manual</td>\n",
       "      <td>rear_wheel_drive</td>\n",
       "      <td>2.0</td>\n",
       "      <td>luxury</td>\n",
       "      <td>compact</td>\n",
       "      <td>convertible</td>\n",
       "      <td>28</td>\n",
       "      <td>18</td>\n",
       "      <td>3916</td>\n",
       "      <td>34500</td>\n",
       "    </tr>\n",
       "  </tbody>\n",
       "</table>\n",
       "</div>"
      ],
      "text/plain": [
       "  make       model  year             engine_fuel_type  engine_hp  \\\n",
       "0  bmw  1_series_m  2011  premium_unleaded_(required)      335.0   \n",
       "1  bmw    1_series  2011  premium_unleaded_(required)      300.0   \n",
       "2  bmw    1_series  2011  premium_unleaded_(required)      300.0   \n",
       "3  bmw    1_series  2011  premium_unleaded_(required)      230.0   \n",
       "4  bmw    1_series  2011  premium_unleaded_(required)      230.0   \n",
       "\n",
       "   engine_cylinders transmission_type     driven_wheels  number_of_doors  \\\n",
       "0               6.0            manual  rear_wheel_drive              2.0   \n",
       "1               6.0            manual  rear_wheel_drive              2.0   \n",
       "2               6.0            manual  rear_wheel_drive              2.0   \n",
       "3               6.0            manual  rear_wheel_drive              2.0   \n",
       "4               6.0            manual  rear_wheel_drive              2.0   \n",
       "\n",
       "                         market_category vehicle_size vehicle_style  \\\n",
       "0  factory_tuner,luxury,high-performance      compact         coupe   \n",
       "1                     luxury,performance      compact   convertible   \n",
       "2                luxury,high-performance      compact         coupe   \n",
       "3                     luxury,performance      compact         coupe   \n",
       "4                                 luxury      compact   convertible   \n",
       "\n",
       "   highway_mpg  city_mpg  popularity   msrp  \n",
       "0           26        19        3916  46135  \n",
       "1           28        19        3916  40650  \n",
       "2           28        20        3916  36350  \n",
       "3           28        18        3916  29450  \n",
       "4           28        18        3916  34500  "
      ]
     },
     "execution_count": 7,
     "metadata": {},
     "output_type": "execute_result"
    }
   ],
   "source": [
    "df.head()"
   ]
  },
  {
   "cell_type": "markdown",
   "id": "3ba65915-2025-49b4-94d8-63984cb4275a",
   "metadata": {},
   "source": [
    "## EDA - exploratory data analysis"
   ]
  },
  {
   "cell_type": "code",
   "execution_count": 8,
   "id": "4e1392ed-9ede-42b4-ada8-30c1173a5e2c",
   "metadata": {},
   "outputs": [
    {
     "name": "stdout",
     "output_type": "stream",
     "text": [
      "make\n",
      "['bmw' 'audi' 'fiat' 'mercedes-benz' 'chrysler']\n",
      "48\n",
      "\n",
      "model\n",
      "['1_series_m' '1_series' '100' '124_spider' '190-class']\n",
      "914\n",
      "\n",
      "year\n",
      "[2011 2012 2013 1992 1993]\n",
      "28\n",
      "\n",
      "engine_fuel_type\n",
      "['premium_unleaded_(required)' 'regular_unleaded'\n",
      " 'premium_unleaded_(recommended)' 'flex-fuel_(unleaded/e85)' 'diesel']\n",
      "10\n",
      "\n",
      "engine_hp\n",
      "[335. 300. 230. 320. 172.]\n",
      "356\n",
      "\n",
      "engine_cylinders\n",
      "[ 6.  4.  5.  8. 12.]\n",
      "9\n",
      "\n",
      "transmission_type\n",
      "['manual' 'automatic' 'automated_manual' 'direct_drive' 'unknown']\n",
      "5\n",
      "\n",
      "driven_wheels\n",
      "['rear_wheel_drive' 'front_wheel_drive' 'all_wheel_drive'\n",
      " 'four_wheel_drive']\n",
      "4\n",
      "\n",
      "number_of_doors\n",
      "[ 2.  4.  3. nan]\n",
      "3\n",
      "\n",
      "market_category\n",
      "['factory_tuner,luxury,high-performance' 'luxury,performance'\n",
      " 'luxury,high-performance' 'luxury' 'performance']\n",
      "71\n",
      "\n",
      "vehicle_size\n",
      "['compact' 'midsize' 'large']\n",
      "3\n",
      "\n",
      "vehicle_style\n",
      "['coupe' 'convertible' 'sedan' 'wagon' '4dr_hatchback']\n",
      "16\n",
      "\n",
      "highway_mpg\n",
      "[26 28 27 25 24]\n",
      "59\n",
      "\n",
      "city_mpg\n",
      "[19 20 18 17 16]\n",
      "69\n",
      "\n",
      "popularity\n",
      "[3916 3105  819  617 1013]\n",
      "48\n",
      "\n",
      "msrp\n",
      "[46135 40650 36350 29450 34500]\n",
      "6049\n",
      "\n"
     ]
    }
   ],
   "source": [
    "for col in df.columns:\n",
    "    print(col)\n",
    "    print(df[col].unique()[:5])\n",
    "    print(df[col].nunique())\n",
    "    print()"
   ]
  },
  {
   "cell_type": "code",
   "execution_count": 9,
   "id": "925c2845-408b-4a74-9a5a-bdb2089430a8",
   "metadata": {},
   "outputs": [
    {
     "data": {
      "text/plain": [
       "<Axes: xlabel='msrp', ylabel='Count'>"
      ]
     },
     "execution_count": 9,
     "metadata": {},
     "output_type": "execute_result"
    },
    {
     "data": {
      "image/png": "[encoded data removed]",
      "text/plain": [
       "<Figure size 640x480 with 1 Axes>"
      ]
     },
     "metadata": {},
     "output_type": "display_data"
    }
   ],
   "source": [
    "sns.histplot(df.msrp, bins=50) # we got a very long tail distribution - majority of cars are cheap but few cost 1 or 2 millions..."
   ]
  },
  {
   "cell_type": "code",
   "execution_count": 10,
   "id": "0a0022b9-a6dd-4ef9-9904-88f18f619d5b",
   "metadata": {},
   "outputs": [
    {
     "data": {
      "text/plain": [
       "<Axes: xlabel='msrp', ylabel='Count'>"
      ]
     },
     "execution_count": 10,
     "metadata": {},
     "output_type": "execute_result"
    },
    {
     "data": {
      "image/png": "[encoded data removed]",
      "text/plain": [
       "<Figure size 640x480 with 1 Axes>"
      ]
     },
     "metadata": {},
     "output_type": "display_data"
    }
   ],
   "source": [
    "# how to cut this long tail:\n",
    "\n",
    "sns.histplot(df.msrp[df.msrp < 100000], bins=50)"
   ]
  },
  {
   "cell_type": "code",
   "execution_count": 11,
   "id": "1a06247f-4bc7-40a0-93da-d1413ca57b27",
   "metadata": {},
   "outputs": [
    {
     "data": {
      "text/plain": [
       "array([ 0.        ,  0.69314718,  2.39789527,  4.61512052,  6.90875478,\n",
       "       11.51293546])"
      ]
     },
     "execution_count": 11,
     "metadata": {},
     "output_type": "execute_result"
    }
   ],
   "source": [
    "# converting to log scale so our models cannot be confused by huge numbers\n",
    "# essentially we add 1 to every price like so to avoid crash on zero values:\n",
    "np.log([0+1, 1+1, 10+1, 100+1, 1000+1, 100000+1])"
   ]
  },
  {
   "cell_type": "code",
   "execution_count": 12,
   "id": "789ca7ff-e2db-4abb-b583-5d997fa57a39",
   "metadata": {},
   "outputs": [
    {
     "data": {
      "text/plain": [
       "array([ 0.        ,  0.69314718,  2.39789527,  4.61512052,  6.90875478,\n",
       "       11.51293546])"
      ]
     },
     "execution_count": 12,
     "metadata": {},
     "output_type": "execute_result"
    }
   ],
   "source": [
    "# this is log - we put number e=2.7.... to the power to get the result\n",
    "# log 1 is zero - see the first result\n",
    "# here is a smarter way of how not to add 1 manually all the time - use log1p instead:\n",
    "\n",
    "np.log1p([0, 1, 10, 100, 1000, 100000])"
   ]
  },
  {
   "cell_type": "code",
   "execution_count": 13,
   "id": "34c769b7-1cc1-4c77-82a8-92bdbaf3e669",
   "metadata": {},
   "outputs": [
    {
     "data": {
      "text/plain": [
       "0    10.739349\n",
       "1    10.612779\n",
       "2    10.500977\n",
       "3    10.290483\n",
       "4    10.448744\n",
       "Name: msrp, dtype: float64"
      ]
     },
     "execution_count": 13,
     "metadata": {},
     "output_type": "execute_result"
    }
   ],
   "source": [
    "price_logs = np.log1p(df.msrp)\n",
    "price_logs.head()"
   ]
  },
  {
   "cell_type": "code",
   "execution_count": 14,
   "id": "032086c9-48a2-4fd2-a8ed-36a4d3c83fb1",
   "metadata": {},
   "outputs": [
    {
     "data": {
      "text/plain": [
       "<Axes: xlabel='msrp', ylabel='Count'>"
      ]
     },
     "execution_count": 14,
     "metadata": {},
     "output_type": "execute_result"
    },
    {
     "data": {
      "image/png": "[encoded data removed]",
      "text/plain": [
       "<Figure size 640x480 with 1 Axes>"
      ]
     },
     "metadata": {},
     "output_type": "display_data"
    }
   ],
   "source": [
    "sns.histplot(price_logs, bins=50)"
   ]
  },
  {
   "cell_type": "code",
   "execution_count": 15,
   "id": "d17a055f-60c8-4ace-b84a-a086e3799e04",
   "metadata": {},
   "outputs": [
    {
     "data": {
      "text/plain": [
       "make                    0\n",
       "model                   0\n",
       "year                    0\n",
       "engine_fuel_type        3\n",
       "engine_hp              69\n",
       "engine_cylinders       30\n",
       "transmission_type       0\n",
       "driven_wheels           0\n",
       "number_of_doors         6\n",
       "market_category      3742\n",
       "vehicle_size            0\n",
       "vehicle_style           0\n",
       "highway_mpg             0\n",
       "city_mpg                0\n",
       "popularity              0\n",
       "msrp                    0\n",
       "dtype: int64"
      ]
     },
     "execution_count": 15,
     "metadata": {},
     "output_type": "execute_result"
    }
   ],
   "source": [
    "# handling missing values\n",
    "\n",
    "df.isnull().sum()"
   ]
  },
  {
   "cell_type": "markdown",
   "id": "b3badbea-3017-4594-be79-f5d7ca47d463",
   "metadata": {},
   "source": [
    "## Setting up the validation framework"
   ]
  },
  {
   "cell_type": "code",
   "execution_count": 16,
   "id": "b8d35cd3-ee66-426a-a7fb-6b630f58a69f",
   "metadata": {},
   "outputs": [
    {
     "data": {
      "text/plain": [
       "(11914, 11914)"
      ]
     },
     "execution_count": 16,
     "metadata": {},
     "output_type": "execute_result"
    }
   ],
   "source": [
    "# we need to split our df - 60% for training part, 20% for validation, 20% for test dataset\n",
    "n = int(len(df))\n",
    "n_val = int(n * 0.2)\n",
    "n_test = n_val\n",
    "n_train = n - 2*n_val\n",
    "n, n_val + n_test + n_train # (11914, 11914) - our ariphmetics works!"
   ]
  },
  {
   "cell_type": "code",
   "execution_count": 17,
   "id": "4645c5f7-8f21-4230-ae4d-bb76ff8bad19",
   "metadata": {},
   "outputs": [
    {
     "data": {
      "text/plain": [
       "array([7557, 4060, 3773, ..., 6637, 2575, 7336], shape=(11904,))"
      ]
     },
     "execution_count": 17,
     "metadata": {},
     "output_type": "execute_result"
    }
   ],
   "source": [
    "# our original df is sorted - bmw goes first, etc... \n",
    "# so we need to shuffle df rows before breaking into test, val and train datasets\n",
    "\n",
    "idx = np.arange(n) # this is our index\n",
    "\n",
    "np.random.seed(2) # to make our results reproducible in the future\n",
    "np.random.shuffle(idx)\n",
    "idx[10:] # it is shuffled now like so\n",
    "# array([7557, 4060, 3773, ..., 6637, 2575, 7336], shape=(11904,))"
   ]
  },
  {
   "cell_type": "code",
   "execution_count": 18,
   "id": "795e60cb-0bf1-4785-b1c2-03565241514e",
   "metadata": {},
   "outputs": [
    {
     "data": {
      "text/plain": [
       "(2382, 2382, 7150)"
      ]
     },
     "execution_count": 18,
     "metadata": {},
     "output_type": "execute_result"
    }
   ],
   "source": [
    "# so our split will be\n",
    "n_val, n_test, n_train # (2382, 2382, 7150)"
   ]
  },
  {
   "cell_type": "code",
   "execution_count": 19,
   "id": "2ddbbd8c-3d57-46a6-b2df-18defb8617b2",
   "metadata": {},
   "outputs": [
    {
     "data": {
      "text/plain": [
       "2382"
      ]
     },
     "execution_count": 19,
     "metadata": {},
     "output_type": "execute_result"
    }
   ],
   "source": [
    "# a trick - we do not take rows directly but use our reshuffled index instead:\n",
    "df_val = df.iloc[idx[:n_val]] # iloc takes actual rows, not index\n",
    "len(df_val)"
   ]
  },
  {
   "cell_type": "code",
   "execution_count": 20,
   "id": "b24f84b9-88ef-4485-baa7-9000143db859",
   "metadata": {},
   "outputs": [
    {
     "data": {
      "text/plain": [
       "2382"
      ]
     },
     "execution_count": 20,
     "metadata": {},
     "output_type": "execute_result"
    }
   ],
   "source": [
    "df_test = df.iloc[idx[n_val:n_val + n_test]]\n",
    "len(df_test)"
   ]
  },
  {
   "cell_type": "code",
   "execution_count": 21,
   "id": "5ed7d3de-de42-42fa-aa01-3633a729afd7",
   "metadata": {},
   "outputs": [
    {
     "data": {
      "text/plain": [
       "7150"
      ]
     },
     "execution_count": 21,
     "metadata": {},
     "output_type": "execute_result"
    }
   ],
   "source": [
    "df_train = df.iloc[idx[n_val + n_test:]]\n",
    "len(df_train)"
   ]
  },
  {
   "cell_type": "code",
   "execution_count": 22,
   "id": "1360a971-e98d-4175-aba7-967a2cb24e34",
   "metadata": {},
   "outputs": [
    {
     "data": {
      "text/html": [
       "<div>\n",
       "<style scoped>\n",
       "    .dataframe tbody tr th:only-of-type {\n",
       "        vertical-align: middle;\n",
       "    }\n",
       "\n",
       "    .dataframe tbody tr th {\n",
       "        vertical-align: top;\n",
       "    }\n",
       "\n",
       "    .dataframe thead th {\n",
       "        text-align: right;\n",
       "    }\n",
       "</style>\n",
       "<table border=\"1\" class=\"dataframe\">\n",
       "  <thead>\n",
       "    <tr style=\"text-align: right;\">\n",
       "      <th></th>\n",
       "      <th>make</th>\n",
       "      <th>model</th>\n",
       "      <th>year</th>\n",
       "      <th>engine_fuel_type</th>\n",
       "      <th>engine_hp</th>\n",
       "      <th>engine_cylinders</th>\n",
       "      <th>transmission_type</th>\n",
       "      <th>driven_wheels</th>\n",
       "      <th>number_of_doors</th>\n",
       "      <th>market_category</th>\n",
       "      <th>vehicle_size</th>\n",
       "      <th>vehicle_style</th>\n",
       "      <th>highway_mpg</th>\n",
       "      <th>city_mpg</th>\n",
       "      <th>popularity</th>\n",
       "      <th>msrp</th>\n",
       "    </tr>\n",
       "  </thead>\n",
       "  <tbody>\n",
       "    <tr>\n",
       "      <th>8597</th>\n",
       "      <td>kia</td>\n",
       "      <td>rondo</td>\n",
       "      <td>2008</td>\n",
       "      <td>regular_unleaded</td>\n",
       "      <td>162.0</td>\n",
       "      <td>4.0</td>\n",
       "      <td>automatic</td>\n",
       "      <td>front_wheel_drive</td>\n",
       "      <td>4.0</td>\n",
       "      <td>NaN</td>\n",
       "      <td>compact</td>\n",
       "      <td>wagon</td>\n",
       "      <td>26</td>\n",
       "      <td>19</td>\n",
       "      <td>1720</td>\n",
       "      <td>16395</td>\n",
       "    </tr>\n",
       "    <tr>\n",
       "      <th>6408</th>\n",
       "      <td>subaru</td>\n",
       "      <td>legacy</td>\n",
       "      <td>2016</td>\n",
       "      <td>regular_unleaded</td>\n",
       "      <td>175.0</td>\n",
       "      <td>4.0</td>\n",
       "      <td>automatic</td>\n",
       "      <td>all_wheel_drive</td>\n",
       "      <td>4.0</td>\n",
       "      <td>NaN</td>\n",
       "      <td>midsize</td>\n",
       "      <td>sedan</td>\n",
       "      <td>36</td>\n",
       "      <td>26</td>\n",
       "      <td>640</td>\n",
       "      <td>24145</td>\n",
       "    </tr>\n",
       "    <tr>\n",
       "      <th>11241</th>\n",
       "      <td>hyundai</td>\n",
       "      <td>veloster</td>\n",
       "      <td>2016</td>\n",
       "      <td>regular_unleaded</td>\n",
       "      <td>132.0</td>\n",
       "      <td>4.0</td>\n",
       "      <td>manual</td>\n",
       "      <td>front_wheel_drive</td>\n",
       "      <td>3.0</td>\n",
       "      <td>hatchback</td>\n",
       "      <td>compact</td>\n",
       "      <td>2dr_hatchback</td>\n",
       "      <td>35</td>\n",
       "      <td>27</td>\n",
       "      <td>1439</td>\n",
       "      <td>18000</td>\n",
       "    </tr>\n",
       "    <tr>\n",
       "      <th>569</th>\n",
       "      <td>fiat</td>\n",
       "      <td>500</td>\n",
       "      <td>2017</td>\n",
       "      <td>premium_unleaded_(recommended)</td>\n",
       "      <td>101.0</td>\n",
       "      <td>4.0</td>\n",
       "      <td>automatic</td>\n",
       "      <td>front_wheel_drive</td>\n",
       "      <td>2.0</td>\n",
       "      <td>hatchback</td>\n",
       "      <td>compact</td>\n",
       "      <td>2dr_hatchback</td>\n",
       "      <td>33</td>\n",
       "      <td>27</td>\n",
       "      <td>819</td>\n",
       "      <td>15990</td>\n",
       "    </tr>\n",
       "    <tr>\n",
       "      <th>1659</th>\n",
       "      <td>lincoln</td>\n",
       "      <td>aviator</td>\n",
       "      <td>2005</td>\n",
       "      <td>premium_unleaded_(required)</td>\n",
       "      <td>302.0</td>\n",
       "      <td>8.0</td>\n",
       "      <td>automatic</td>\n",
       "      <td>all_wheel_drive</td>\n",
       "      <td>4.0</td>\n",
       "      <td>luxury</td>\n",
       "      <td>midsize</td>\n",
       "      <td>4dr_suv</td>\n",
       "      <td>16</td>\n",
       "      <td>11</td>\n",
       "      <td>61</td>\n",
       "      <td>43585</td>\n",
       "    </tr>\n",
       "  </tbody>\n",
       "</table>\n",
       "</div>"
      ],
      "text/plain": [
       "          make     model  year                engine_fuel_type  engine_hp  \\\n",
       "8597       kia     rondo  2008                regular_unleaded      162.0   \n",
       "6408    subaru    legacy  2016                regular_unleaded      175.0   \n",
       "11241  hyundai  veloster  2016                regular_unleaded      132.0   \n",
       "569       fiat       500  2017  premium_unleaded_(recommended)      101.0   \n",
       "1659   lincoln   aviator  2005     premium_unleaded_(required)      302.0   \n",
       "\n",
       "       engine_cylinders transmission_type      driven_wheels  number_of_doors  \\\n",
       "8597                4.0         automatic  front_wheel_drive              4.0   \n",
       "6408                4.0         automatic    all_wheel_drive              4.0   \n",
       "11241               4.0            manual  front_wheel_drive              3.0   \n",
       "569                 4.0         automatic  front_wheel_drive              2.0   \n",
       "1659                8.0         automatic    all_wheel_drive              4.0   \n",
       "\n",
       "      market_category vehicle_size  vehicle_style  highway_mpg  city_mpg  \\\n",
       "8597              NaN      compact          wagon           26        19   \n",
       "6408              NaN      midsize          sedan           36        26   \n",
       "11241       hatchback      compact  2dr_hatchback           35        27   \n",
       "569         hatchback      compact  2dr_hatchback           33        27   \n",
       "1659           luxury      midsize        4dr_suv           16        11   \n",
       "\n",
       "       popularity   msrp  \n",
       "8597         1720  16395  \n",
       "6408          640  24145  \n",
       "11241        1439  18000  \n",
       "569           819  15990  \n",
       "1659           61  43585  "
      ]
     },
     "execution_count": 22,
     "metadata": {},
     "output_type": "execute_result"
    }
   ],
   "source": [
    "df_train.head() # note - index is reshuffled ))"
   ]
  },
  {
   "cell_type": "code",
   "execution_count": 23,
   "id": "1b9ded67-c850-4d74-bcb5-eefc004fdc82",
   "metadata": {},
   "outputs": [
    {
     "data": {
      "text/html": [
       "<div>\n",
       "<style scoped>\n",
       "    .dataframe tbody tr th:only-of-type {\n",
       "        vertical-align: middle;\n",
       "    }\n",
       "\n",
       "    .dataframe tbody tr th {\n",
       "        vertical-align: top;\n",
       "    }\n",
       "\n",
       "    .dataframe thead th {\n",
       "        text-align: right;\n",
       "    }\n",
       "</style>\n",
       "<table border=\"1\" class=\"dataframe\">\n",
       "  <thead>\n",
       "    <tr style=\"text-align: right;\">\n",
       "      <th></th>\n",
       "      <th>make</th>\n",
       "      <th>model</th>\n",
       "      <th>year</th>\n",
       "      <th>engine_fuel_type</th>\n",
       "      <th>engine_hp</th>\n",
       "      <th>engine_cylinders</th>\n",
       "      <th>transmission_type</th>\n",
       "      <th>driven_wheels</th>\n",
       "      <th>number_of_doors</th>\n",
       "      <th>market_category</th>\n",
       "      <th>vehicle_size</th>\n",
       "      <th>vehicle_style</th>\n",
       "      <th>highway_mpg</th>\n",
       "      <th>city_mpg</th>\n",
       "      <th>popularity</th>\n",
       "      <th>msrp</th>\n",
       "    </tr>\n",
       "  </thead>\n",
       "  <tbody>\n",
       "    <tr>\n",
       "      <th>0</th>\n",
       "      <td>kia</td>\n",
       "      <td>rondo</td>\n",
       "      <td>2008</td>\n",
       "      <td>regular_unleaded</td>\n",
       "      <td>162.0</td>\n",
       "      <td>4.0</td>\n",
       "      <td>automatic</td>\n",
       "      <td>front_wheel_drive</td>\n",
       "      <td>4.0</td>\n",
       "      <td>NaN</td>\n",
       "      <td>compact</td>\n",
       "      <td>wagon</td>\n",
       "      <td>26</td>\n",
       "      <td>19</td>\n",
       "      <td>1720</td>\n",
       "      <td>16395</td>\n",
       "    </tr>\n",
       "    <tr>\n",
       "      <th>1</th>\n",
       "      <td>subaru</td>\n",
       "      <td>legacy</td>\n",
       "      <td>2016</td>\n",
       "      <td>regular_unleaded</td>\n",
       "      <td>175.0</td>\n",
       "      <td>4.0</td>\n",
       "      <td>automatic</td>\n",
       "      <td>all_wheel_drive</td>\n",
       "      <td>4.0</td>\n",
       "      <td>NaN</td>\n",
       "      <td>midsize</td>\n",
       "      <td>sedan</td>\n",
       "      <td>36</td>\n",
       "      <td>26</td>\n",
       "      <td>640</td>\n",
       "      <td>24145</td>\n",
       "    </tr>\n",
       "    <tr>\n",
       "      <th>2</th>\n",
       "      <td>hyundai</td>\n",
       "      <td>veloster</td>\n",
       "      <td>2016</td>\n",
       "      <td>regular_unleaded</td>\n",
       "      <td>132.0</td>\n",
       "      <td>4.0</td>\n",
       "      <td>manual</td>\n",
       "      <td>front_wheel_drive</td>\n",
       "      <td>3.0</td>\n",
       "      <td>hatchback</td>\n",
       "      <td>compact</td>\n",
       "      <td>2dr_hatchback</td>\n",
       "      <td>35</td>\n",
       "      <td>27</td>\n",
       "      <td>1439</td>\n",
       "      <td>18000</td>\n",
       "    </tr>\n",
       "    <tr>\n",
       "      <th>3</th>\n",
       "      <td>fiat</td>\n",
       "      <td>500</td>\n",
       "      <td>2017</td>\n",
       "      <td>premium_unleaded_(recommended)</td>\n",
       "      <td>101.0</td>\n",
       "      <td>4.0</td>\n",
       "      <td>automatic</td>\n",
       "      <td>front_wheel_drive</td>\n",
       "      <td>2.0</td>\n",
       "      <td>hatchback</td>\n",
       "      <td>compact</td>\n",
       "      <td>2dr_hatchback</td>\n",
       "      <td>33</td>\n",
       "      <td>27</td>\n",
       "      <td>819</td>\n",
       "      <td>15990</td>\n",
       "    </tr>\n",
       "    <tr>\n",
       "      <th>4</th>\n",
       "      <td>lincoln</td>\n",
       "      <td>aviator</td>\n",
       "      <td>2005</td>\n",
       "      <td>premium_unleaded_(required)</td>\n",
       "      <td>302.0</td>\n",
       "      <td>8.0</td>\n",
       "      <td>automatic</td>\n",
       "      <td>all_wheel_drive</td>\n",
       "      <td>4.0</td>\n",
       "      <td>luxury</td>\n",
       "      <td>midsize</td>\n",
       "      <td>4dr_suv</td>\n",
       "      <td>16</td>\n",
       "      <td>11</td>\n",
       "      <td>61</td>\n",
       "      <td>43585</td>\n",
       "    </tr>\n",
       "  </tbody>\n",
       "</table>\n",
       "</div>"
      ],
      "text/plain": [
       "      make     model  year                engine_fuel_type  engine_hp  \\\n",
       "0      kia     rondo  2008                regular_unleaded      162.0   \n",
       "1   subaru    legacy  2016                regular_unleaded      175.0   \n",
       "2  hyundai  veloster  2016                regular_unleaded      132.0   \n",
       "3     fiat       500  2017  premium_unleaded_(recommended)      101.0   \n",
       "4  lincoln   aviator  2005     premium_unleaded_(required)      302.0   \n",
       "\n",
       "   engine_cylinders transmission_type      driven_wheels  number_of_doors  \\\n",
       "0               4.0         automatic  front_wheel_drive              4.0   \n",
       "1               4.0         automatic    all_wheel_drive              4.0   \n",
       "2               4.0            manual  front_wheel_drive              3.0   \n",
       "3               4.0         automatic  front_wheel_drive              2.0   \n",
       "4               8.0         automatic    all_wheel_drive              4.0   \n",
       "\n",
       "  market_category vehicle_size  vehicle_style  highway_mpg  city_mpg  \\\n",
       "0             NaN      compact          wagon           26        19   \n",
       "1             NaN      midsize          sedan           36        26   \n",
       "2       hatchback      compact  2dr_hatchback           35        27   \n",
       "3       hatchback      compact  2dr_hatchback           33        27   \n",
       "4          luxury      midsize        4dr_suv           16        11   \n",
       "\n",
       "   popularity   msrp  \n",
       "0        1720  16395  \n",
       "1         640  24145  \n",
       "2        1439  18000  \n",
       "3         819  15990  \n",
       "4          61  43585  "
      ]
     },
     "execution_count": 23,
     "metadata": {},
     "output_type": "execute_result"
    }
   ],
   "source": [
    "# we can reset index for every new dataset to make it look nice\n",
    "df_train = df_train.reset_index(drop=True)\n",
    "df_train.head()"
   ]
  },
  {
   "cell_type": "code",
   "execution_count": 24,
   "id": "ca514fd6-30ee-4c2b-9a38-de9a3a371003",
   "metadata": {},
   "outputs": [],
   "source": [
    "df_val = df_val.reset_index(drop=True)\n",
    "df_test = df_test.reset_index(drop=True)"
   ]
  },
  {
   "cell_type": "code",
   "execution_count": 25,
   "id": "caeda3ef-9e52-455b-b754-a0829134e9e2",
   "metadata": {},
   "outputs": [
    {
     "data": {
      "text/plain": [
       "array([ 9.70479268, 10.09187401,  9.79818259, ..., 10.27852782,\n",
       "       10.00789261, 10.40414162], shape=(7150,))"
      ]
     },
     "execution_count": 25,
     "metadata": {},
     "output_type": "execute_result"
    }
   ],
   "source": [
    "# to train the model we need to log MSRP\n",
    "y_train = np.log1p(df_train.msrp.values)\n",
    "y_train # array([ 9.70479268, 10.09187401,"
   ]
  },
  {
   "cell_type": "code",
   "execution_count": 26,
   "id": "4e9a18c9-9ae6-4bd5-a33d-1eafdf60d042",
   "metadata": {},
   "outputs": [
    {
     "data": {
      "text/plain": [
       "array([ 9.85224689,  9.58190393, 11.62626308, ...,  7.79317435,\n",
       "       10.29876764, 10.29404205], shape=(2382,))"
      ]
     },
     "execution_count": 26,
     "metadata": {},
     "output_type": "execute_result"
    }
   ],
   "source": [
    "y_test = np.log1p(df_test.msrp.values)\n",
    "y_test"
   ]
  },
  {
   "cell_type": "code",
   "execution_count": 27,
   "id": "bfe8412a-fada-4aa7-b47d-72adb8b17637",
   "metadata": {},
   "outputs": [
    {
     "data": {
      "text/plain": [
       "array([ 9.57574708,  9.887663  ,  9.89323518, ...,  9.97399261,\n",
       "       10.92595647, 10.13701698], shape=(2382,))"
      ]
     },
     "execution_count": 27,
     "metadata": {},
     "output_type": "execute_result"
    }
   ],
   "source": [
    "y_val = np.log1p(df_val.msrp.values)\n",
    "y_val"
   ]
  },
  {
   "cell_type": "code",
   "execution_count": 28,
   "id": "6544f2e9-a8fc-4d7d-b381-5b0b63da30c4",
   "metadata": {},
   "outputs": [],
   "source": [
    "# finally we can delete MSRP varuable, so our model will not accidentally look at it\n",
    "del df_train[\"msrp\"]"
   ]
  },
  {
   "cell_type": "code",
   "execution_count": 29,
   "id": "adacd073-f486-492a-9b05-dc4d40da7440",
   "metadata": {},
   "outputs": [
    {
     "data": {
      "text/html": [
       "<div>\n",
       "<style scoped>\n",
       "    .dataframe tbody tr th:only-of-type {\n",
       "        vertical-align: middle;\n",
       "    }\n",
       "\n",
       "    .dataframe tbody tr th {\n",
       "        vertical-align: top;\n",
       "    }\n",
       "\n",
       "    .dataframe thead th {\n",
       "        text-align: right;\n",
       "    }\n",
       "</style>\n",
       "<table border=\"1\" class=\"dataframe\">\n",
       "  <thead>\n",
       "    <tr style=\"text-align: right;\">\n",
       "      <th></th>\n",
       "      <th>make</th>\n",
       "      <th>model</th>\n",
       "      <th>year</th>\n",
       "      <th>engine_fuel_type</th>\n",
       "      <th>engine_hp</th>\n",
       "      <th>engine_cylinders</th>\n",
       "      <th>transmission_type</th>\n",
       "      <th>driven_wheels</th>\n",
       "      <th>number_of_doors</th>\n",
       "      <th>market_category</th>\n",
       "      <th>vehicle_size</th>\n",
       "      <th>vehicle_style</th>\n",
       "      <th>highway_mpg</th>\n",
       "      <th>city_mpg</th>\n",
       "      <th>popularity</th>\n",
       "    </tr>\n",
       "  </thead>\n",
       "  <tbody>\n",
       "    <tr>\n",
       "      <th>0</th>\n",
       "      <td>chevrolet</td>\n",
       "      <td>cobalt</td>\n",
       "      <td>2008</td>\n",
       "      <td>regular_unleaded</td>\n",
       "      <td>148.0</td>\n",
       "      <td>4.0</td>\n",
       "      <td>manual</td>\n",
       "      <td>front_wheel_drive</td>\n",
       "      <td>2.0</td>\n",
       "      <td>NaN</td>\n",
       "      <td>compact</td>\n",
       "      <td>coupe</td>\n",
       "      <td>33</td>\n",
       "      <td>24</td>\n",
       "      <td>1385</td>\n",
       "    </tr>\n",
       "    <tr>\n",
       "      <th>1</th>\n",
       "      <td>toyota</td>\n",
       "      <td>matrix</td>\n",
       "      <td>2012</td>\n",
       "      <td>regular_unleaded</td>\n",
       "      <td>132.0</td>\n",
       "      <td>4.0</td>\n",
       "      <td>automatic</td>\n",
       "      <td>front_wheel_drive</td>\n",
       "      <td>4.0</td>\n",
       "      <td>hatchback</td>\n",
       "      <td>compact</td>\n",
       "      <td>4dr_hatchback</td>\n",
       "      <td>32</td>\n",
       "      <td>25</td>\n",
       "      <td>2031</td>\n",
       "    </tr>\n",
       "    <tr>\n",
       "      <th>2</th>\n",
       "      <td>subaru</td>\n",
       "      <td>impreza</td>\n",
       "      <td>2016</td>\n",
       "      <td>regular_unleaded</td>\n",
       "      <td>148.0</td>\n",
       "      <td>4.0</td>\n",
       "      <td>automatic</td>\n",
       "      <td>all_wheel_drive</td>\n",
       "      <td>4.0</td>\n",
       "      <td>hatchback</td>\n",
       "      <td>compact</td>\n",
       "      <td>4dr_hatchback</td>\n",
       "      <td>37</td>\n",
       "      <td>28</td>\n",
       "      <td>640</td>\n",
       "    </tr>\n",
       "    <tr>\n",
       "      <th>3</th>\n",
       "      <td>volkswagen</td>\n",
       "      <td>vanagon</td>\n",
       "      <td>1991</td>\n",
       "      <td>regular_unleaded</td>\n",
       "      <td>90.0</td>\n",
       "      <td>4.0</td>\n",
       "      <td>manual</td>\n",
       "      <td>rear_wheel_drive</td>\n",
       "      <td>3.0</td>\n",
       "      <td>NaN</td>\n",
       "      <td>large</td>\n",
       "      <td>passenger_minivan</td>\n",
       "      <td>18</td>\n",
       "      <td>16</td>\n",
       "      <td>873</td>\n",
       "    </tr>\n",
       "    <tr>\n",
       "      <th>4</th>\n",
       "      <td>ford</td>\n",
       "      <td>f-150</td>\n",
       "      <td>2017</td>\n",
       "      <td>flex-fuel_(unleaded/e85)</td>\n",
       "      <td>385.0</td>\n",
       "      <td>8.0</td>\n",
       "      <td>automatic</td>\n",
       "      <td>four_wheel_drive</td>\n",
       "      <td>4.0</td>\n",
       "      <td>flex_fuel</td>\n",
       "      <td>large</td>\n",
       "      <td>crew_cab_pickup</td>\n",
       "      <td>21</td>\n",
       "      <td>15</td>\n",
       "      <td>5657</td>\n",
       "    </tr>\n",
       "  </tbody>\n",
       "</table>\n",
       "</div>"
      ],
      "text/plain": [
       "         make    model  year          engine_fuel_type  engine_hp  \\\n",
       "0   chevrolet   cobalt  2008          regular_unleaded      148.0   \n",
       "1      toyota   matrix  2012          regular_unleaded      132.0   \n",
       "2      subaru  impreza  2016          regular_unleaded      148.0   \n",
       "3  volkswagen  vanagon  1991          regular_unleaded       90.0   \n",
       "4        ford    f-150  2017  flex-fuel_(unleaded/e85)      385.0   \n",
       "\n",
       "   engine_cylinders transmission_type      driven_wheels  number_of_doors  \\\n",
       "0               4.0            manual  front_wheel_drive              2.0   \n",
       "1               4.0         automatic  front_wheel_drive              4.0   \n",
       "2               4.0         automatic    all_wheel_drive              4.0   \n",
       "3               4.0            manual   rear_wheel_drive              3.0   \n",
       "4               8.0         automatic   four_wheel_drive              4.0   \n",
       "\n",
       "  market_category vehicle_size      vehicle_style  highway_mpg  city_mpg  \\\n",
       "0             NaN      compact              coupe           33        24   \n",
       "1       hatchback      compact      4dr_hatchback           32        25   \n",
       "2       hatchback      compact      4dr_hatchback           37        28   \n",
       "3             NaN        large  passenger_minivan           18        16   \n",
       "4       flex_fuel        large    crew_cab_pickup           21        15   \n",
       "\n",
       "   popularity  \n",
       "0        1385  \n",
       "1        2031  \n",
       "2         640  \n",
       "3         873  \n",
       "4        5657  "
      ]
     },
     "execution_count": 29,
     "metadata": {},
     "output_type": "execute_result"
    }
   ],
   "source": [
    "del df_test[\"msrp\"]\n",
    "del df_val[\"msrp\"]\n",
    "df_val.head()"
   ]
  },
  {
   "cell_type": "markdown",
   "id": "12fcee7e-15f0-42d7-9389-19370ff69a96",
   "metadata": {},
   "source": [
    "## Linear regression"
   ]
  },
  {
   "cell_type": "code",
   "execution_count": 30,
   "id": "9e3fce20-5421-40af-baa2-9413f36b7e3f",
   "metadata": {},
   "outputs": [
    {
     "data": {
      "text/plain": [
       "make                                 rolls-royce\n",
       "model                     phantom_drophead_coupe\n",
       "year                                        2015\n",
       "engine_fuel_type     premium_unleaded_(required)\n",
       "engine_hp                                  453.0\n",
       "engine_cylinders                            12.0\n",
       "transmission_type                      automatic\n",
       "driven_wheels                   rear_wheel_drive\n",
       "number_of_doors                              2.0\n",
       "market_category        exotic,luxury,performance\n",
       "vehicle_size                               large\n",
       "vehicle_style                        convertible\n",
       "highway_mpg                                   19\n",
       "city_mpg                                      11\n",
       "popularity                                    86\n",
       "Name: 10, dtype: object"
      ]
     },
     "execution_count": 30,
     "metadata": {},
     "output_type": "execute_result"
    }
   ],
   "source": [
    "# we can implement it manually as a function - \n",
    "# in case we have 3 features - engine_hp\tcity_mpg\tand popularity\n",
    "# we would need w0 - bias and weights vector\n",
    "\n",
    "w0 = 0\n",
    "w = [1, 1, 1]\n",
    "xi = [453, 11, 86] # we took it randomly from df_val.iloc[10]\n",
    "df_val.iloc[10]"
   ]
  },
  {
   "cell_type": "code",
   "execution_count": 31,
   "id": "311aa6ed-b1ba-4f5a-90ee-d7c224e9f5d5",
   "metadata": {},
   "outputs": [],
   "source": [
    "def linear_regression(xi):\n",
    "    n = len(xi) # length of our feature vector\n",
    "    \n",
    "    pred = w0 # we start our prediction with adding bias\n",
    "    \n",
    "    for j in range(n):\n",
    "        pred += w[j]*xi[j]\n",
    "\n",
    "    return pred\n",
    "    "
   ]
  },
  {
   "cell_type": "code",
   "execution_count": 32,
   "id": "6c48ae79-756e-4d98-b391-ff6030a15108",
   "metadata": {},
   "outputs": [
    {
     "data": {
      "text/plain": [
       "550"
      ]
     },
     "execution_count": 32,
     "metadata": {},
     "output_type": "execute_result"
    }
   ],
   "source": [
    "# lets predict with our weights and bias ))\n",
    "linear_regression(xi)"
   ]
  },
  {
   "cell_type": "code",
   "execution_count": 33,
   "id": "2ee84ffe-fe04-4214-8d2d-6cf860a1e88a",
   "metadata": {},
   "outputs": [
    {
     "data": {
      "text/plain": [
       "12.312"
      ]
     },
     "execution_count": 33,
     "metadata": {},
     "output_type": "execute_result"
    }
   ],
   "source": [
    "# if we know weights and biases than answer is better:\n",
    "w0 = 7.17\n",
    "w = [0.01, 0.04, 0.002]\n",
    "linear_regression(xi) # 12.312 - should be in our logariphmic scale..."
   ]
  },
  {
   "cell_type": "code",
   "execution_count": 34,
   "id": "d4466f3e-bce9-49cb-8fa7-6a5c7c4cebaf",
   "metadata": {},
   "outputs": [
    {
     "data": {
      "text/plain": [
       "222347"
      ]
     },
     "execution_count": 34,
     "metadata": {},
     "output_type": "execute_result"
    }
   ],
   "source": [
    "# real price - take exponent\n",
    "\n",
    "int(np.expm1(12.312)) # 222347 USD predicted\n",
    "# we use exponent minus 1 - np.expm1 function as before we did the log plus 1"
   ]
  },
  {
   "cell_type": "code",
   "execution_count": 35,
   "id": "18f03ad9-accd-4b20-82d8-a6e396dcb82b",
   "metadata": {},
   "outputs": [
    {
     "data": {
      "text/html": [
       "<div>\n",
       "<style scoped>\n",
       "    .dataframe tbody tr th:only-of-type {\n",
       "        vertical-align: middle;\n",
       "    }\n",
       "\n",
       "    .dataframe tbody tr th {\n",
       "        vertical-align: top;\n",
       "    }\n",
       "\n",
       "    .dataframe thead th {\n",
       "        text-align: right;\n",
       "    }\n",
       "</style>\n",
       "<table border=\"1\" class=\"dataframe\">\n",
       "  <thead>\n",
       "    <tr style=\"text-align: right;\">\n",
       "      <th></th>\n",
       "      <th>make</th>\n",
       "      <th>model</th>\n",
       "      <th>year</th>\n",
       "      <th>engine_fuel_type</th>\n",
       "      <th>engine_hp</th>\n",
       "      <th>engine_cylinders</th>\n",
       "      <th>transmission_type</th>\n",
       "      <th>driven_wheels</th>\n",
       "      <th>number_of_doors</th>\n",
       "      <th>market_category</th>\n",
       "      <th>vehicle_size</th>\n",
       "      <th>vehicle_style</th>\n",
       "      <th>highway_mpg</th>\n",
       "      <th>city_mpg</th>\n",
       "      <th>popularity</th>\n",
       "      <th>msrp</th>\n",
       "    </tr>\n",
       "  </thead>\n",
       "  <tbody>\n",
       "    <tr>\n",
       "      <th>7556</th>\n",
       "      <td>rolls-royce</td>\n",
       "      <td>phantom_drophead_coupe</td>\n",
       "      <td>2014</td>\n",
       "      <td>premium_unleaded_(required)</td>\n",
       "      <td>453.0</td>\n",
       "      <td>12.0</td>\n",
       "      <td>automatic</td>\n",
       "      <td>rear_wheel_drive</td>\n",
       "      <td>2.0</td>\n",
       "      <td>exotic,luxury,performance</td>\n",
       "      <td>large</td>\n",
       "      <td>convertible</td>\n",
       "      <td>19</td>\n",
       "      <td>11</td>\n",
       "      <td>86</td>\n",
       "      <td>474600</td>\n",
       "    </tr>\n",
       "    <tr>\n",
       "      <th>7557</th>\n",
       "      <td>rolls-royce</td>\n",
       "      <td>phantom_drophead_coupe</td>\n",
       "      <td>2015</td>\n",
       "      <td>premium_unleaded_(required)</td>\n",
       "      <td>453.0</td>\n",
       "      <td>12.0</td>\n",
       "      <td>automatic</td>\n",
       "      <td>rear_wheel_drive</td>\n",
       "      <td>2.0</td>\n",
       "      <td>exotic,luxury,performance</td>\n",
       "      <td>large</td>\n",
       "      <td>convertible</td>\n",
       "      <td>19</td>\n",
       "      <td>11</td>\n",
       "      <td>86</td>\n",
       "      <td>479775</td>\n",
       "    </tr>\n",
       "    <tr>\n",
       "      <th>7558</th>\n",
       "      <td>rolls-royce</td>\n",
       "      <td>phantom_drophead_coupe</td>\n",
       "      <td>2016</td>\n",
       "      <td>premium_unleaded_(required)</td>\n",
       "      <td>453.0</td>\n",
       "      <td>12.0</td>\n",
       "      <td>automatic</td>\n",
       "      <td>rear_wheel_drive</td>\n",
       "      <td>2.0</td>\n",
       "      <td>exotic,luxury,performance</td>\n",
       "      <td>large</td>\n",
       "      <td>convertible</td>\n",
       "      <td>19</td>\n",
       "      <td>11</td>\n",
       "      <td>86</td>\n",
       "      <td>492000</td>\n",
       "    </tr>\n",
       "  </tbody>\n",
       "</table>\n",
       "</div>"
      ],
      "text/plain": [
       "             make                   model  year             engine_fuel_type  \\\n",
       "7556  rolls-royce  phantom_drophead_coupe  2014  premium_unleaded_(required)   \n",
       "7557  rolls-royce  phantom_drophead_coupe  2015  premium_unleaded_(required)   \n",
       "7558  rolls-royce  phantom_drophead_coupe  2016  premium_unleaded_(required)   \n",
       "\n",
       "      engine_hp  engine_cylinders transmission_type     driven_wheels  \\\n",
       "7556      453.0              12.0         automatic  rear_wheel_drive   \n",
       "7557      453.0              12.0         automatic  rear_wheel_drive   \n",
       "7558      453.0              12.0         automatic  rear_wheel_drive   \n",
       "\n",
       "      number_of_doors            market_category vehicle_size vehicle_style  \\\n",
       "7556              2.0  exotic,luxury,performance        large   convertible   \n",
       "7557              2.0  exotic,luxury,performance        large   convertible   \n",
       "7558              2.0  exotic,luxury,performance        large   convertible   \n",
       "\n",
       "      highway_mpg  city_mpg  popularity    msrp  \n",
       "7556           19        11          86  474600  \n",
       "7557           19        11          86  479775  \n",
       "7558           19        11          86  492000  "
      ]
     },
     "execution_count": 35,
     "metadata": {},
     "output_type": "execute_result"
    }
   ],
   "source": [
    "# real price is 479775 - ai ai ai ))\n",
    "\n",
    "df[df.model == 'phantom_drophead_coupe']"
   ]
  },
  {
   "cell_type": "markdown",
   "id": "176398c5-398a-4690-808e-f3cf3c929f96",
   "metadata": {},
   "source": [
    "## Linear regression in vector form"
   ]
  },
  {
   "cell_type": "code",
   "execution_count": 36,
   "id": "0ad012ae-4560-435f-b97b-2692fd13c990",
   "metadata": {},
   "outputs": [],
   "source": [
    "# we start with dot product function as we did before:\n",
    "\n",
    "def dot(xi, w):\n",
    "    res = 0.0\n",
    "    \n",
    "    n = len(xi) # length of our feature vector\n",
    "    \n",
    "    for j in range(n):\n",
    "        res += w[j]*xi[j]\n",
    "\n",
    "    return res\n"
   ]
  },
  {
   "cell_type": "code",
   "execution_count": 37,
   "id": "ca804a05-c93a-429d-a85e-845efbb3aabe",
   "metadata": {},
   "outputs": [],
   "source": [
    "def linear_regression(xi):\n",
    "    return w0 + dot(xi, w)"
   ]
  },
  {
   "cell_type": "code",
   "execution_count": 38,
   "id": "77f59f20-9ac3-4760-9440-bcd7a219fedf",
   "metadata": {},
   "outputs": [
    {
     "data": {
      "text/plain": [
       "12.312000000000001"
      ]
     },
     "execution_count": 38,
     "metadata": {},
     "output_type": "execute_result"
    }
   ],
   "source": [
    "# test it:\n",
    "linear_regression(xi) # still 12.312 ..."
   ]
  },
  {
   "cell_type": "code",
   "execution_count": 39,
   "id": "4440f902-3d6a-42a9-b9f9-d64eb6574b28",
   "metadata": {},
   "outputs": [
    {
     "data": {
      "text/plain": [
       "[7.17, 0.01, 0.04, 0.002]"
      ]
     },
     "execution_count": 39,
     "metadata": {},
     "output_type": "execute_result"
    }
   ],
   "source": [
    "# how to bring bias w0 to other vectors/weights - just add new feature which is always 1:\n",
    "\n",
    "w_new = [w0] + w # or use list extend method...\n",
    "w_new # [7.17, 0.01, 0.04, 0.002]"
   ]
  },
  {
   "cell_type": "code",
   "execution_count": 40,
   "id": "9b3bd5ea-387d-4bd1-bb74-1fbe3ba99c7e",
   "metadata": {},
   "outputs": [],
   "source": [
    "def linear_regression(xi):\n",
    "    xi = [1] + xi\n",
    "    return dot(xi, w_new)"
   ]
  },
  {
   "cell_type": "code",
   "execution_count": 41,
   "id": "c0830552-8df9-410c-bb3e-817d96c78631",
   "metadata": {},
   "outputs": [
    {
     "data": {
      "text/plain": [
       "12.312"
      ]
     },
     "execution_count": 41,
     "metadata": {},
     "output_type": "execute_result"
    }
   ],
   "source": [
    "# test it:\n",
    "linear_regression(xi) # still 12.312 ..."
   ]
  },
  {
   "cell_type": "code",
   "execution_count": 42,
   "id": "35f31bcf-fa8f-40bf-b215-455ac6ab3aa5",
   "metadata": {},
   "outputs": [
    {
     "data": {
      "text/plain": [
       "array([[   1,  124,   46, 3998],\n",
       "       [   1,  134,   41, 4998],\n",
       "       [   1,  453,   11,   86]])"
      ]
     },
     "execution_count": 42,
     "metadata": {},
     "output_type": "execute_result"
    }
   ],
   "source": [
    "# matrix - vector multiplication for many cars prediction:\n",
    "x1  = [1, 124, 46, 3998 ]\n",
    "x2  = [1, 134, 41, 4998 ]\n",
    "x10 = [1, 453, 11, 86  ]\n",
    "\n",
    "X = [x1, x2, x10] # list of lists\n",
    "X = np.array(X)\n",
    "X"
   ]
  },
  {
   "cell_type": "code",
   "execution_count": 43,
   "id": "0c6a64af-9059-4cfa-9a71-518d83127c16",
   "metadata": {},
   "outputs": [],
   "source": [
    "# and our regression function will be \n",
    "def linear_regression(X):\n",
    "    return X.dot(w_new)"
   ]
  },
  {
   "cell_type": "code",
   "execution_count": 44,
   "id": "d92af13e-ab5a-46df-a992-d14c3380e018",
   "metadata": {},
   "outputs": [
    {
     "data": {
      "text/plain": [
       "array([18.246, 20.146, 12.312])"
      ]
     },
     "execution_count": 44,
     "metadata": {},
     "output_type": "execute_result"
    }
   ],
   "source": [
    "linear_regression(X) # array([18.246, 20.146, 12.312]) - we predicted car prices for 3 cars"
   ]
  },
  {
   "cell_type": "markdown",
   "id": "7e67a0b2-fc30-4e02-bf41-905f782b6948",
   "metadata": {},
   "source": [
    "## Training a linear regression model"
   ]
  },
  {
   "cell_type": "code",
   "execution_count": 45,
   "id": "c90ff874-de49-41de-8e05-e2f8b3331854",
   "metadata": {},
   "outputs": [],
   "source": [
    "def train_linear_regression(X):\n",
    "    pass"
   ]
  },
  {
   "cell_type": "code",
   "execution_count": 46,
   "id": "5825be28-deaa-433d-9102-4bac8fd5fa91",
   "metadata": {},
   "outputs": [
    {
     "data": {
      "text/plain": [
       "array([[ 124,   46, 3998],\n",
       "       [ 134,   41, 4998],\n",
       "       [ 453,   11,   86],\n",
       "       [ 224,   46, 3998],\n",
       "       [ 234,   41, 4998],\n",
       "       [ 253,   11,   86],\n",
       "       [ 324,   46, 3998],\n",
       "       [ 334,   41, 4998],\n",
       "       [ 453,   11,   86]])"
      ]
     },
     "execution_count": 46,
     "metadata": {},
     "output_type": "execute_result"
    }
   ],
   "source": [
    "X = [\n",
    "    [124, 46, 3998 ],\n",
    "    [134, 41, 4998 ],\n",
    "    [453, 11, 86  ],\n",
    "    [224, 46, 3998 ],\n",
    "    [234, 41, 4998 ],\n",
    "    [253, 11, 86  ],\n",
    "    [324, 46, 3998 ],\n",
    "    [334, 41, 4998 ],\n",
    "    [453, 11, 86  ]\n",
    "]\n",
    "\n",
    "X = np.array(X)\n",
    "X # prepare fake data"
   ]
  },
  {
   "cell_type": "code",
   "execution_count": 47,
   "id": "c4497d1b-4723-4b0b-8c8e-c2caabb600b4",
   "metadata": {},
   "outputs": [
    {
     "data": {
      "text/plain": [
       "array([1., 1., 1., 1., 1., 1., 1., 1., 1.])"
      ]
     },
     "execution_count": 47,
     "metadata": {},
     "output_type": "execute_result"
    }
   ],
   "source": [
    "# Lets include the bias term - how much car should cost if we know nothing about it - \n",
    "# e.g. all weights are zero\n",
    "\n",
    "ones = np.ones(X.shape[0])\n",
    "ones"
   ]
  },
  {
   "cell_type": "code",
   "execution_count": 48,
   "id": "c49dae8c-1fe1-4777-9aa0-db8e4e26e219",
   "metadata": {},
   "outputs": [
    {
     "data": {
      "text/plain": [
       "array([[1.000e+00, 1.240e+02, 4.600e+01, 3.998e+03],\n",
       "       [1.000e+00, 1.340e+02, 4.100e+01, 4.998e+03],\n",
       "       [1.000e+00, 4.530e+02, 1.100e+01, 8.600e+01],\n",
       "       [1.000e+00, 2.240e+02, 4.600e+01, 3.998e+03],\n",
       "       [1.000e+00, 2.340e+02, 4.100e+01, 4.998e+03],\n",
       "       [1.000e+00, 2.530e+02, 1.100e+01, 8.600e+01],\n",
       "       [1.000e+00, 3.240e+02, 4.600e+01, 3.998e+03],\n",
       "       [1.000e+00, 3.340e+02, 4.100e+01, 4.998e+03],\n",
       "       [1.000e+00, 4.530e+02, 1.100e+01, 8.600e+01]])"
      ]
     },
     "execution_count": 48,
     "metadata": {},
     "output_type": "execute_result"
    }
   ],
   "source": [
    "X = np.column_stack([ones, X])\n",
    "X"
   ]
  },
  {
   "cell_type": "code",
   "execution_count": 49,
   "id": "3bd62180-1ffb-4b3b-b531-f323f8f4fdf8",
   "metadata": {},
   "outputs": [
    {
     "data": {
      "text/plain": [
       "array([[9.00000000e+00, 2.53300000e+03, 2.94000000e+02, 2.72460000e+04],\n",
       "       [2.53300000e+03, 8.29223000e+05, 7.24430000e+04, 6.29492600e+06],\n",
       "       [2.94000000e+02, 7.24430000e+04, 1.17540000e+04, 1.16931600e+06],\n",
       "       [2.72460000e+04, 6.29492600e+06, 1.16931600e+06, 1.22914212e+08]])"
      ]
     },
     "execution_count": 49,
     "metadata": {},
     "output_type": "execute_result"
    }
   ],
   "source": [
    "XTX = X.T.dot(X) # Gram matrix\n",
    "XTX"
   ]
  },
  {
   "cell_type": "code",
   "execution_count": 50,
   "id": "cdad5587-b3aa-42bf-ba9b-2e46696fe8c9",
   "metadata": {},
   "outputs": [],
   "source": [
    "XTX_inv = np.linalg.inv(XTX) # inverse Gram matrix"
   ]
  },
  {
   "cell_type": "code",
   "execution_count": 51,
   "id": "e49a4708-f006-49b3-8bde-ff2f8227df53",
   "metadata": {},
   "outputs": [
    {
     "data": {
      "text/plain": [
       "array([[ 1., -0., -0.,  0.],\n",
       "       [-0.,  1., -0.,  0.],\n",
       "       [-0., -0.,  1.,  0.],\n",
       "       [-0., -0., -0.,  1.]])"
      ]
     },
     "execution_count": 51,
     "metadata": {},
     "output_type": "execute_result"
    }
   ],
   "source": [
    "# An identity matrix, denoted by I or I\\_n, is a square matrix with ones on its main diagonal and zeros everywhere else.\n",
    "# It is the multiplicative identity for matrices, meaning that any matrix multiplied by the identity matrix \n",
    "# of the same dimension remains unchanged\n",
    "\n",
    "XTX.dot(XTX_inv).round(1) # quick check if we get an identity matrix with 1s in diagonal\n",
    "# this is correct - 1s in diagonal - so we truly found the inverse matrix for XTX..."
   ]
  },
  {
   "cell_type": "code",
   "execution_count": 52,
   "id": "2436f06b-208d-4d04-a0e0-a76e6064c457",
   "metadata": {},
   "outputs": [],
   "source": [
    "# lets create fake prices y\n",
    "y = [100, 200, 150, 250, 100, 200, 150, 250, 10 ]"
   ]
  },
  {
   "cell_type": "code",
   "execution_count": 53,
   "id": "97b3a8d8-7b12-427a-9f98-aa274d94756f",
   "metadata": {},
   "outputs": [
    {
     "data": {
      "text/plain": [
       "array([ 1.60940188e+02, -9.00000000e-02, -6.71996579e-01,  1.42066838e-02])"
      ]
     },
     "execution_count": 53,
     "metadata": {},
     "output_type": "execute_result"
    }
   ],
   "source": [
    "# lets calculate weights\n",
    "w_full = XTX_inv.dot(X.T).dot(y)\n",
    "w_full # array([ 1.60940188e+02, -9.00000000e-02, -6.71996579e-01,  1.42066838e-02])"
   ]
  },
  {
   "cell_type": "code",
   "execution_count": 54,
   "id": "c200b7cf-bb2a-44af-9c10-a87932619fd8",
   "metadata": {},
   "outputs": [
    {
     "data": {
      "text/plain": [
       "(np.float64(160.9401875610984), array([-0.09      , -0.67199658,  0.01420668]))"
      ]
     },
     "execution_count": 54,
     "metadata": {},
     "output_type": "execute_result"
    }
   ],
   "source": [
    "w0 = w_full[0]\n",
    "w = w_full[1:]\n",
    "w0, w"
   ]
  },
  {
   "cell_type": "code",
   "execution_count": 55,
   "id": "6f7df7f6-615b-47bb-ac7c-95a279108b24",
   "metadata": {},
   "outputs": [],
   "source": [
    "def train_linear_regression(X, y):\n",
    "    ones = np.ones(X.shape[0])\n",
    "    X = np.column_stack([ones, X])\n",
    "    XTX = X.T.dot(X) # Gram matrix\n",
    "    XTX_inv = np.linalg.inv(XTX) # inverse Gram matrix\n",
    "    w_full = XTX_inv.dot(X.T).dot(y)\n",
    "    w0 = w_full[0]\n",
    "    w = w_full[1:]\n",
    "    return w0, w"
   ]
  },
  {
   "cell_type": "code",
   "execution_count": 56,
   "id": "3a836ed1-17c4-4728-9ea0-2ecef3684a2b",
   "metadata": {},
   "outputs": [
    {
     "data": {
      "text/plain": [
       "(np.float64(160.9401875610984), array([-0.09      , -0.67199658,  0.01420668]))"
      ]
     },
     "execution_count": 56,
     "metadata": {},
     "output_type": "execute_result"
    }
   ],
   "source": [
    "X = [\n",
    "    [124, 46, 3998 ],\n",
    "    [134, 41, 4998 ],\n",
    "    [453, 11, 86  ],\n",
    "    [224, 46, 3998 ],\n",
    "    [234, 41, 4998 ],\n",
    "    [253, 11, 86  ],\n",
    "    [324, 46, 3998 ],\n",
    "    [334, 41, 4998 ],\n",
    "    [453, 11, 86  ]\n",
    "]\n",
    "\n",
    "X = np.array(X)\n",
    "X # prepare fake data\n",
    "\n",
    "\n",
    "train_linear_regression(X, y) # same as before...."
   ]
  },
  {
   "cell_type": "markdown",
   "id": "adec236c-21de-4cf2-b6af-11c6e2a3f842",
   "metadata": {},
   "source": [
    "## Car price baseline model"
   ]
  },
  {
   "cell_type": "code",
   "execution_count": 57,
   "id": "74135c31-efee-4850-9e74-a71bfb6e7d6c",
   "metadata": {},
   "outputs": [
    {
     "data": {
      "text/plain": [
       "make                  object\n",
       "model                 object\n",
       "year                   int64\n",
       "engine_fuel_type      object\n",
       "engine_hp            float64\n",
       "engine_cylinders     float64\n",
       "transmission_type     object\n",
       "driven_wheels         object\n",
       "number_of_doors      float64\n",
       "market_category       object\n",
       "vehicle_size          object\n",
       "vehicle_style         object\n",
       "highway_mpg            int64\n",
       "city_mpg               int64\n",
       "popularity             int64\n",
       "dtype: object"
      ]
     },
     "execution_count": 57,
     "metadata": {},
     "output_type": "execute_result"
    }
   ],
   "source": [
    "# video https://www.youtube.com/watch?v=SvPpMMYtYbU&list=PL3MmuxUbc_hIhxl5Ji8t4O6lPAOpHaCLR&index=20\n",
    "\n",
    "# starting with numerical columns - to train our model v0\n",
    "df_train.dtypes"
   ]
  },
  {
   "cell_type": "code",
   "execution_count": 58,
   "id": "4f585eb5-c379-4d27-aac5-0e0fe1c9613f",
   "metadata": {},
   "outputs": [
    {
     "data": {
      "text/plain": [
       "array([ 9.70479268, 10.09187401,  9.79818259, ..., 10.27852782,\n",
       "       10.00789261, 10.40414162], shape=(7150,))"
      ]
     },
     "execution_count": 58,
     "metadata": {},
     "output_type": "execute_result"
    }
   ],
   "source": [
    "base = ['engine_hp', 'engine_cylinders', 'highway_mpg', 'city_mpg', 'popularity']\n",
    "X_train = df_train[base].values\n",
    "# X\n",
    "y_train # we have it already - our rmse - prices"
   ]
  },
  {
   "cell_type": "code",
   "execution_count": 59,
   "id": "2cf127f2-e2c6-40ba-b5b2-b80169fee37a",
   "metadata": {},
   "outputs": [
    {
     "data": {
      "text/plain": [
       "(np.float64(nan), array([nan, nan, nan, nan, nan]))"
      ]
     },
     "execution_count": 59,
     "metadata": {},
     "output_type": "execute_result"
    }
   ],
   "source": [
    "# if we run train_linear_regression(X, y) now we will got nan because of missing values\n",
    "\n",
    "train_linear_regression(X_train, y_train)\n",
    "# (np.float64(nan), array([nan, nan, nan, nan, nan]))"
   ]
  },
  {
   "cell_type": "code",
   "execution_count": 60,
   "id": "7b3a9f9c-0b86-4572-970d-721ab3918235",
   "metadata": {},
   "outputs": [
    {
     "data": {
      "text/plain": [
       "engine_hp           43\n",
       "engine_cylinders    20\n",
       "highway_mpg          0\n",
       "city_mpg             0\n",
       "popularity           0\n",
       "dtype: int64"
      ]
     },
     "execution_count": 60,
     "metadata": {},
     "output_type": "execute_result"
    }
   ],
   "source": [
    "df_train[base].isnull().sum()\n",
    "# missing values in engine_hp   43\n",
    "# and engine_cylinders    20"
   ]
  },
  {
   "cell_type": "code",
   "execution_count": 61,
   "id": "2ec8c041-67a2-498c-8a26-72c43b47c283",
   "metadata": {},
   "outputs": [],
   "source": [
    "# df_train[base].fillna(0) #.isnull().sum() # we fill missing values with zeroes and model will ignore these features inside instances / observations\n",
    "X_train = df_train[base].fillna(0).values\n",
    "w0, w = train_linear_regression(X_train, y_train)"
   ]
  },
  {
   "cell_type": "code",
   "execution_count": 62,
   "id": "609175a4-1aca-4155-b187-0506a08b2e47",
   "metadata": {},
   "outputs": [
    {
     "data": {
      "text/plain": [
       "(np.float64(7.963556475096456),\n",
       " array([ 9.20710435e-03, -1.38559726e-01,  1.61265908e-02,  1.22881992e-02,\n",
       "        -1.11571602e-05]))"
      ]
     },
     "execution_count": 62,
     "metadata": {},
     "output_type": "execute_result"
    }
   ],
   "source": [
    "w0, w # we got bias w0 and weights w:\n",
    "# (np.float64(7.963556475096456),\n",
    "#  array([ 9.20710435e-03, -1.38559726e-01,  1.61265908e-02,  1.22881992e-02,\n",
    "#         -1.11571602e-05]))"
   ]
  },
  {
   "cell_type": "code",
   "execution_count": 63,
   "id": "23cab5cd-5bb4-4d7d-97c6-2ef5938dc776",
   "metadata": {},
   "outputs": [],
   "source": [
    "# lets do some predictions with our weights\n",
    "\n",
    "y_pred = w0 + X_train.dot(w)"
   ]
  },
  {
   "cell_type": "code",
   "execution_count": 64,
   "id": "aae3decd-c92d-40b9-86c1-75b4377fb669",
   "metadata": {},
   "outputs": [
    {
     "data": {
      "text/plain": [
       "<Axes: ylabel='Count'>"
      ]
     },
     "execution_count": 64,
     "metadata": {},
     "output_type": "execute_result"
    },
    {
     "data": {
      "image/png": "[encoded data removed]",
      "text/plain": [
       "<Figure size 640x480 with 1 Axes>"
      ]
     },
     "metadata": {},
     "output_type": "display_data"
    }
   ],
   "source": [
    "# we can plot predicted price against our actual price - RMSE\n",
    "sns.histplot(y_pred, color='red', alpha=0.5, bins=50)\n",
    "sns.histplot(y_train, color='blue', alpha=0.5, bins=50)"
   ]
  },
  {
   "cell_type": "markdown",
   "id": "cea865b3-e794-488c-b6a4-ab8da46e6fd4",
   "metadata": {},
   "source": [
    "## RMSE"
   ]
  },
  {
   "cell_type": "code",
   "execution_count": 65,
   "id": "df0cb1ce-4d6b-4a14-9741-daad0306c7b0",
   "metadata": {},
   "outputs": [],
   "source": [
    "# as we can see our model is a bit off - because original distribution has 2 hills \n",
    "# but our predicted linear model is bell-shaped curve... RMSE is a formal way to measure the prediction error\n",
    "\n",
    "def rmse(y, y_pred):\n",
    "    error = y - y_pred\n",
    "    se = error ** 2\n",
    "    mse = se.mean() # here we use numpy for vectors, so mean method is built-in\n",
    "    rmse = np.sqrt(mse)\n",
    "    return rmse"
   ]
  },
  {
   "cell_type": "code",
   "execution_count": 66,
   "id": "175807e3-0793-438b-83cd-e1e863793c69",
   "metadata": {},
   "outputs": [
    {
     "data": {
      "text/plain": [
       "np.float64(0.745130516822012)"
      ]
     },
     "execution_count": 66,
     "metadata": {},
     "output_type": "execute_result"
    }
   ],
   "source": [
    "rmse(y_pred, y_train)"
   ]
  },
  {
   "cell_type": "markdown",
   "id": "115c5fe2-89b5-4f9c-8d62-9e3817c99268",
   "metadata": {},
   "source": [
    "## Validating the model"
   ]
  },
  {
   "cell_type": "code",
   "execution_count": 67,
   "id": "a6a5d566-ed0c-47c2-967e-260dc7421721",
   "metadata": {},
   "outputs": [
    {
     "data": {
      "text/plain": [
       "array([ 9.58361063,  9.42525104,  9.70558187, ...,  9.99554516,\n",
       "       10.6031682 ,  9.56418114], shape=(2382,))"
      ]
     },
     "execution_count": 67,
     "metadata": {},
     "output_type": "execute_result"
    }
   ],
   "source": [
    "# because we built a baseline model with 5 numerical features we can valudate it now on val dataset with our rmse function\n",
    "\n",
    "# lets do some predictions with our weights first\n",
    "\n",
    "X_val = df_val[base].fillna(0).values\n",
    "y_pred_val = w0 + X_val.dot(w)\n",
    "y_pred_val"
   ]
  },
  {
   "cell_type": "code",
   "execution_count": 68,
   "id": "46f9ecc6-fdc6-4414-ae18-720f6fb486ee",
   "metadata": {},
   "outputs": [
    {
     "data": {
      "text/plain": [
       "np.float64(0.7419381478118967)"
      ]
     },
     "execution_count": 68,
     "metadata": {},
     "output_type": "execute_result"
    }
   ],
   "source": [
    "rmse(y_val, y_pred_val) # np.float64(0.7419381478118967)"
   ]
  },
  {
   "cell_type": "code",
   "execution_count": 69,
   "id": "19e8f559-db79-457e-b7c2-7736f62b8afe",
   "metadata": {},
   "outputs": [],
   "source": [
    "# or we can also do it like in video:\n",
    "base = ['engine_hp', 'engine_cylinders', 'highway_mpg', 'city_mpg', 'popularity']\n",
    "\n",
    "def prepare_X(df):\n",
    "    # we will use this function to prepare any dataset, not only for training or testing\n",
    "    df_num = df[base]\n",
    "    df_num = df_num.fillna(0)\n",
    "    X = df_num.values\n",
    "    return X\n"
   ]
  },
  {
   "cell_type": "code",
   "execution_count": 70,
   "id": "23458ca6-4002-4357-b2ac-362df8306fa8",
   "metadata": {},
   "outputs": [
    {
     "data": {
      "text/plain": [
       "np.float64(0.7419381478118967)"
      ]
     },
     "execution_count": 70,
     "metadata": {},
     "output_type": "execute_result"
    }
   ],
   "source": [
    "# all our workflow in 1 cell - ML pipeline )):\n",
    "X_train = prepare_X(df_train)\n",
    "w0, w = train_linear_regression(X_train, y_train)\n",
    "\n",
    "X_val = prepare_X(df_val)\n",
    "y_pred = w0 + X_val.dot(w)\n",
    "\n",
    "rmse(y_val, y_pred) # same as before - np.float64(0.7419381478118967)"
   ]
  },
  {
   "cell_type": "markdown",
   "id": "723f43d9-740d-429c-9def-81fedbb1169b",
   "metadata": {},
   "source": [
    "## Simple feature engineering"
   ]
  },
  {
   "cell_type": "code",
   "execution_count": 71,
   "id": "b0bc0ee0-72b7-4801-8a76-5fdb43a230ea",
   "metadata": {},
   "outputs": [],
   "source": [
    "# we used only 5 numrical features earler, but we missed age of the car - could be important parameter...\n",
    "\n",
    "base = ['engine_hp', 'engine_cylinders', 'highway_mpg', 'city_mpg', 'popularity'] # called base because we DO NOT modify these features...\n",
    "\n",
    "def prepare_X(df):\n",
    "    # we will use this function to prepare any dataset, not only for training or testing\n",
    "    # adding new calculated feature - age of the car:\n",
    "    df = df.copy() # if not using copy then new column age will appear in our dataframe...\n",
    "    df['age'] = 2017 - df.year # we assumed that today is year of 2017 here - and age of the car built in 2017 is 0\n",
    "    features = base + ['age']\n",
    "    df_num = df[features]\n",
    "    df_num = df_num.fillna(0)\n",
    "    X = df_num.values\n",
    "    return X\n",
    "\n"
   ]
  },
  {
   "cell_type": "code",
   "execution_count": 72,
   "id": "96637ea4-9aa3-44a9-9e99-1e165d3c2824",
   "metadata": {},
   "outputs": [
    {
     "data": {
      "text/plain": [
       "np.float64(0.5222394405268987)"
      ]
     },
     "execution_count": 72,
     "metadata": {},
     "output_type": "execute_result"
    }
   ],
   "source": [
    "# all our workflow in 1 cell - ML pipeline )):\n",
    "X_train = prepare_X(df_train)\n",
    "w0, w = train_linear_regression(X_train, y_train)\n",
    "\n",
    "X_val = prepare_X(df_val)\n",
    "y_pred = w0 + X_val.dot(w)\n",
    "\n",
    "rmse(y_val, y_pred) # before - np.float64(0.7419381478118967)\n",
    "# after age is added RMSE is better (error is smaller) - np.float64(0.5222394405268987)"
   ]
  },
  {
   "cell_type": "code",
   "execution_count": 73,
   "id": "105ed6a7-92ed-48b2-b2c2-e4c3906d294a",
   "metadata": {},
   "outputs": [
    {
     "data": {
      "text/plain": [
       "<Axes: ylabel='Count'>"
      ]
     },
     "execution_count": 73,
     "metadata": {},
     "output_type": "execute_result"
    },
    {
     "data": {
      "image/png": "[encoded data removed]",
      "text/plain": [
       "<Figure size 640x480 with 1 Axes>"
      ]
     },
     "metadata": {},
     "output_type": "display_data"
    }
   ],
   "source": [
    "# df_train.dtypes # now it is good\n",
    "# technically we added new column to our dataframe: age int64 before\n",
    "# del df_train['age'] # and we can remove it like so\n",
    "\n",
    "# lets plot our new predictions vs ground truth:\n",
    "\n",
    "sns.histplot(y_pred, color='red', alpha=0.5, bins=50)\n",
    "sns.histplot(y_val, color='blue', alpha=0.5, bins=50)"
   ]
  },
  {
   "cell_type": "code",
   "execution_count": 74,
   "id": "314e2b22-8c47-49af-a009-403f4de29be3",
   "metadata": {},
   "outputs": [],
   "source": [
    "# our picture now looks a bit better..."
   ]
  },
  {
   "cell_type": "markdown",
   "id": "49751ece-7835-4233-82b4-3bc146f83f9a",
   "metadata": {},
   "source": [
    "## Categorical variables"
   ]
  },
  {
   "cell_type": "code",
   "execution_count": 75,
   "id": "31b9b376-83e3-42f4-a616-70138a9cb400",
   "metadata": {},
   "outputs": [
    {
     "data": {
      "text/plain": [
       "0       1\n",
       "1       1\n",
       "2       0\n",
       "3       0\n",
       "4       1\n",
       "       ..\n",
       "7145    0\n",
       "7146    1\n",
       "7147    1\n",
       "7148    1\n",
       "7149    1\n",
       "Name: number_of_doors, Length: 7150, dtype: int64"
      ]
     },
     "execution_count": 75,
     "metadata": {},
     "output_type": "execute_result"
    }
   ],
   "source": [
    "(df_train.number_of_doors == 4).astype(int) \n",
    "# we use this trick to create 1-0 columns for categorical variables — method called One Hot Encoding"
   ]
  },
  {
   "cell_type": "code",
   "execution_count": 76,
   "id": "ae1e78ea-9d55-415f-9c11-367bafe47155",
   "metadata": {},
   "outputs": [
    {
     "data": {
      "text/plain": [
       "'num_doors4'"
      ]
     },
     "execution_count": 76,
     "metadata": {},
     "output_type": "execute_result"
    }
   ],
   "source": [
    "# another Python trick - string replacement\n",
    "\"num_doors%s\" %4 # 'num_doors4'"
   ]
  },
  {
   "cell_type": "code",
   "execution_count": 77,
   "id": "c9718697-874a-4b50-abe0-39b879eea2b7",
   "metadata": {},
   "outputs": [],
   "source": [
    "# we can modify our data prep function to add categorical one hot encoded features like so:\n",
    "\n",
    "base = ['engine_hp', 'engine_cylinders', 'highway_mpg', 'city_mpg', 'popularity'] # called base because we DO NOT modify these features...\n",
    "\n",
    "def prepare_X(df):\n",
    "    # we will use this function to prepare any dataset, not only for training or testing\n",
    "    # adding new calculated feature - age of the car:\n",
    "    df = df.copy() # if not using copy then new column age will appear in our dataframe...\n",
    "    \n",
    "    df['age'] = 2017 - df.year # we assumed that today is year of 2017 here - and age of the car built in 2017 is 0\n",
    "    \n",
    "    features = base + ['age']\n",
    "    \n",
    "    for v in [2, 3, 4]:\n",
    "        df[\"num_doors%s\" % v] = (df_train.number_of_doors == v).astype('int')\n",
    "        features.append(\"num_doors%s\" % v)\n",
    "\n",
    "    # print(df.head())\n",
    "    # print(features)\n",
    "    df_num = df[features]\n",
    "    df_num = df_num.fillna(0)\n",
    "    X = df_num.values\n",
    "    return X\n",
    "\n"
   ]
  },
  {
   "cell_type": "code",
   "execution_count": 78,
   "id": "88abd4e4-f0b5-47bb-9a52-6b893b89819c",
   "metadata": {},
   "outputs": [
    {
     "data": {
      "text/plain": [
       "np.float64(0.5260831203105211)"
      ]
     },
     "execution_count": 78,
     "metadata": {},
     "output_type": "execute_result"
    }
   ],
   "source": [
    "# all our workflow in 1 cell - ML pipeline )):\n",
    "X_train = prepare_X(df_train)\n",
    "w0, w = train_linear_regression(X_train, y_train)\n",
    "\n",
    "X_val = prepare_X(df_val)\n",
    "y_pred = w0 + X_val.dot(w)\n",
    "\n",
    "rmse(y_val, y_pred) # np.float64(0.5260831203105211)"
   ]
  },
  {
   "cell_type": "code",
   "execution_count": 79,
   "id": "8b6a7c1b-61c1-4f06-b0b4-562cdb8209d4",
   "metadata": {},
   "outputs": [
    {
     "data": {
      "text/plain": [
       "<Axes: ylabel='Count'>"
      ]
     },
     "execution_count": 79,
     "metadata": {},
     "output_type": "execute_result"
    },
    {
     "data": {
      "image/png": "[encoded data removed]",
      "text/plain": [
       "<Figure size 640x480 with 1 Axes>"
      ]
     },
     "metadata": {},
     "output_type": "display_data"
    }
   ],
   "source": [
    "# after adding number of doors we got no improvement in RMSE np.float64(0.5260831203105211)\n",
    "sns.histplot(y_pred, color='red', alpha=0.5, bins=50)\n",
    "sns.histplot(y_val, color='blue', alpha=0.5, bins=50)"
   ]
  },
  {
   "cell_type": "code",
   "execution_count": 80,
   "id": "9735ac7b-16f1-44c3-a5c6-7b8228bbb84c",
   "metadata": {},
   "outputs": [
    {
     "data": {
      "text/plain": [
       "make\n",
       "chevrolet     1123\n",
       "ford           881\n",
       "volkswagen     809\n",
       "toyota         746\n",
       "dodge          626\n",
       "Name: count, dtype: int64"
      ]
     },
     "execution_count": 80,
     "metadata": {},
     "output_type": "execute_result"
    }
   ],
   "source": [
    "# adding car make to our model\n",
    "# video https://www.youtube.com/watch?v=sGLAToAAMa4&list=PL3MmuxUbc_hIhxl5Ji8t4O6lPAOpHaCLR&index=24\n",
    "# Homework deadline extended!\n",
    "# We’re extending the deadline for Homework 2 until Wednesday, October 8.\n",
    "\n",
    "df.make.value_counts().head()"
   ]
  },
  {
   "cell_type": "code",
   "execution_count": 81,
   "id": "950f6950-5dbe-410b-b4dd-887eefe2403c",
   "metadata": {},
   "outputs": [
    {
     "data": {
      "text/plain": [
       "48"
      ]
     },
     "execution_count": 81,
     "metadata": {},
     "output_type": "execute_result"
    }
   ],
   "source": [
    "df.make.nunique() # 48 - lots of different cars..."
   ]
  },
  {
   "cell_type": "code",
   "execution_count": 82,
   "id": "af3519c2-cd18-4a47-90d1-484ff9cced8d",
   "metadata": {},
   "outputs": [
    {
     "data": {
      "text/plain": [
       "['chevrolet', 'ford', 'volkswagen', 'toyota', 'dodge']"
      ]
     },
     "execution_count": 82,
     "metadata": {},
     "output_type": "execute_result"
    }
   ],
   "source": [
    "# we can take only top car makes if needed:\n",
    "makes = list(df.make.value_counts().head().index)\n",
    "# ['chevrolet', 'ford', 'volkswagen', 'toyota', 'dodge']\n",
    "makes"
   ]
  },
  {
   "cell_type": "code",
   "execution_count": 83,
   "id": "2e7500c1-883c-405b-831d-15a04952f551",
   "metadata": {},
   "outputs": [],
   "source": [
    "# we can modify our data prep function again to add categorical one hot encoded features ...\n",
    "\n",
    "base = ['engine_hp', 'engine_cylinders', 'highway_mpg', 'city_mpg', 'popularity'] # called base because we DO NOT modify these features...\n",
    "\n",
    "def prepare_X(df):\n",
    "    # we will use this function to prepare any dataset, not only for training or testing\n",
    "    # adding new calculated feature - age of the car:\n",
    "    df = df.copy() # if not using copy then new column age will appear in our dataframe...\n",
    "    \n",
    "    df['age'] = 2017 - df.year # we assumed that today is year of 2017 here - and age of the car built in 2017 is 0\n",
    "    \n",
    "    features = base + ['age']\n",
    "    \n",
    "    for v in [2, 3, 4]:\n",
    "        df[\"num_doors%s\" % v] = (df.number_of_doors == v).astype('int')\n",
    "        features.append(\"num_doors%s\" % v)\n",
    "\n",
    "    for v in makes:\n",
    "        df[\"make_%s\" % v] = (df.make == v).astype('int')\n",
    "        features.append(\"make_%s\" % v)\n",
    "\n",
    "\n",
    "    # print(df.head())\n",
    "    # print(features)\n",
    "    df_num = df[features]\n",
    "    df_num = df_num.fillna(0)\n",
    "    X = df_num.values\n",
    "    return X\n",
    "\n"
   ]
  },
  {
   "cell_type": "code",
   "execution_count": 84,
   "id": "e5f2b345-cb36-4892-8b68-e449c8e217d4",
   "metadata": {},
   "outputs": [
    {
     "data": {
      "text/plain": [
       "np.float64(0.5100789886280986)"
      ]
     },
     "execution_count": 84,
     "metadata": {},
     "output_type": "execute_result"
    }
   ],
   "source": [
    "# all our workflow in 1 cell - ML pipeline )):\n",
    "X_train = prepare_X(df_train)\n",
    "w0, w = train_linear_regression(X_train, y_train)\n",
    "\n",
    "X_val = prepare_X(df_val)\n",
    "y_pred = w0 + X_val.dot(w)\n",
    "\n",
    "rmse(y_val, y_pred) # last time np.float64(0.5260831203105211)\n",
    "# now np.float64(0.5100789886280986) - slightly better...."
   ]
  },
  {
   "cell_type": "code",
   "execution_count": 85,
   "id": "6c5e8927-d8e9-4e6d-83f0-8b7153d143e9",
   "metadata": {},
   "outputs": [
    {
     "data": {
      "text/plain": [
       "<Axes: ylabel='Count'>"
      ]
     },
     "execution_count": 85,
     "metadata": {},
     "output_type": "execute_result"
    },
    {
     "data": {
      "image/png": "[encoded data removed]",
      "text/plain": [
       "<Figure size 640x480 with 1 Axes>"
      ]
     },
     "metadata": {},
     "output_type": "display_data"
    }
   ],
   "source": [
    "sns.histplot(y_pred, color='red', alpha=0.5, bins=50)\n",
    "sns.histplot(y_val, color='blue', alpha=0.5, bins=50)"
   ]
  },
  {
   "cell_type": "code",
   "execution_count": 86,
   "id": "7f50aab5-cf6e-44d0-b9f4-b443c8080e7d",
   "metadata": {},
   "outputs": [
    {
     "data": {
      "text/plain": [
       "Index(['make', 'model', 'year', 'engine_fuel_type', 'engine_hp',\n",
       "       'engine_cylinders', 'transmission_type', 'driven_wheels',\n",
       "       'number_of_doors', 'market_category', 'vehicle_size', 'vehicle_style',\n",
       "       'highway_mpg', 'city_mpg', 'popularity'],\n",
       "      dtype='object')"
      ]
     },
     "execution_count": 86,
     "metadata": {},
     "output_type": "execute_result"
    }
   ],
   "source": [
    "# but we do not stop here - other categorical variables still exist!!!\n",
    "df_train.dtypes.index"
   ]
  },
  {
   "cell_type": "code",
   "execution_count": 87,
   "id": "56eca79a-b24e-4d6b-a41e-044aa4efdc29",
   "metadata": {},
   "outputs": [],
   "source": [
    "categorical_variables = ['make', 'engine_fuel_type', 'transmission_type', 'driven_wheels', 'market_category', 'vehicle_size', 'vehicle_style']"
   ]
  },
  {
   "cell_type": "code",
   "execution_count": 88,
   "id": "3bc47192-36c4-4799-bdbd-574ed47b794c",
   "metadata": {},
   "outputs": [
    {
     "data": {
      "text/plain": [
       "{'make': ['chevrolet', 'ford', 'volkswagen', 'toyota', 'dodge'],\n",
       " 'engine_fuel_type': ['regular_unleaded',\n",
       "  'premium_unleaded_(required)',\n",
       "  'premium_unleaded_(recommended)',\n",
       "  'flex-fuel_(unleaded/e85)',\n",
       "  'diesel'],\n",
       " 'transmission_type': ['automatic',\n",
       "  'manual',\n",
       "  'automated_manual',\n",
       "  'direct_drive',\n",
       "  'unknown'],\n",
       " 'driven_wheels': ['front_wheel_drive',\n",
       "  'rear_wheel_drive',\n",
       "  'all_wheel_drive',\n",
       "  'four_wheel_drive'],\n",
       " 'market_category': ['crossover',\n",
       "  'flex_fuel',\n",
       "  'luxury',\n",
       "  'luxury,performance',\n",
       "  'hatchback'],\n",
       " 'vehicle_size': ['compact', 'midsize', 'large'],\n",
       " 'vehicle_style': ['sedan',\n",
       "  '4dr_suv',\n",
       "  'coupe',\n",
       "  'convertible',\n",
       "  '4dr_hatchback']}"
      ]
     },
     "execution_count": 88,
     "metadata": {},
     "output_type": "execute_result"
    }
   ],
   "source": [
    "categorical = {}\n",
    "\n",
    "for c in categorical_variables:\n",
    "    categorical[c] = list(df[c].value_counts().head().index)\n",
    "\n",
    "categorical # we get top 5 categorical variables values for each category"
   ]
  },
  {
   "cell_type": "code",
   "execution_count": 89,
   "id": "13f977a3-166a-4ef4-a5df-9baaf412fcd7",
   "metadata": {},
   "outputs": [],
   "source": [
    "\n",
    "base = ['engine_hp', 'engine_cylinders', 'highway_mpg', 'city_mpg', 'popularity'] # called base because we DO NOT modify these features...\n",
    "\n",
    "def prepare_X(df):\n",
    "    # we will use this function to prepare any dataset, not only for training or testing\n",
    "    # adding new calculated feature - age of the car:\n",
    "    df = df.copy() # if not using copy then new column age will appear in our dataframe...\n",
    "    \n",
    "    df['age'] = 2017 - df.year # we assumed that today is year of 2017 here - and age of the car built in 2017 is 0\n",
    "    \n",
    "    features = base + ['age']\n",
    "    \n",
    "    for v in [2, 3, 4]:\n",
    "        df[\"num_doors%s\" % v] = (df.number_of_doors == v).astype('int')\n",
    "        features.append(\"num_doors%s\" % v)\n",
    "\n",
    "    for name, values in categorical.items():\n",
    "        for value in values:\n",
    "            df[\"%s_%s\" % (name, value)] = (df[name] == value).astype('int')\n",
    "            features.append(\"%s_%s\" % (name, value))\n",
    "\n",
    "    # print(df.head())\n",
    "    # print(features)\n",
    "    df_num = df[features]\n",
    "    df_num = df_num.fillna(0)\n",
    "    X = df_num.values\n",
    "    \n",
    "    return X\n",
    "\n",
    "\n",
    "    "
   ]
  },
  {
   "cell_type": "code",
   "execution_count": 90,
   "id": "1dccfe8f-8a72-48a1-b5aa-4e6b132f1911",
   "metadata": {},
   "outputs": [
    {
     "data": {
      "text/plain": [
       "np.float64(814.3331542020205)"
      ]
     },
     "execution_count": 90,
     "metadata": {},
     "output_type": "execute_result"
    }
   ],
   "source": [
    "# all our workflow in 1 cell - ML pipeline )):\n",
    "X_train = prepare_X(df_train)\n",
    "w0, w = train_linear_regression(X_train, y_train)\n",
    "\n",
    "X_val = prepare_X(df_val)\n",
    "y_pred = w0 + X_val.dot(w)\n",
    "\n",
    "rmse(y_val, y_pred) # last time 0.51\n",
    "# now np.float64(814.3331542020205)"
   ]
  },
  {
   "cell_type": "code",
   "execution_count": 91,
   "id": "f755205d-d856-4398-9529-e97c98ddd639",
   "metadata": {},
   "outputs": [
    {
     "data": {
      "text/plain": [
       "44122124360655472"
      ]
     },
     "execution_count": 91,
     "metadata": {},
     "output_type": "execute_result"
    }
   ],
   "source": [
    "# strange result - RMSE is 1000 times higher...\n",
    "int(w0) # 44122124360655472\n",
    "# our bias became like 44 quadrillion.... if we know nothing about car it costs 44 quadrillion bucks!!"
   ]
  },
  {
   "cell_type": "code",
   "execution_count": 92,
   "id": "6e35f3e4-b9d0-4818-adb7-5792a3049e7b",
   "metadata": {},
   "outputs": [
    {
     "data": {
      "text/plain": [
       "array([-2.10218200e+00,  1.28293708e+02, -4.75281371e+00, -1.41829383e+01,\n",
       "       -1.37717941e-02, -5.61861454e+00, -1.92715863e+04, -1.94651436e+04,\n",
       "       -1.92998060e+04,  3.98639352e+01,  9.38374443e+01, -1.30317009e+02,\n",
       "        4.83282270e+01,  9.82435394e+01, -1.01346201e+03, -9.66521083e+02,\n",
       "       -1.06911860e+03, -1.05956759e+03, -7.26859005e+02, -3.54143312e+16,\n",
       "       -3.54143312e+16, -3.54143312e+16, -3.54143312e+16, -3.54143312e+16,\n",
       "       -8.70779318e+15, -8.70779318e+15, -8.70779318e+15, -8.70779318e+15,\n",
       "       -1.09439239e+01,  3.28013318e+00,  3.85881608e+00,  1.25998841e+00,\n",
       "       -2.79678994e+01, -1.30293153e+02, -1.19167323e+02, -1.23114141e+02,\n",
       "       -5.23253992e-02,  5.54593778e-02,  1.74932828e-01,  3.02782777e-01,\n",
       "       -1.37794157e-01])"
      ]
     },
     "execution_count": 92,
     "metadata": {},
     "output_type": "execute_result"
    }
   ],
   "source": [
    "w #  -3.54143312e+16, -3.54143312e+16, -3.54143312e+16, -3.54143312e+16,\n",
    "# - weights become quadrillions too..."
   ]
  },
  {
   "cell_type": "markdown",
   "id": "06413e81-3942-4fa7-afa4-890ca8c91745",
   "metadata": {},
   "source": [
    "## Regularisation"
   ]
  },
  {
   "cell_type": "code",
   "execution_count": 93,
   "id": "7766429f-2c34-4b4e-82a5-019b0ef3adeb",
   "metadata": {},
   "outputs": [
    {
     "data": {
      "text/plain": [
       "array([[1., 0., 0.],\n",
       "       [0., 1., 0.],\n",
       "       [0., 0., 1.]])"
      ]
     },
     "execution_count": 93,
     "metadata": {},
     "output_type": "execute_result"
    }
   ],
   "source": [
    "# video https://www.youtube.com/watch?v=91ve3EJlHBc&list=PL3MmuxUbc_hIhxl5Ji8t4O6lPAOpHaCLR&index=25\n",
    "# the problem above was humongous quadrillion weights - \n",
    "#  -3.54143312e+16, -3.54143312e+16, -3.54143312e+16, -3.54143312e+16\n",
    "# and to avoid it we use regularisatio - adding small noise to matrix diagonal\n",
    "\n",
    "# The trick is:\n",
    "np.eye(3) \n",
    "# diagonal matrix with 1s - idempotent - if we multiply it to any other matrix it does not change\n",
    "# this is similar to multiplying by 1 in scalar world"
   ]
  },
  {
   "cell_type": "code",
   "execution_count": 99,
   "id": "e23e55bd-cc6d-4b1b-889e-c841a4ea6d04",
   "metadata": {},
   "outputs": [
    {
     "data": {
      "text/plain": [
       "array([[0.01, 0.  , 0.  ],\n",
       "       [0.  , 0.01, 0.  ],\n",
       "       [0.  , 0.  , 0.01]])"
      ]
     },
     "execution_count": 99,
     "metadata": {},
     "output_type": "execute_result"
    }
   ],
   "source": [
    "0.01 * np.eye(3) # our noise add matrix created - and it can become a hyperparameter too..."
   ]
  },
  {
   "cell_type": "code",
   "execution_count": 100,
   "id": "bca7fd84-f58a-49c7-ad88-61408005d03f",
   "metadata": {},
   "outputs": [],
   "source": [
    "# modifying our train_linear_regression(X_train, y_train) function:\n",
    "\n",
    "def train_linear_regression_reg(X, y, r=0.001):\n",
    "    # this is regularised version or our training function, and we add r to diagonal matrix\n",
    "    ones = np.ones(X.shape[0]) \n",
    "    X = np.column_stack([ones, X])\n",
    "    \n",
    "    XTX = X.T.dot(X) # Gram matrix\n",
    "    XTX = XTX + r * np.eye(XTX.shape[0]) # we added a noise r to diagonal\n",
    "    \n",
    "    XTX_inv = np.linalg.inv(XTX) # inverse Gram matrix\n",
    "    w_full = XTX_inv.dot(X.T).dot(y)\n",
    "    w0 = w_full[0]\n",
    "    w = w_full[1:]\n",
    "    return w0, w"
   ]
  },
  {
   "cell_type": "code",
   "execution_count": 101,
   "id": "f02c875e-b282-46df-ac71-9c217de9c5f8",
   "metadata": {},
   "outputs": [
    {
     "data": {
      "text/plain": [
       "np.float64(0.4687156105576993)"
      ]
     },
     "execution_count": 101,
     "metadata": {},
     "output_type": "execute_result"
    }
   ],
   "source": [
    "# all our workflow in 1 cell - ML pipeline )):\n",
    "X_train = prepare_X(df_train)\n",
    "w0, w = train_linear_regression_reg(X_train, y_train, r = 0.01)\n",
    "\n",
    "X_val = prepare_X(df_val)\n",
    "y_pred = w0 + X_val.dot(w)\n",
    "\n",
    "rmse(y_val, y_pred) # last time 0.51, then np.float64(814.3331542020205)\n",
    "# now np.float64(0.4687156105576993) - a bit better than 0.51..."
   ]
  },
  {
   "cell_type": "code",
   "execution_count": 102,
   "id": "42be7139-dbd9-462b-8d4a-80e4d5cc8256",
   "metadata": {},
   "outputs": [
    {
     "data": {
      "text/plain": [
       "<Axes: ylabel='Count'>"
      ]
     },
     "execution_count": 102,
     "metadata": {},
     "output_type": "execute_result"
    },
    {
     "data": {
      "image/png": "[encoded data removed]",
      "text/plain": [
       "<Figure size 640x480 with 1 Axes>"
      ]
     },
     "metadata": {},
     "output_type": "display_data"
    }
   ],
   "source": [
    "sns.histplot(y_pred, color='red', alpha=0.5, bins=50)\n",
    "sns.histplot(y_val, color='blue', alpha=0.5, bins=50)"
   ]
  },
  {
   "cell_type": "markdown",
   "id": "caebfe26-3eab-4be4-b0e0-49a81cb920ca",
   "metadata": {},
   "source": [
    "## Tuning the model"
   ]
  },
  {
   "cell_type": "code",
   "execution_count": 107,
   "id": "3812b4ad-e989-4cac-aa85-2960f209be9d",
   "metadata": {},
   "outputs": [
    {
     "name": "stdout",
     "output_type": "stream",
     "text": [
      "r 0 rmse 814.3331542020205 bias 4.412212436065547e+16\n",
      "r 1e-05 rmse 0.46871706027685794 bias 13.990167201992714\n",
      "r 0.0001 rmse 0.46871705030620037 bias 6.364476492966875\n",
      "r 0.001 rmse 0.4687168630757075 bias 6.309187193962757\n",
      "r 0.01 rmse 0.4687156105576993 bias 6.293131375184294\n",
      "r 1 rmse 0.4701357829166667 bias 5.454208407964158\n",
      "r 10 rmse 0.4817549149184747 bias 4.232200708816782\n"
     ]
    }
   ],
   "source": [
    "# by tuning we normally understand trying to find best hyperparameters\n",
    "# it could be done in a brute force cycle )) or perhaps smarter way ...\n",
    "\n",
    "for r in [0, 0.00001, 0.0001, 0.001, 0.01, 1, 10]:\n",
    "    X_train = prepare_X(df_train)\n",
    "    w0, w = train_linear_regression_reg(X_train, y_train, r = r)\n",
    "    \n",
    "    X_val = prepare_X(df_val)\n",
    "    y_pred = w0 + X_val.dot(w)\n",
    "\n",
    "    score = rmse(y_val, y_pred)\n",
    "    \n",
    "    print('r', r, 'rmse', score, 'bias', w0)\n",
    "\n",
    "# r 0.001 rmse 0.4687168630757075 - prob the best we can get so far..."
   ]
  },
  {
   "cell_type": "code",
   "execution_count": 109,
   "id": "56abb644-2383-446a-b5f4-f9ec7b5d0d54",
   "metadata": {},
   "outputs": [
    {
     "data": {
      "text/plain": [
       "np.float64(0.4687168630757075)"
      ]
     },
     "execution_count": 109,
     "metadata": {},
     "output_type": "execute_result"
    }
   ],
   "source": [
    "# so we select the best r = 0.001 and finally train the model like so:\n",
    "r = 0.001\n",
    "X_train = prepare_X(df_train)\n",
    "w0, w = train_linear_regression_reg(X_train, y_train, r = r)\n",
    "\n",
    "X_val = prepare_X(df_val)\n",
    "y_pred = w0 + X_val.dot(w)\n",
    "\n",
    "score = rmse(y_val, y_pred)\n",
    "score"
   ]
  },
  {
   "cell_type": "code",
   "execution_count": 110,
   "id": "a1e66dd3-55ea-4c35-94ff-cebc0540a7a1",
   "metadata": {},
   "outputs": [
    {
     "data": {
      "text/plain": [
       "(np.float64(6.309187193962757),\n",
       " array([ 1.38869267e-03,  1.22980197e-01, -4.86520945e-03, -7.57614213e-03,\n",
       "        -5.50779107e-05, -9.60826575e-02, -6.68841050e-01, -8.25693253e-01,\n",
       "        -5.51226553e-01, -3.50281514e-02,  2.17855381e-01, -1.16524380e-02,\n",
       "        -8.55023301e-02, -9.12635124e-02, -4.92265995e-01,  7.66999080e-02,\n",
       "        -3.30448208e-01, -5.76971245e-01, -1.12796246e-01,  1.06211557e+00,\n",
       "         8.51918181e-01,  1.12557334e+00,  2.73172171e+00,  5.38144574e-01,\n",
       "         1.63004067e+00,  1.51122682e+00,  1.62552610e+00,  1.54000418e+00,\n",
       "        -1.02608563e-01,  4.08642251e-02, -3.41480103e-02, -1.82837204e-02,\n",
       "        -4.98036609e-02,  2.18470845e+00,  2.06292762e+00,  2.06117817e+00,\n",
       "        -5.23299243e-02,  5.54623905e-02,  1.74934785e-01,  3.02787624e-01,\n",
       "        -1.37810446e-01]))"
      ]
     },
     "execution_count": 110,
     "metadata": {},
     "output_type": "execute_result"
    }
   ],
   "source": [
    "w0, w # finally, our weights!!!"
   ]
  },
  {
   "cell_type": "markdown",
   "id": "0fecdc8f-df45-48d0-9651-fa3d370f8432",
   "metadata": {},
   "source": [
    "## Using the model"
   ]
  },
  {
   "cell_type": "code",
   "execution_count": null,
   "id": "0a611fb1-7c8a-4899-a0e8-55f643d83908",
   "metadata": {},
   "outputs": [],
   "source": [
    "# before we trained the model on train dataset and evaluated in eval dataset - got RMSE\n",
    "# finally we can use our last bullet - calc RMSE on our TEST dataset\n",
    "\n"
   ]
  }
 ],
 "metadata": {
  "kernelspec": {
   "display_name": "Python 3 (ipykernel)",
   "language": "python",
   "name": "python3"
  },
  "language_info": {
   "codemirror_mode": {
    "name": "ipython",
    "version": 3
   },
   "file_extension": ".py",
   "mimetype": "text/x-python",
   "name": "python",
   "nbconvert_exporter": "python",
   "pygments_lexer": "ipython3",
   "version": "3.12.1"
  }
 },
 "nbformat": 4,
 "nbformat_minor": 5
}
