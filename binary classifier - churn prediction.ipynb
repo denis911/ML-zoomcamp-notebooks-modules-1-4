{
 "cells": [
  {
   "cell_type": "markdown",
   "id": "7d1739c5-df5f-4190-b03f-6f9e01a3fd3c",
   "metadata": {},
   "source": [
    "## Start and prep"
   ]
  },
  {
   "cell_type": "code",
   "execution_count": null,
   "id": "ac333648-3782-4ffc-879a-e6d884617054",
   "metadata": {},
   "outputs": [],
   "source": [
    "# we will use Kaggle dataset from here:\n",
    "# https://www.kaggle.com/datasets/blastchar/telco-customer-churn\n",
    "# code and video from here:\n",
    "# https://github.com/DataTalksClub/machine-learning-zoomcamp/blob/master/03-classification/01-churn-project.md\n",
    "# notebook \n",
    "# https://github.com/DataTalksClub/machine-learning-zoomcamp/blob/master/03-classification/notebook.ipynb\n",
    "# dataset for download\n",
    "# https://raw.githubusercontent.com/alexeygrigorev/mlbookcamp-code/master/chapter-03-churn-prediction/WA_Fn-UseC_-Telco-Customer-Churn.csv\n",
    "\n",
    "# Data preparation\n",
    "\n",
    "# Download the data, read it with pandas\n",
    "# Look at the data\n",
    "# Make column names and values look uniform\n",
    "# Check if all the columns read correctly\n",
    "# Check if the churn variable needs any preparation\n",
    "import pandas as pd\n",
    "import numpy as np\n",
    "\n",
    "import matplotlib.pyplot as plt"
   ]
  },
  {
   "cell_type": "code",
   "execution_count": null,
   "id": "19110c72-b247-438b-9cf9-b36682ab9083",
   "metadata": {},
   "outputs": [],
   "source": [
    "data = 'https://raw.githubusercontent.com/alexeygrigorev/mlbookcamp-code/master/chapter-03-churn-prediction/WA_Fn-UseC_-Telco-Customer-Churn.csv'\n"
   ]
  },
  {
   "cell_type": "code",
   "execution_count": null,
   "id": "9564d416-1e1c-433e-bcf6-9e607f66b3b7",
   "metadata": {},
   "outputs": [],
   "source": []
  }
 ],
 "metadata": {
  "kernelspec": {
   "display_name": "Python 3 (ipykernel)",
   "language": "python",
   "name": "python3"
  },
  "language_info": {
   "codemirror_mode": {
    "name": "ipython",
    "version": 3
   },
   "file_extension": ".py",
   "mimetype": "text/x-python",
   "name": "python",
   "nbconvert_exporter": "python",
   "pygments_lexer": "ipython3",
   "version": "3.12.1"
  }
 },
 "nbformat": 4,
 "nbformat_minor": 5
}
