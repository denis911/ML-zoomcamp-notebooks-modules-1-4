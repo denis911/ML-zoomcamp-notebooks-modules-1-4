{
 "cells": [
  {
   "cell_type": "markdown",
   "id": "3d420b8e-c12f-40ae-9ee4-4d7d42ca9518",
   "metadata": {},
   "source": [
    "## Imports and data prep"
   ]
  },
  {
   "cell_type": "code",
   "execution_count": 1,
   "id": "2546da82-8630-4574-92da-11ba54c49687",
   "metadata": {},
   "outputs": [],
   "source": [
    "import pandas as pd\n",
    "import numpy as np\n",
    "import matplotlib.pyplot as plt\n",
    " \n",
    "from sklearn.model_selection import train_test_split\n",
    "from sklearn.feature_extraction import DictVectorizer\n",
    "from sklearn.linear_model import LogisticRegression"
   ]
  },
  {
   "cell_type": "code",
   "execution_count": 2,
   "id": "d7487e9f-bd0d-483b-99d8-90c39b80113d",
   "metadata": {},
   "outputs": [
    {
     "data": {
      "text/html": [
       "<div>\n",
       "<style scoped>\n",
       "    .dataframe tbody tr th:only-of-type {\n",
       "        vertical-align: middle;\n",
       "    }\n",
       "\n",
       "    .dataframe tbody tr th {\n",
       "        vertical-align: top;\n",
       "    }\n",
       "\n",
       "    .dataframe thead th {\n",
       "        text-align: right;\n",
       "    }\n",
       "</style>\n",
       "<table border=\"1\" class=\"dataframe\">\n",
       "  <thead>\n",
       "    <tr style=\"text-align: right;\">\n",
       "      <th></th>\n",
       "      <th>customerid</th>\n",
       "      <th>gender</th>\n",
       "      <th>seniorcitizen</th>\n",
       "      <th>partner</th>\n",
       "      <th>dependents</th>\n",
       "      <th>tenure</th>\n",
       "      <th>phoneservice</th>\n",
       "      <th>multiplelines</th>\n",
       "      <th>internetservice</th>\n",
       "      <th>onlinesecurity</th>\n",
       "      <th>...</th>\n",
       "      <th>deviceprotection</th>\n",
       "      <th>techsupport</th>\n",
       "      <th>streamingtv</th>\n",
       "      <th>streamingmovies</th>\n",
       "      <th>contract</th>\n",
       "      <th>paperlessbilling</th>\n",
       "      <th>paymentmethod</th>\n",
       "      <th>monthlycharges</th>\n",
       "      <th>totalcharges</th>\n",
       "      <th>churn</th>\n",
       "    </tr>\n",
       "  </thead>\n",
       "  <tbody>\n",
       "    <tr>\n",
       "      <th>0</th>\n",
       "      <td>7590-vhveg</td>\n",
       "      <td>female</td>\n",
       "      <td>0</td>\n",
       "      <td>yes</td>\n",
       "      <td>no</td>\n",
       "      <td>1</td>\n",
       "      <td>no</td>\n",
       "      <td>no_phone_service</td>\n",
       "      <td>dsl</td>\n",
       "      <td>no</td>\n",
       "      <td>...</td>\n",
       "      <td>no</td>\n",
       "      <td>no</td>\n",
       "      <td>no</td>\n",
       "      <td>no</td>\n",
       "      <td>month-to-month</td>\n",
       "      <td>yes</td>\n",
       "      <td>electronic_check</td>\n",
       "      <td>29.85</td>\n",
       "      <td>29.85</td>\n",
       "      <td>0</td>\n",
       "    </tr>\n",
       "    <tr>\n",
       "      <th>1</th>\n",
       "      <td>5575-gnvde</td>\n",
       "      <td>male</td>\n",
       "      <td>0</td>\n",
       "      <td>no</td>\n",
       "      <td>no</td>\n",
       "      <td>34</td>\n",
       "      <td>yes</td>\n",
       "      <td>no</td>\n",
       "      <td>dsl</td>\n",
       "      <td>yes</td>\n",
       "      <td>...</td>\n",
       "      <td>yes</td>\n",
       "      <td>no</td>\n",
       "      <td>no</td>\n",
       "      <td>no</td>\n",
       "      <td>one_year</td>\n",
       "      <td>no</td>\n",
       "      <td>mailed_check</td>\n",
       "      <td>56.95</td>\n",
       "      <td>1889.50</td>\n",
       "      <td>0</td>\n",
       "    </tr>\n",
       "    <tr>\n",
       "      <th>2</th>\n",
       "      <td>3668-qpybk</td>\n",
       "      <td>male</td>\n",
       "      <td>0</td>\n",
       "      <td>no</td>\n",
       "      <td>no</td>\n",
       "      <td>2</td>\n",
       "      <td>yes</td>\n",
       "      <td>no</td>\n",
       "      <td>dsl</td>\n",
       "      <td>yes</td>\n",
       "      <td>...</td>\n",
       "      <td>no</td>\n",
       "      <td>no</td>\n",
       "      <td>no</td>\n",
       "      <td>no</td>\n",
       "      <td>month-to-month</td>\n",
       "      <td>yes</td>\n",
       "      <td>mailed_check</td>\n",
       "      <td>53.85</td>\n",
       "      <td>108.15</td>\n",
       "      <td>1</td>\n",
       "    </tr>\n",
       "    <tr>\n",
       "      <th>3</th>\n",
       "      <td>7795-cfocw</td>\n",
       "      <td>male</td>\n",
       "      <td>0</td>\n",
       "      <td>no</td>\n",
       "      <td>no</td>\n",
       "      <td>45</td>\n",
       "      <td>no</td>\n",
       "      <td>no_phone_service</td>\n",
       "      <td>dsl</td>\n",
       "      <td>yes</td>\n",
       "      <td>...</td>\n",
       "      <td>yes</td>\n",
       "      <td>yes</td>\n",
       "      <td>no</td>\n",
       "      <td>no</td>\n",
       "      <td>one_year</td>\n",
       "      <td>no</td>\n",
       "      <td>bank_transfer_(automatic)</td>\n",
       "      <td>42.30</td>\n",
       "      <td>1840.75</td>\n",
       "      <td>0</td>\n",
       "    </tr>\n",
       "    <tr>\n",
       "      <th>4</th>\n",
       "      <td>9237-hqitu</td>\n",
       "      <td>female</td>\n",
       "      <td>0</td>\n",
       "      <td>no</td>\n",
       "      <td>no</td>\n",
       "      <td>2</td>\n",
       "      <td>yes</td>\n",
       "      <td>no</td>\n",
       "      <td>fiber_optic</td>\n",
       "      <td>no</td>\n",
       "      <td>...</td>\n",
       "      <td>no</td>\n",
       "      <td>no</td>\n",
       "      <td>no</td>\n",
       "      <td>no</td>\n",
       "      <td>month-to-month</td>\n",
       "      <td>yes</td>\n",
       "      <td>electronic_check</td>\n",
       "      <td>70.70</td>\n",
       "      <td>151.65</td>\n",
       "      <td>1</td>\n",
       "    </tr>\n",
       "  </tbody>\n",
       "</table>\n",
       "<p>5 rows × 21 columns</p>\n",
       "</div>"
      ],
      "text/plain": [
       "   customerid  gender  seniorcitizen partner dependents  tenure phoneservice  \\\n",
       "0  7590-vhveg  female              0     yes         no       1           no   \n",
       "1  5575-gnvde    male              0      no         no      34          yes   \n",
       "2  3668-qpybk    male              0      no         no       2          yes   \n",
       "3  7795-cfocw    male              0      no         no      45           no   \n",
       "4  9237-hqitu  female              0      no         no       2          yes   \n",
       "\n",
       "      multiplelines internetservice onlinesecurity  ... deviceprotection  \\\n",
       "0  no_phone_service             dsl             no  ...               no   \n",
       "1                no             dsl            yes  ...              yes   \n",
       "2                no             dsl            yes  ...               no   \n",
       "3  no_phone_service             dsl            yes  ...              yes   \n",
       "4                no     fiber_optic             no  ...               no   \n",
       "\n",
       "  techsupport streamingtv streamingmovies        contract paperlessbilling  \\\n",
       "0          no          no              no  month-to-month              yes   \n",
       "1          no          no              no        one_year               no   \n",
       "2          no          no              no  month-to-month              yes   \n",
       "3         yes          no              no        one_year               no   \n",
       "4          no          no              no  month-to-month              yes   \n",
       "\n",
       "               paymentmethod monthlycharges  totalcharges  churn  \n",
       "0           electronic_check          29.85         29.85      0  \n",
       "1               mailed_check          56.95       1889.50      0  \n",
       "2               mailed_check          53.85        108.15      1  \n",
       "3  bank_transfer_(automatic)          42.30       1840.75      0  \n",
       "4           electronic_check          70.70        151.65      1  \n",
       "\n",
       "[5 rows x 21 columns]"
      ]
     },
     "execution_count": 2,
     "metadata": {},
     "output_type": "execute_result"
    }
   ],
   "source": [
    "df = pd.read_csv('data-week-3.csv')\n",
    " \n",
    "df.columns = df.columns.str.lower().str.replace(' ', '_')\n",
    " \n",
    "categorical_columns = list(df.dtypes[df.dtypes == 'object'].index)\n",
    " \n",
    "for c in categorical_columns:\n",
    "    df[c] = df[c].str.lower().str.replace(' ', '_')\n",
    " \n",
    "df.totalcharges = pd.to_numeric(df.totalcharges, errors='coerce')\n",
    "df.totalcharges = df.totalcharges.fillna(0)\n",
    " \n",
    "df.churn = (df.churn == 'yes').astype(int)\n",
    "df.head()"
   ]
  },
  {
   "cell_type": "markdown",
   "id": "735db9c5-8c63-454d-969a-eb089cb31760",
   "metadata": {},
   "source": [
    "## Split the data and train the model"
   ]
  },
  {
   "cell_type": "code",
   "execution_count": 3,
   "id": "6fef4a8f-3ba9-49d7-8d0e-ca9b1e957bbb",
   "metadata": {},
   "outputs": [
    {
     "data": {
      "text/html": [
       "<div>\n",
       "<style scoped>\n",
       "    .dataframe tbody tr th:only-of-type {\n",
       "        vertical-align: middle;\n",
       "    }\n",
       "\n",
       "    .dataframe tbody tr th {\n",
       "        vertical-align: top;\n",
       "    }\n",
       "\n",
       "    .dataframe thead th {\n",
       "        text-align: right;\n",
       "    }\n",
       "</style>\n",
       "<table border=\"1\" class=\"dataframe\">\n",
       "  <thead>\n",
       "    <tr style=\"text-align: right;\">\n",
       "      <th></th>\n",
       "      <th>customerid</th>\n",
       "      <th>gender</th>\n",
       "      <th>seniorcitizen</th>\n",
       "      <th>partner</th>\n",
       "      <th>dependents</th>\n",
       "      <th>tenure</th>\n",
       "      <th>phoneservice</th>\n",
       "      <th>multiplelines</th>\n",
       "      <th>internetservice</th>\n",
       "      <th>onlinesecurity</th>\n",
       "      <th>onlinebackup</th>\n",
       "      <th>deviceprotection</th>\n",
       "      <th>techsupport</th>\n",
       "      <th>streamingtv</th>\n",
       "      <th>streamingmovies</th>\n",
       "      <th>contract</th>\n",
       "      <th>paperlessbilling</th>\n",
       "      <th>paymentmethod</th>\n",
       "      <th>monthlycharges</th>\n",
       "      <th>totalcharges</th>\n",
       "    </tr>\n",
       "  </thead>\n",
       "  <tbody>\n",
       "    <tr>\n",
       "      <th>0</th>\n",
       "      <td>8015-ihcgw</td>\n",
       "      <td>female</td>\n",
       "      <td>0</td>\n",
       "      <td>yes</td>\n",
       "      <td>yes</td>\n",
       "      <td>72</td>\n",
       "      <td>yes</td>\n",
       "      <td>yes</td>\n",
       "      <td>fiber_optic</td>\n",
       "      <td>yes</td>\n",
       "      <td>yes</td>\n",
       "      <td>yes</td>\n",
       "      <td>yes</td>\n",
       "      <td>yes</td>\n",
       "      <td>yes</td>\n",
       "      <td>two_year</td>\n",
       "      <td>yes</td>\n",
       "      <td>electronic_check</td>\n",
       "      <td>115.50</td>\n",
       "      <td>8425.15</td>\n",
       "    </tr>\n",
       "    <tr>\n",
       "      <th>1</th>\n",
       "      <td>1960-uycnn</td>\n",
       "      <td>male</td>\n",
       "      <td>0</td>\n",
       "      <td>no</td>\n",
       "      <td>no</td>\n",
       "      <td>10</td>\n",
       "      <td>yes</td>\n",
       "      <td>yes</td>\n",
       "      <td>fiber_optic</td>\n",
       "      <td>no</td>\n",
       "      <td>yes</td>\n",
       "      <td>yes</td>\n",
       "      <td>no</td>\n",
       "      <td>no</td>\n",
       "      <td>yes</td>\n",
       "      <td>month-to-month</td>\n",
       "      <td>yes</td>\n",
       "      <td>electronic_check</td>\n",
       "      <td>95.25</td>\n",
       "      <td>1021.55</td>\n",
       "    </tr>\n",
       "    <tr>\n",
       "      <th>2</th>\n",
       "      <td>9250-wypll</td>\n",
       "      <td>female</td>\n",
       "      <td>0</td>\n",
       "      <td>no</td>\n",
       "      <td>no</td>\n",
       "      <td>5</td>\n",
       "      <td>yes</td>\n",
       "      <td>yes</td>\n",
       "      <td>fiber_optic</td>\n",
       "      <td>no</td>\n",
       "      <td>no</td>\n",
       "      <td>no</td>\n",
       "      <td>no</td>\n",
       "      <td>no</td>\n",
       "      <td>no</td>\n",
       "      <td>month-to-month</td>\n",
       "      <td>no</td>\n",
       "      <td>electronic_check</td>\n",
       "      <td>75.55</td>\n",
       "      <td>413.65</td>\n",
       "    </tr>\n",
       "    <tr>\n",
       "      <th>3</th>\n",
       "      <td>6786-obwqr</td>\n",
       "      <td>female</td>\n",
       "      <td>0</td>\n",
       "      <td>yes</td>\n",
       "      <td>yes</td>\n",
       "      <td>5</td>\n",
       "      <td>yes</td>\n",
       "      <td>no</td>\n",
       "      <td>fiber_optic</td>\n",
       "      <td>no</td>\n",
       "      <td>no</td>\n",
       "      <td>no</td>\n",
       "      <td>no</td>\n",
       "      <td>yes</td>\n",
       "      <td>no</td>\n",
       "      <td>month-to-month</td>\n",
       "      <td>yes</td>\n",
       "      <td>electronic_check</td>\n",
       "      <td>80.85</td>\n",
       "      <td>356.10</td>\n",
       "    </tr>\n",
       "    <tr>\n",
       "      <th>4</th>\n",
       "      <td>1328-euzhc</td>\n",
       "      <td>female</td>\n",
       "      <td>0</td>\n",
       "      <td>yes</td>\n",
       "      <td>no</td>\n",
       "      <td>18</td>\n",
       "      <td>yes</td>\n",
       "      <td>no</td>\n",
       "      <td>no</td>\n",
       "      <td>no_internet_service</td>\n",
       "      <td>no_internet_service</td>\n",
       "      <td>no_internet_service</td>\n",
       "      <td>no_internet_service</td>\n",
       "      <td>no_internet_service</td>\n",
       "      <td>no_internet_service</td>\n",
       "      <td>two_year</td>\n",
       "      <td>no</td>\n",
       "      <td>mailed_check</td>\n",
       "      <td>20.10</td>\n",
       "      <td>370.50</td>\n",
       "    </tr>\n",
       "  </tbody>\n",
       "</table>\n",
       "</div>"
      ],
      "text/plain": [
       "   customerid  gender  seniorcitizen partner dependents  tenure phoneservice  \\\n",
       "0  8015-ihcgw  female              0     yes        yes      72          yes   \n",
       "1  1960-uycnn    male              0      no         no      10          yes   \n",
       "2  9250-wypll  female              0      no         no       5          yes   \n",
       "3  6786-obwqr  female              0     yes        yes       5          yes   \n",
       "4  1328-euzhc  female              0     yes         no      18          yes   \n",
       "\n",
       "  multiplelines internetservice       onlinesecurity         onlinebackup  \\\n",
       "0           yes     fiber_optic                  yes                  yes   \n",
       "1           yes     fiber_optic                   no                  yes   \n",
       "2           yes     fiber_optic                   no                   no   \n",
       "3            no     fiber_optic                   no                   no   \n",
       "4            no              no  no_internet_service  no_internet_service   \n",
       "\n",
       "      deviceprotection          techsupport          streamingtv  \\\n",
       "0                  yes                  yes                  yes   \n",
       "1                  yes                   no                   no   \n",
       "2                   no                   no                   no   \n",
       "3                   no                   no                  yes   \n",
       "4  no_internet_service  no_internet_service  no_internet_service   \n",
       "\n",
       "       streamingmovies        contract paperlessbilling     paymentmethod  \\\n",
       "0                  yes        two_year              yes  electronic_check   \n",
       "1                  yes  month-to-month              yes  electronic_check   \n",
       "2                   no  month-to-month               no  electronic_check   \n",
       "3                   no  month-to-month              yes  electronic_check   \n",
       "4  no_internet_service        two_year               no      mailed_check   \n",
       "\n",
       "   monthlycharges  totalcharges  \n",
       "0          115.50       8425.15  \n",
       "1           95.25       1021.55  \n",
       "2           75.55        413.65  \n",
       "3           80.85        356.10  \n",
       "4           20.10        370.50  "
      ]
     },
     "execution_count": 3,
     "metadata": {},
     "output_type": "execute_result"
    }
   ],
   "source": [
    "# Next, we use the ‘train_test_split’ function to split the datasets into ‘full_train’ (80%) and ‘test’ in the first step. \n",
    "# In the second step, ‘full_train’ is further divided into two datasets for training and validation. \n",
    "# Ultimately, we achieve a split of the initial data into a 60%-20%-20% ratio, where 60% is used for training, \n",
    "# and 20% each is allocated for validation and testing. \n",
    "# The parameter ‘random_state=1’ ensures that the random split is reproducible.\n",
    "\n",
    "df_full_train, df_test = train_test_split(df, test_size=0.2, random_state=1)\n",
    "df_train, df_val = train_test_split(df_full_train, test_size=0.25, random_state=1)\n",
    " \n",
    "df_train = df_train.reset_index(drop=True)\n",
    "df_val = df_val.reset_index(drop=True)\n",
    "df_test = df_test.reset_index(drop=True)\n",
    " \n",
    "y_train = df_train.churn.values\n",
    "y_val = df_val.churn.values\n",
    "y_test = df_test.churn.values\n",
    " \n",
    "del df_train['churn']\n",
    "del df_val['churn']\n",
    "del df_test['churn'] \n",
    "\n",
    "df_train.head()"
   ]
  },
  {
   "cell_type": "code",
   "execution_count": 4,
   "id": "77962455-885f-4149-a74f-ce7d2dc6cec7",
   "metadata": {},
   "outputs": [],
   "source": [
    "# Define two features lists, ‘numerical’ and ‘categorical’, which contain the relevant column names. \n",
    "# The ‘numerical’ array contains the names of all numerical columns, while the ‘categorical’ \n",
    "# array contains the names of all categorical columns.\n",
    "\n",
    "numerical = ['tenure', 'monthlycharges', 'totalcharges']\n",
    " \n",
    "categorical = ['gender', 'seniorcitizen', 'partner', 'dependents',\n",
    "       'phoneservice', 'multiplelines', 'internetservice',\n",
    "       'onlinesecurity', 'onlinebackup', 'deviceprotection', 'techsupport',\n",
    "       'streamingtv', 'streamingmovies', 'contract', 'paperlessbilling',\n",
    "       'paymentmethod']"
   ]
  },
  {
   "cell_type": "code",
   "execution_count": 5,
   "id": "0dea2a66-ef9d-43fd-bab0-bab5cde06174",
   "metadata": {},
   "outputs": [
    {
     "data": {
      "text/html": [
       "<style>#sk-container-id-1 {\n",
       "  /* Definition of color scheme common for light and dark mode */\n",
       "  --sklearn-color-text: #000;\n",
       "  --sklearn-color-text-muted: #666;\n",
       "  --sklearn-color-line: gray;\n",
       "  /* Definition of color scheme for unfitted estimators */\n",
       "  --sklearn-color-unfitted-level-0: #fff5e6;\n",
       "  --sklearn-color-unfitted-level-1: #f6e4d2;\n",
       "  --sklearn-color-unfitted-level-2: #ffe0b3;\n",
       "  --sklearn-color-unfitted-level-3: chocolate;\n",
       "  /* Definition of color scheme for fitted estimators */\n",
       "  --sklearn-color-fitted-level-0: #f0f8ff;\n",
       "  --sklearn-color-fitted-level-1: #d4ebff;\n",
       "  --sklearn-color-fitted-level-2: #b3dbfd;\n",
       "  --sklearn-color-fitted-level-3: cornflowerblue;\n",
       "\n",
       "  /* Specific color for light theme */\n",
       "  --sklearn-color-text-on-default-background: var(--sg-text-color, var(--theme-code-foreground, var(--jp-content-font-color1, black)));\n",
       "  --sklearn-color-background: var(--sg-background-color, var(--theme-background, var(--jp-layout-color0, white)));\n",
       "  --sklearn-color-border-box: var(--sg-text-color, var(--theme-code-foreground, var(--jp-content-font-color1, black)));\n",
       "  --sklearn-color-icon: #696969;\n",
       "\n",
       "  @media (prefers-color-scheme: dark) {\n",
       "    /* Redefinition of color scheme for dark theme */\n",
       "    --sklearn-color-text-on-default-background: var(--sg-text-color, var(--theme-code-foreground, var(--jp-content-font-color1, white)));\n",
       "    --sklearn-color-background: var(--sg-background-color, var(--theme-background, var(--jp-layout-color0, #111)));\n",
       "    --sklearn-color-border-box: var(--sg-text-color, var(--theme-code-foreground, var(--jp-content-font-color1, white)));\n",
       "    --sklearn-color-icon: #878787;\n",
       "  }\n",
       "}\n",
       "\n",
       "#sk-container-id-1 {\n",
       "  color: var(--sklearn-color-text);\n",
       "}\n",
       "\n",
       "#sk-container-id-1 pre {\n",
       "  padding: 0;\n",
       "}\n",
       "\n",
       "#sk-container-id-1 input.sk-hidden--visually {\n",
       "  border: 0;\n",
       "  clip: rect(1px 1px 1px 1px);\n",
       "  clip: rect(1px, 1px, 1px, 1px);\n",
       "  height: 1px;\n",
       "  margin: -1px;\n",
       "  overflow: hidden;\n",
       "  padding: 0;\n",
       "  position: absolute;\n",
       "  width: 1px;\n",
       "}\n",
       "\n",
       "#sk-container-id-1 div.sk-dashed-wrapped {\n",
       "  border: 1px dashed var(--sklearn-color-line);\n",
       "  margin: 0 0.4em 0.5em 0.4em;\n",
       "  box-sizing: border-box;\n",
       "  padding-bottom: 0.4em;\n",
       "  background-color: var(--sklearn-color-background);\n",
       "}\n",
       "\n",
       "#sk-container-id-1 div.sk-container {\n",
       "  /* jupyter's `normalize.less` sets `[hidden] { display: none; }`\n",
       "     but bootstrap.min.css set `[hidden] { display: none !important; }`\n",
       "     so we also need the `!important` here to be able to override the\n",
       "     default hidden behavior on the sphinx rendered scikit-learn.org.\n",
       "     See: https://github.com/scikit-learn/scikit-learn/issues/21755 */\n",
       "  display: inline-block !important;\n",
       "  position: relative;\n",
       "}\n",
       "\n",
       "#sk-container-id-1 div.sk-text-repr-fallback {\n",
       "  display: none;\n",
       "}\n",
       "\n",
       "div.sk-parallel-item,\n",
       "div.sk-serial,\n",
       "div.sk-item {\n",
       "  /* draw centered vertical line to link estimators */\n",
       "  background-image: linear-gradient(var(--sklearn-color-text-on-default-background), var(--sklearn-color-text-on-default-background));\n",
       "  background-size: 2px 100%;\n",
       "  background-repeat: no-repeat;\n",
       "  background-position: center center;\n",
       "}\n",
       "\n",
       "/* Parallel-specific style estimator block */\n",
       "\n",
       "#sk-container-id-1 div.sk-parallel-item::after {\n",
       "  content: \"\";\n",
       "  width: 100%;\n",
       "  border-bottom: 2px solid var(--sklearn-color-text-on-default-background);\n",
       "  flex-grow: 1;\n",
       "}\n",
       "\n",
       "#sk-container-id-1 div.sk-parallel {\n",
       "  display: flex;\n",
       "  align-items: stretch;\n",
       "  justify-content: center;\n",
       "  background-color: var(--sklearn-color-background);\n",
       "  position: relative;\n",
       "}\n",
       "\n",
       "#sk-container-id-1 div.sk-parallel-item {\n",
       "  display: flex;\n",
       "  flex-direction: column;\n",
       "}\n",
       "\n",
       "#sk-container-id-1 div.sk-parallel-item:first-child::after {\n",
       "  align-self: flex-end;\n",
       "  width: 50%;\n",
       "}\n",
       "\n",
       "#sk-container-id-1 div.sk-parallel-item:last-child::after {\n",
       "  align-self: flex-start;\n",
       "  width: 50%;\n",
       "}\n",
       "\n",
       "#sk-container-id-1 div.sk-parallel-item:only-child::after {\n",
       "  width: 0;\n",
       "}\n",
       "\n",
       "/* Serial-specific style estimator block */\n",
       "\n",
       "#sk-container-id-1 div.sk-serial {\n",
       "  display: flex;\n",
       "  flex-direction: column;\n",
       "  align-items: center;\n",
       "  background-color: var(--sklearn-color-background);\n",
       "  padding-right: 1em;\n",
       "  padding-left: 1em;\n",
       "}\n",
       "\n",
       "\n",
       "/* Toggleable style: style used for estimator/Pipeline/ColumnTransformer box that is\n",
       "clickable and can be expanded/collapsed.\n",
       "- Pipeline and ColumnTransformer use this feature and define the default style\n",
       "- Estimators will overwrite some part of the style using the `sk-estimator` class\n",
       "*/\n",
       "\n",
       "/* Pipeline and ColumnTransformer style (default) */\n",
       "\n",
       "#sk-container-id-1 div.sk-toggleable {\n",
       "  /* Default theme specific background. It is overwritten whether we have a\n",
       "  specific estimator or a Pipeline/ColumnTransformer */\n",
       "  background-color: var(--sklearn-color-background);\n",
       "}\n",
       "\n",
       "/* Toggleable label */\n",
       "#sk-container-id-1 label.sk-toggleable__label {\n",
       "  cursor: pointer;\n",
       "  display: flex;\n",
       "  width: 100%;\n",
       "  margin-bottom: 0;\n",
       "  padding: 0.5em;\n",
       "  box-sizing: border-box;\n",
       "  text-align: center;\n",
       "  align-items: start;\n",
       "  justify-content: space-between;\n",
       "  gap: 0.5em;\n",
       "}\n",
       "\n",
       "#sk-container-id-1 label.sk-toggleable__label .caption {\n",
       "  font-size: 0.6rem;\n",
       "  font-weight: lighter;\n",
       "  color: var(--sklearn-color-text-muted);\n",
       "}\n",
       "\n",
       "#sk-container-id-1 label.sk-toggleable__label-arrow:before {\n",
       "  /* Arrow on the left of the label */\n",
       "  content: \"▸\";\n",
       "  float: left;\n",
       "  margin-right: 0.25em;\n",
       "  color: var(--sklearn-color-icon);\n",
       "}\n",
       "\n",
       "#sk-container-id-1 label.sk-toggleable__label-arrow:hover:before {\n",
       "  color: var(--sklearn-color-text);\n",
       "}\n",
       "\n",
       "/* Toggleable content - dropdown */\n",
       "\n",
       "#sk-container-id-1 div.sk-toggleable__content {\n",
       "  display: none;\n",
       "  text-align: left;\n",
       "  /* unfitted */\n",
       "  background-color: var(--sklearn-color-unfitted-level-0);\n",
       "}\n",
       "\n",
       "#sk-container-id-1 div.sk-toggleable__content.fitted {\n",
       "  /* fitted */\n",
       "  background-color: var(--sklearn-color-fitted-level-0);\n",
       "}\n",
       "\n",
       "#sk-container-id-1 div.sk-toggleable__content pre {\n",
       "  margin: 0.2em;\n",
       "  border-radius: 0.25em;\n",
       "  color: var(--sklearn-color-text);\n",
       "  /* unfitted */\n",
       "  background-color: var(--sklearn-color-unfitted-level-0);\n",
       "}\n",
       "\n",
       "#sk-container-id-1 div.sk-toggleable__content.fitted pre {\n",
       "  /* unfitted */\n",
       "  background-color: var(--sklearn-color-fitted-level-0);\n",
       "}\n",
       "\n",
       "#sk-container-id-1 input.sk-toggleable__control:checked~div.sk-toggleable__content {\n",
       "  /* Expand drop-down */\n",
       "  display: block;\n",
       "  width: 100%;\n",
       "  overflow: visible;\n",
       "}\n",
       "\n",
       "#sk-container-id-1 input.sk-toggleable__control:checked~label.sk-toggleable__label-arrow:before {\n",
       "  content: \"▾\";\n",
       "}\n",
       "\n",
       "/* Pipeline/ColumnTransformer-specific style */\n",
       "\n",
       "#sk-container-id-1 div.sk-label input.sk-toggleable__control:checked~label.sk-toggleable__label {\n",
       "  color: var(--sklearn-color-text);\n",
       "  background-color: var(--sklearn-color-unfitted-level-2);\n",
       "}\n",
       "\n",
       "#sk-container-id-1 div.sk-label.fitted input.sk-toggleable__control:checked~label.sk-toggleable__label {\n",
       "  background-color: var(--sklearn-color-fitted-level-2);\n",
       "}\n",
       "\n",
       "/* Estimator-specific style */\n",
       "\n",
       "/* Colorize estimator box */\n",
       "#sk-container-id-1 div.sk-estimator input.sk-toggleable__control:checked~label.sk-toggleable__label {\n",
       "  /* unfitted */\n",
       "  background-color: var(--sklearn-color-unfitted-level-2);\n",
       "}\n",
       "\n",
       "#sk-container-id-1 div.sk-estimator.fitted input.sk-toggleable__control:checked~label.sk-toggleable__label {\n",
       "  /* fitted */\n",
       "  background-color: var(--sklearn-color-fitted-level-2);\n",
       "}\n",
       "\n",
       "#sk-container-id-1 div.sk-label label.sk-toggleable__label,\n",
       "#sk-container-id-1 div.sk-label label {\n",
       "  /* The background is the default theme color */\n",
       "  color: var(--sklearn-color-text-on-default-background);\n",
       "}\n",
       "\n",
       "/* On hover, darken the color of the background */\n",
       "#sk-container-id-1 div.sk-label:hover label.sk-toggleable__label {\n",
       "  color: var(--sklearn-color-text);\n",
       "  background-color: var(--sklearn-color-unfitted-level-2);\n",
       "}\n",
       "\n",
       "/* Label box, darken color on hover, fitted */\n",
       "#sk-container-id-1 div.sk-label.fitted:hover label.sk-toggleable__label.fitted {\n",
       "  color: var(--sklearn-color-text);\n",
       "  background-color: var(--sklearn-color-fitted-level-2);\n",
       "}\n",
       "\n",
       "/* Estimator label */\n",
       "\n",
       "#sk-container-id-1 div.sk-label label {\n",
       "  font-family: monospace;\n",
       "  font-weight: bold;\n",
       "  display: inline-block;\n",
       "  line-height: 1.2em;\n",
       "}\n",
       "\n",
       "#sk-container-id-1 div.sk-label-container {\n",
       "  text-align: center;\n",
       "}\n",
       "\n",
       "/* Estimator-specific */\n",
       "#sk-container-id-1 div.sk-estimator {\n",
       "  font-family: monospace;\n",
       "  border: 1px dotted var(--sklearn-color-border-box);\n",
       "  border-radius: 0.25em;\n",
       "  box-sizing: border-box;\n",
       "  margin-bottom: 0.5em;\n",
       "  /* unfitted */\n",
       "  background-color: var(--sklearn-color-unfitted-level-0);\n",
       "}\n",
       "\n",
       "#sk-container-id-1 div.sk-estimator.fitted {\n",
       "  /* fitted */\n",
       "  background-color: var(--sklearn-color-fitted-level-0);\n",
       "}\n",
       "\n",
       "/* on hover */\n",
       "#sk-container-id-1 div.sk-estimator:hover {\n",
       "  /* unfitted */\n",
       "  background-color: var(--sklearn-color-unfitted-level-2);\n",
       "}\n",
       "\n",
       "#sk-container-id-1 div.sk-estimator.fitted:hover {\n",
       "  /* fitted */\n",
       "  background-color: var(--sklearn-color-fitted-level-2);\n",
       "}\n",
       "\n",
       "/* Specification for estimator info (e.g. \"i\" and \"?\") */\n",
       "\n",
       "/* Common style for \"i\" and \"?\" */\n",
       "\n",
       ".sk-estimator-doc-link,\n",
       "a:link.sk-estimator-doc-link,\n",
       "a:visited.sk-estimator-doc-link {\n",
       "  float: right;\n",
       "  font-size: smaller;\n",
       "  line-height: 1em;\n",
       "  font-family: monospace;\n",
       "  background-color: var(--sklearn-color-background);\n",
       "  border-radius: 1em;\n",
       "  height: 1em;\n",
       "  width: 1em;\n",
       "  text-decoration: none !important;\n",
       "  margin-left: 0.5em;\n",
       "  text-align: center;\n",
       "  /* unfitted */\n",
       "  border: var(--sklearn-color-unfitted-level-1) 1pt solid;\n",
       "  color: var(--sklearn-color-unfitted-level-1);\n",
       "}\n",
       "\n",
       ".sk-estimator-doc-link.fitted,\n",
       "a:link.sk-estimator-doc-link.fitted,\n",
       "a:visited.sk-estimator-doc-link.fitted {\n",
       "  /* fitted */\n",
       "  border: var(--sklearn-color-fitted-level-1) 1pt solid;\n",
       "  color: var(--sklearn-color-fitted-level-1);\n",
       "}\n",
       "\n",
       "/* On hover */\n",
       "div.sk-estimator:hover .sk-estimator-doc-link:hover,\n",
       ".sk-estimator-doc-link:hover,\n",
       "div.sk-label-container:hover .sk-estimator-doc-link:hover,\n",
       ".sk-estimator-doc-link:hover {\n",
       "  /* unfitted */\n",
       "  background-color: var(--sklearn-color-unfitted-level-3);\n",
       "  color: var(--sklearn-color-background);\n",
       "  text-decoration: none;\n",
       "}\n",
       "\n",
       "div.sk-estimator.fitted:hover .sk-estimator-doc-link.fitted:hover,\n",
       ".sk-estimator-doc-link.fitted:hover,\n",
       "div.sk-label-container:hover .sk-estimator-doc-link.fitted:hover,\n",
       ".sk-estimator-doc-link.fitted:hover {\n",
       "  /* fitted */\n",
       "  background-color: var(--sklearn-color-fitted-level-3);\n",
       "  color: var(--sklearn-color-background);\n",
       "  text-decoration: none;\n",
       "}\n",
       "\n",
       "/* Span, style for the box shown on hovering the info icon */\n",
       ".sk-estimator-doc-link span {\n",
       "  display: none;\n",
       "  z-index: 9999;\n",
       "  position: relative;\n",
       "  font-weight: normal;\n",
       "  right: .2ex;\n",
       "  padding: .5ex;\n",
       "  margin: .5ex;\n",
       "  width: min-content;\n",
       "  min-width: 20ex;\n",
       "  max-width: 50ex;\n",
       "  color: var(--sklearn-color-text);\n",
       "  box-shadow: 2pt 2pt 4pt #999;\n",
       "  /* unfitted */\n",
       "  background: var(--sklearn-color-unfitted-level-0);\n",
       "  border: .5pt solid var(--sklearn-color-unfitted-level-3);\n",
       "}\n",
       "\n",
       ".sk-estimator-doc-link.fitted span {\n",
       "  /* fitted */\n",
       "  background: var(--sklearn-color-fitted-level-0);\n",
       "  border: var(--sklearn-color-fitted-level-3);\n",
       "}\n",
       "\n",
       ".sk-estimator-doc-link:hover span {\n",
       "  display: block;\n",
       "}\n",
       "\n",
       "/* \"?\"-specific style due to the `<a>` HTML tag */\n",
       "\n",
       "#sk-container-id-1 a.estimator_doc_link {\n",
       "  float: right;\n",
       "  font-size: 1rem;\n",
       "  line-height: 1em;\n",
       "  font-family: monospace;\n",
       "  background-color: var(--sklearn-color-background);\n",
       "  border-radius: 1rem;\n",
       "  height: 1rem;\n",
       "  width: 1rem;\n",
       "  text-decoration: none;\n",
       "  /* unfitted */\n",
       "  color: var(--sklearn-color-unfitted-level-1);\n",
       "  border: var(--sklearn-color-unfitted-level-1) 1pt solid;\n",
       "}\n",
       "\n",
       "#sk-container-id-1 a.estimator_doc_link.fitted {\n",
       "  /* fitted */\n",
       "  border: var(--sklearn-color-fitted-level-1) 1pt solid;\n",
       "  color: var(--sklearn-color-fitted-level-1);\n",
       "}\n",
       "\n",
       "/* On hover */\n",
       "#sk-container-id-1 a.estimator_doc_link:hover {\n",
       "  /* unfitted */\n",
       "  background-color: var(--sklearn-color-unfitted-level-3);\n",
       "  color: var(--sklearn-color-background);\n",
       "  text-decoration: none;\n",
       "}\n",
       "\n",
       "#sk-container-id-1 a.estimator_doc_link.fitted:hover {\n",
       "  /* fitted */\n",
       "  background-color: var(--sklearn-color-fitted-level-3);\n",
       "}\n",
       "\n",
       ".estimator-table summary {\n",
       "    padding: .5rem;\n",
       "    font-family: monospace;\n",
       "    cursor: pointer;\n",
       "}\n",
       "\n",
       ".estimator-table details[open] {\n",
       "    padding-left: 0.1rem;\n",
       "    padding-right: 0.1rem;\n",
       "    padding-bottom: 0.3rem;\n",
       "}\n",
       "\n",
       ".estimator-table .parameters-table {\n",
       "    margin-left: auto !important;\n",
       "    margin-right: auto !important;\n",
       "}\n",
       "\n",
       ".estimator-table .parameters-table tr:nth-child(odd) {\n",
       "    background-color: #fff;\n",
       "}\n",
       "\n",
       ".estimator-table .parameters-table tr:nth-child(even) {\n",
       "    background-color: #f6f6f6;\n",
       "}\n",
       "\n",
       ".estimator-table .parameters-table tr:hover {\n",
       "    background-color: #e0e0e0;\n",
       "}\n",
       "\n",
       ".estimator-table table td {\n",
       "    border: 1px solid rgba(106, 105, 104, 0.232);\n",
       "}\n",
       "\n",
       ".user-set td {\n",
       "    color:rgb(255, 94, 0);\n",
       "    text-align: left;\n",
       "}\n",
       "\n",
       ".user-set td.value pre {\n",
       "    color:rgb(255, 94, 0) !important;\n",
       "    background-color: transparent !important;\n",
       "}\n",
       "\n",
       ".default td {\n",
       "    color: black;\n",
       "    text-align: left;\n",
       "}\n",
       "\n",
       ".user-set td i,\n",
       ".default td i {\n",
       "    color: black;\n",
       "}\n",
       "\n",
       ".copy-paste-icon {\n",
       "    background-image: url(data:image/svg+xml;base64,PHN2ZyB4bWxucz0iaHR0cDovL3d3dy53My5vcmcvMjAwMC9zdmciIHZpZXdCb3g9IjAgMCA0NDggNTEyIj48IS0tIUZvbnQgQXdlc29tZSBGcmVlIDYuNy4yIGJ5IEBmb250YXdlc29tZSAtIGh0dHBzOi8vZm9udGF3ZXNvbWUuY29tIExpY2Vuc2UgLSBodHRwczovL2ZvbnRhd2Vzb21lLmNvbS9saWNlbnNlL2ZyZWUgQ29weXJpZ2h0IDIwMjUgRm9udGljb25zLCBJbmMuLS0+PHBhdGggZD0iTTIwOCAwTDMzMi4xIDBjMTIuNyAwIDI0LjkgNS4xIDMzLjkgMTQuMWw2Ny45IDY3LjljOSA5IDE0LjEgMjEuMiAxNC4xIDMzLjlMNDQ4IDMzNmMwIDI2LjUtMjEuNSA0OC00OCA0OGwtMTkyIDBjLTI2LjUgMC00OC0yMS41LTQ4LTQ4bDAtMjg4YzAtMjYuNSAyMS41LTQ4IDQ4LTQ4ek00OCAxMjhsODAgMCAwIDY0LTY0IDAgMCAyNTYgMTkyIDAgMC0zMiA2NCAwIDAgNDhjMCAyNi41LTIxLjUgNDgtNDggNDhMNDggNTEyYy0yNi41IDAtNDgtMjEuNS00OC00OEwwIDE3NmMwLTI2LjUgMjEuNS00OCA0OC00OHoiLz48L3N2Zz4=);\n",
       "    background-repeat: no-repeat;\n",
       "    background-size: 14px 14px;\n",
       "    background-position: 0;\n",
       "    display: inline-block;\n",
       "    width: 14px;\n",
       "    height: 14px;\n",
       "    cursor: pointer;\n",
       "}\n",
       "</style><body><div id=\"sk-container-id-1\" class=\"sk-top-container\"><div class=\"sk-text-repr-fallback\"><pre>LogisticRegression(C=0.001, max_iter=10000)</pre><b>In a Jupyter environment, please rerun this cell to show the HTML representation or trust the notebook. <br />On GitHub, the HTML representation is unable to render, please try loading this page with nbviewer.org.</b></div><div class=\"sk-container\" hidden><div class=\"sk-item\"><div class=\"sk-estimator fitted sk-toggleable\"><input class=\"sk-toggleable__control sk-hidden--visually\" id=\"sk-estimator-id-1\" type=\"checkbox\" checked><label for=\"sk-estimator-id-1\" class=\"sk-toggleable__label fitted sk-toggleable__label-arrow\"><div><div>LogisticRegression</div></div><div><a class=\"sk-estimator-doc-link fitted\" rel=\"noreferrer\" target=\"_blank\" href=\"https://scikit-learn.org/1.7/modules/generated/sklearn.linear_model.LogisticRegression.html\">?<span>Documentation for LogisticRegression</span></a><span class=\"sk-estimator-doc-link fitted\">i<span>Fitted</span></span></div></label><div class=\"sk-toggleable__content fitted\" data-param-prefix=\"\">\n",
       "        <div class=\"estimator-table\">\n",
       "            <details>\n",
       "                <summary>Parameters</summary>\n",
       "                <table class=\"parameters-table\">\n",
       "                  <tbody>\n",
       "                    \n",
       "        <tr class=\"default\">\n",
       "            <td><i class=\"copy-paste-icon\"\n",
       "                 onclick=\"copyToClipboard('penalty',\n",
       "                          this.parentElement.nextElementSibling)\"\n",
       "            ></i></td>\n",
       "            <td class=\"param\">penalty&nbsp;</td>\n",
       "            <td class=\"value\">&#x27;l2&#x27;</td>\n",
       "        </tr>\n",
       "    \n",
       "\n",
       "        <tr class=\"default\">\n",
       "            <td><i class=\"copy-paste-icon\"\n",
       "                 onclick=\"copyToClipboard('dual',\n",
       "                          this.parentElement.nextElementSibling)\"\n",
       "            ></i></td>\n",
       "            <td class=\"param\">dual&nbsp;</td>\n",
       "            <td class=\"value\">False</td>\n",
       "        </tr>\n",
       "    \n",
       "\n",
       "        <tr class=\"default\">\n",
       "            <td><i class=\"copy-paste-icon\"\n",
       "                 onclick=\"copyToClipboard('tol',\n",
       "                          this.parentElement.nextElementSibling)\"\n",
       "            ></i></td>\n",
       "            <td class=\"param\">tol&nbsp;</td>\n",
       "            <td class=\"value\">0.0001</td>\n",
       "        </tr>\n",
       "    \n",
       "\n",
       "        <tr class=\"user-set\">\n",
       "            <td><i class=\"copy-paste-icon\"\n",
       "                 onclick=\"copyToClipboard('C',\n",
       "                          this.parentElement.nextElementSibling)\"\n",
       "            ></i></td>\n",
       "            <td class=\"param\">C&nbsp;</td>\n",
       "            <td class=\"value\">0.001</td>\n",
       "        </tr>\n",
       "    \n",
       "\n",
       "        <tr class=\"default\">\n",
       "            <td><i class=\"copy-paste-icon\"\n",
       "                 onclick=\"copyToClipboard('fit_intercept',\n",
       "                          this.parentElement.nextElementSibling)\"\n",
       "            ></i></td>\n",
       "            <td class=\"param\">fit_intercept&nbsp;</td>\n",
       "            <td class=\"value\">True</td>\n",
       "        </tr>\n",
       "    \n",
       "\n",
       "        <tr class=\"default\">\n",
       "            <td><i class=\"copy-paste-icon\"\n",
       "                 onclick=\"copyToClipboard('intercept_scaling',\n",
       "                          this.parentElement.nextElementSibling)\"\n",
       "            ></i></td>\n",
       "            <td class=\"param\">intercept_scaling&nbsp;</td>\n",
       "            <td class=\"value\">1</td>\n",
       "        </tr>\n",
       "    \n",
       "\n",
       "        <tr class=\"default\">\n",
       "            <td><i class=\"copy-paste-icon\"\n",
       "                 onclick=\"copyToClipboard('class_weight',\n",
       "                          this.parentElement.nextElementSibling)\"\n",
       "            ></i></td>\n",
       "            <td class=\"param\">class_weight&nbsp;</td>\n",
       "            <td class=\"value\">None</td>\n",
       "        </tr>\n",
       "    \n",
       "\n",
       "        <tr class=\"default\">\n",
       "            <td><i class=\"copy-paste-icon\"\n",
       "                 onclick=\"copyToClipboard('random_state',\n",
       "                          this.parentElement.nextElementSibling)\"\n",
       "            ></i></td>\n",
       "            <td class=\"param\">random_state&nbsp;</td>\n",
       "            <td class=\"value\">None</td>\n",
       "        </tr>\n",
       "    \n",
       "\n",
       "        <tr class=\"default\">\n",
       "            <td><i class=\"copy-paste-icon\"\n",
       "                 onclick=\"copyToClipboard('solver',\n",
       "                          this.parentElement.nextElementSibling)\"\n",
       "            ></i></td>\n",
       "            <td class=\"param\">solver&nbsp;</td>\n",
       "            <td class=\"value\">&#x27;lbfgs&#x27;</td>\n",
       "        </tr>\n",
       "    \n",
       "\n",
       "        <tr class=\"user-set\">\n",
       "            <td><i class=\"copy-paste-icon\"\n",
       "                 onclick=\"copyToClipboard('max_iter',\n",
       "                          this.parentElement.nextElementSibling)\"\n",
       "            ></i></td>\n",
       "            <td class=\"param\">max_iter&nbsp;</td>\n",
       "            <td class=\"value\">10000</td>\n",
       "        </tr>\n",
       "    \n",
       "\n",
       "        <tr class=\"default\">\n",
       "            <td><i class=\"copy-paste-icon\"\n",
       "                 onclick=\"copyToClipboard('multi_class',\n",
       "                          this.parentElement.nextElementSibling)\"\n",
       "            ></i></td>\n",
       "            <td class=\"param\">multi_class&nbsp;</td>\n",
       "            <td class=\"value\">&#x27;deprecated&#x27;</td>\n",
       "        </tr>\n",
       "    \n",
       "\n",
       "        <tr class=\"default\">\n",
       "            <td><i class=\"copy-paste-icon\"\n",
       "                 onclick=\"copyToClipboard('verbose',\n",
       "                          this.parentElement.nextElementSibling)\"\n",
       "            ></i></td>\n",
       "            <td class=\"param\">verbose&nbsp;</td>\n",
       "            <td class=\"value\">0</td>\n",
       "        </tr>\n",
       "    \n",
       "\n",
       "        <tr class=\"default\">\n",
       "            <td><i class=\"copy-paste-icon\"\n",
       "                 onclick=\"copyToClipboard('warm_start',\n",
       "                          this.parentElement.nextElementSibling)\"\n",
       "            ></i></td>\n",
       "            <td class=\"param\">warm_start&nbsp;</td>\n",
       "            <td class=\"value\">False</td>\n",
       "        </tr>\n",
       "    \n",
       "\n",
       "        <tr class=\"default\">\n",
       "            <td><i class=\"copy-paste-icon\"\n",
       "                 onclick=\"copyToClipboard('n_jobs',\n",
       "                          this.parentElement.nextElementSibling)\"\n",
       "            ></i></td>\n",
       "            <td class=\"param\">n_jobs&nbsp;</td>\n",
       "            <td class=\"value\">None</td>\n",
       "        </tr>\n",
       "    \n",
       "\n",
       "        <tr class=\"default\">\n",
       "            <td><i class=\"copy-paste-icon\"\n",
       "                 onclick=\"copyToClipboard('l1_ratio',\n",
       "                          this.parentElement.nextElementSibling)\"\n",
       "            ></i></td>\n",
       "            <td class=\"param\">l1_ratio&nbsp;</td>\n",
       "            <td class=\"value\">None</td>\n",
       "        </tr>\n",
       "    \n",
       "                  </tbody>\n",
       "                </table>\n",
       "            </details>\n",
       "        </div>\n",
       "    </div></div></div></div></div><script>function copyToClipboard(text, element) {\n",
       "    // Get the parameter prefix from the closest toggleable content\n",
       "    const toggleableContent = element.closest('.sk-toggleable__content');\n",
       "    const paramPrefix = toggleableContent ? toggleableContent.dataset.paramPrefix : '';\n",
       "    const fullParamName = paramPrefix ? `${paramPrefix}${text}` : text;\n",
       "\n",
       "    const originalStyle = element.style;\n",
       "    const computedStyle = window.getComputedStyle(element);\n",
       "    const originalWidth = computedStyle.width;\n",
       "    const originalHTML = element.innerHTML.replace('Copied!', '');\n",
       "\n",
       "    navigator.clipboard.writeText(fullParamName)\n",
       "        .then(() => {\n",
       "            element.style.width = originalWidth;\n",
       "            element.style.color = 'green';\n",
       "            element.innerHTML = \"Copied!\";\n",
       "\n",
       "            setTimeout(() => {\n",
       "                element.innerHTML = originalHTML;\n",
       "                element.style = originalStyle;\n",
       "            }, 2000);\n",
       "        })\n",
       "        .catch(err => {\n",
       "            console.error('Failed to copy:', err);\n",
       "            element.style.color = 'red';\n",
       "            element.innerHTML = \"Failed!\";\n",
       "            setTimeout(() => {\n",
       "                element.innerHTML = originalHTML;\n",
       "                element.style = originalStyle;\n",
       "            }, 2000);\n",
       "        });\n",
       "    return false;\n",
       "}\n",
       "\n",
       "document.querySelectorAll('.fa-regular.fa-copy').forEach(function(element) {\n",
       "    const toggleableContent = element.closest('.sk-toggleable__content');\n",
       "    const paramPrefix = toggleableContent ? toggleableContent.dataset.paramPrefix : '';\n",
       "    const paramName = element.parentElement.nextElementSibling.textContent.trim();\n",
       "    const fullParamName = paramPrefix ? `${paramPrefix}${paramName}` : paramName;\n",
       "\n",
       "    element.setAttribute('title', fullParamName);\n",
       "});\n",
       "</script></body>"
      ],
      "text/plain": [
       "LogisticRegression(C=0.001, max_iter=10000)"
      ]
     },
     "execution_count": 5,
     "metadata": {},
     "output_type": "execute_result"
    }
   ],
   "source": [
    "# Next, we create a DictVectorizer instance. We then transform the dataframe into dictionaries, \n",
    "# and using the ‘fit_transform(train_dict)’ function, we train the DictVectorizer. This step involves \n",
    "# showing the DictVectorizer how the data is structured, allowing it to distinguish column names and \n",
    "# values and perform one-hot encoding based on this information. Importantly, the DictVectorizer is \n",
    "# smart enough to distinguish between categorical values and numeric values, so numeric values are \n",
    "# ignored during one-hot encoding. The ‘transform’ part of this process converts the dictionary \n",
    "# into a vector or matrix suitable for machine learning.\n",
    "\n",
    "# After preparing the data, we move on to model creation. In this case, a Logistic Regression model is used. \n",
    "# The ‘model.fit’ function is then employed to train the model on the training data.\n",
    "\n",
    "dv = DictVectorizer(sparse=False)\n",
    " \n",
    "train_dict = df_train[categorical + numerical].to_dict(orient='records')\n",
    "X_train = dv.fit_transform(train_dict)\n",
    " \n",
    "model = LogisticRegression(C=0.001, max_iter=10000)\n",
    "model.fit(X_train, y_train)"
   ]
  },
  {
   "cell_type": "code",
   "execution_count": 6,
   "id": "5cc459d4-53a7-424d-8297-a0f61a3b4c45",
   "metadata": {},
   "outputs": [
    {
     "data": {
      "text/plain": [
       "np.float64(0.7998580553584103)"
      ]
     },
     "execution_count": 6,
     "metadata": {},
     "output_type": "execute_result"
    }
   ],
   "source": [
    "# We can then proceed to validate the trained model using the validation data. \n",
    "# To do this, we need to prepare the validation DataFrame in the same way as shown \n",
    "# for the training DataFrame. This involves transforming it into dictionaries and \n",
    "# applying the ‘transform’ function of the DictVectorizer. However, during validation, \n",
    "# we only need to use the ‘transform’ function of the DictVectorizer since it already \n",
    "# knows the data structure. In the case of validation, we are primarily interested \n",
    "# in the transformed output, which serves as input for prediction.\n",
    "\n",
    "# For prediction, we use the ‘predict_proba’ function of the model, which provides \n",
    "# us with probabilities in two columns. Here, we are interested in the second \n",
    "# column. We evaluate the model’s performance using a threshold of ‘>=0.5’. \n",
    "# The ‘churn_decision’ variable contains ‘True’ for any value in the prediction \n",
    "# greater than or equal to the threshold, and ‘False’ otherwise. We calculate the \n",
    "# accuracy using the ‘mean’ function, and in this case, it is approximately 80%.\n",
    "\n",
    "val_dict = df_val[categorical + numerical].to_dict(orient='records')\n",
    "X_val = dv.transform(val_dict)\n",
    " \n",
    "y_pred = model.predict_proba(X_val)[:, 1]\n",
    "churn_decision = (y_pred >= 0.5)\n",
    "(y_val == churn_decision).mean()\n",
    " \n",
    "# Output: 0.8034066713981547"
   ]
  },
  {
   "cell_type": "code",
   "execution_count": 7,
   "id": "394ea278-fab4-4783-b7d5-7c1454dc95d3",
   "metadata": {},
   "outputs": [
    {
     "data": {
      "text/plain": [
       "np.float64(0.7998580553584103)"
      ]
     },
     "execution_count": 7,
     "metadata": {},
     "output_type": "execute_result"
    }
   ],
   "source": [
    "# calc another way to double-check myself:\n",
    "churn_decision2 = model.predict(X_val)\n",
    "(y_val == churn_decision2).mean()\n",
    "# same output 0.8034066713981547"
   ]
  },
  {
   "cell_type": "markdown",
   "id": "1372100c-2599-4551-92f4-a8c20cbff05d",
   "metadata": {},
   "source": [
    "## Accuracy and dummy model"
   ]
  },
  {
   "cell_type": "code",
   "execution_count": 8,
   "id": "9c52c6f4-ec2a-42d8-bd06-0c643635c2b6",
   "metadata": {},
   "outputs": [
    {
     "data": {
      "text/plain": [
       "0.8034066713981547"
      ]
     },
     "execution_count": 8,
     "metadata": {},
     "output_type": "execute_result"
    }
   ],
   "source": [
    "# Out of the 1409 customers in the validation dataset, we made 1132 correct predictions. Therefore, \n",
    "# the accuracy is calculated as 1132/1409 = 0.80, which corresponds to 80%. This accuracy \n",
    "# indicates that our model correctly predicted the churn status for 80% of the customers in the \n",
    "# validation dataset. Whether this is considered good or not \n",
    "# depends on the specific context and requirements of the problem.\n",
    "\n",
    "len(y_val)\n",
    "# Output: 1409\n",
    " \n",
    "(y_val == churn_decision).sum()\n",
    "# Output: 1132\n",
    " \n",
    "1132 / 1409\n",
    "# Output: 0.8034\n",
    " \n",
    "# accuracy = (y_val == churn_decision).mean()\n",
    "# Output: 0.8034"
   ]
  },
  {
   "cell_type": "code",
   "execution_count": 9,
   "id": "c6de7d66-f004-4e7e-887e-5661313c7ddf",
   "metadata": {},
   "outputs": [
    {
     "data": {
      "text/plain": [
       "array([0.  , 0.05, 0.1 , 0.15, 0.2 , 0.25, 0.3 , 0.35, 0.4 , 0.45, 0.5 ,\n",
       "       0.55, 0.6 , 0.65, 0.7 , 0.75, 0.8 , 0.85, 0.9 , 0.95, 1.  ])"
      ]
     },
     "execution_count": 9,
     "metadata": {},
     "output_type": "execute_result"
    }
   ],
   "source": [
    "# RE our churn decision - it may or may not be correct:\n",
    "# churn_decision = (y_pred >= 0.5) # 0.5 was selected by gur feel, lets test it properly...\n",
    "\n",
    "# TLDR:\n",
    "# The question now is whether we have chosen a good value for the threshold. To evaluate \n",
    "# this, we can adjust the threshold and perform validation again. By systematically \n",
    "# varying the threshold, we can observe whether it improves the accuracy or not. To do this, \n",
    "# we can use the ‘linspace’ function from NumPy to generate an array with multiple threshold \n",
    "# values (e.g., 21 values evenly spaced between 0 and 1). For each threshold value, we can \n",
    "# calculate the accuracy and then determine the best threshold value based on the validation \n",
    "# results. This process allows us to fine-tune the threshold to optimize the model’s performance.\n",
    "\n",
    "thresholds = np.linspace(0, 1, 21)\n",
    "thresholds\n",
    " \n",
    "# Output:        \n",
    "# array([0.  , 0.05, 0.1 , 0.15, 0.2 , 0.25, 0.3 , 0.35, 0.4 , 0.45, 0.5 ,\n",
    "#        0.55, 0.6 , 0.65, 0.7 , 0.75, 0.8 , 0.85, 0.9 , 0.95, 1.  ])"
   ]
  },
  {
   "cell_type": "code",
   "execution_count": 10,
   "id": "d294f764-c864-41d7-9f27-391a58d8f78b",
   "metadata": {},
   "outputs": [
    {
     "name": "stdout",
     "output_type": "stream",
     "text": [
      "0.00 0.274\n",
      "0.05 0.441\n",
      "0.10 0.527\n",
      "0.15 0.620\n",
      "0.20 0.679\n",
      "0.25 0.720\n",
      "0.30 0.750\n",
      "0.35 0.767\n",
      "0.40 0.780\n",
      "0.45 0.798\n",
      "0.50 0.800\n",
      "0.55 0.794\n",
      "0.60 0.792\n",
      "0.65 0.766\n",
      "0.70 0.742\n",
      "0.75 0.732\n",
      "0.80 0.726\n",
      "0.85 0.726\n",
      "0.90 0.726\n",
      "0.95 0.726\n",
      "1.00 0.726\n"
     ]
    }
   ],
   "source": [
    "scores = []\n",
    " \n",
    "for t in thresholds:\n",
    "    churn_decision = (y_pred >= t)\n",
    "    score = (y_val == churn_decision).mean()\n",
    "    print('%.2f %.3f' % (t, score))\n",
    "    scores.append(score)\n",
    "\n",
    "# actually our initial choice was right and with 0.5 we get best accuracy - 0.50 0.803 - see below\n",
    "# thats why in model.predict - << churn_decision2 = model.predict(X_val) >> - threshold 0.5 is baked in by SKL automatically..."
   ]
  },
  {
   "cell_type": "code",
   "execution_count": 11,
   "id": "95a632b7-a6e1-4e8f-b417-b5617d775c2c",
   "metadata": {},
   "outputs": [
    {
     "data": {
      "text/plain": [
       "[<matplotlib.lines.Line2D at 0x72b2dc113260>]"
      ]
     },
     "execution_count": 11,
     "metadata": {},
     "output_type": "execute_result"
    },
    {
     "data": {
      "image/png": "[encoded data removed]",
      "text/plain": [
       "<Figure size 640x480 with 1 Axes>"
      ]
     },
     "metadata": {},
     "output_type": "display_data"
    }
   ],
   "source": [
    "# TLDR \n",
    "# It appears that 0.5 is indeed the best threshold based on the validation set. This \n",
    "# suggests that the default threshold of 0.5 is an appropriate choice for our model in this \n",
    "# context. To visually represent this threshold optimization process, we can create a plot. \n",
    "# The x-axis will represent the threshold values, while the y-axis will represent the corresponding \n",
    "# scores (in this case, accuracy or another relevant metric). This plot will provide a clear visualization \n",
    "# of how the model’s performance varies with different threshold values, helping us identify the threshold \n",
    "# that maximizes the desired metric.\n",
    "\n",
    "plt.plot(thresholds,scores) # 0.5 is our curve max"
   ]
  },
  {
   "cell_type": "code",
   "execution_count": 12,
   "id": "e2f88b22-f1b6-43d2-bd94-ad42474d81bb",
   "metadata": {},
   "outputs": [],
   "source": [
    "# we don't have to do it manually all the time - SKL has built-in function\n",
    "from sklearn.metrics import accuracy_score"
   ]
  },
  {
   "cell_type": "code",
   "execution_count": 13,
   "id": "09d0690d-8111-433e-81ae-724100bd0854",
   "metadata": {},
   "outputs": [
    {
     "data": {
      "text/plain": [
       "0.7998580553584103"
      ]
     },
     "execution_count": 13,
     "metadata": {},
     "output_type": "execute_result"
    }
   ],
   "source": [
    "accuracy_score(y_val, y_pred>=0.5)\n",
    "# same 0.8034066713981547 as before"
   ]
  },
  {
   "cell_type": "code",
   "execution_count": 14,
   "id": "0194c64a-7eea-4475-8661-82997bc21a3f",
   "metadata": {},
   "outputs": [
    {
     "name": "stdout",
     "output_type": "stream",
     "text": [
      "0.00 0.274\n",
      "0.05 0.441\n",
      "0.10 0.527\n",
      "0.15 0.620\n",
      "0.20 0.679\n",
      "0.25 0.720\n",
      "0.30 0.750\n",
      "0.35 0.767\n",
      "0.40 0.780\n",
      "0.45 0.798\n",
      "0.50 0.800\n",
      "0.55 0.794\n",
      "0.60 0.792\n",
      "0.65 0.766\n",
      "0.70 0.742\n",
      "0.75 0.732\n",
      "0.80 0.726\n",
      "0.85 0.726\n",
      "0.90 0.726\n",
      "0.95 0.726\n",
      "1.00 0.726\n"
     ]
    }
   ],
   "source": [
    "# and we can modify our function as \n",
    "\n",
    "scores = []\n",
    " \n",
    "for t in thresholds:\n",
    "    score = accuracy_score(y_val, y_pred >= t)\n",
    "    print('%.2f %.3f' % (t, score))\n",
    "    scores.append(score)\n",
    "\n",
    "# same as before 0.50 0.803"
   ]
  },
  {
   "cell_type": "code",
   "execution_count": 15,
   "id": "c2a31d7e-b739-4487-8a32-770e9b27b597",
   "metadata": {},
   "outputs": [
    {
     "data": {
      "text/plain": [
       "0.7260468417317246"
      ]
     },
     "execution_count": 15,
     "metadata": {},
     "output_type": "execute_result"
    }
   ],
   "source": [
    "# Check Accuracy of Dummy Baseline\n",
    "# dummy model predicts with 73% accuracy - if we say no one would churn and no need to send promo emails:\n",
    "accuracy_score(y_val, y_pred>= 1.0)\n",
    "# 0.7260468417317246 = 73% - this is the baseline prediction\n",
    "# We improved by 7% over the baseline so far..."
   ]
  },
  {
   "cell_type": "code",
   "execution_count": 16,
   "id": "4a5e70ca-b718-46e4-b15e-5383b4aa55b5",
   "metadata": {},
   "outputs": [
    {
     "data": {
      "text/plain": [
       "Counter({np.int64(0): 1023, np.int64(1): 386})"
      ]
     },
     "execution_count": 16,
     "metadata": {},
     "output_type": "execute_result"
    }
   ],
   "source": [
    "# it happens because our distribution is skewd - 3:1 class imbalance:\n",
    "from collections import Counter\n",
    "\n",
    "Counter(y_val) # counts our instances like so:\n",
    "# Counter({np.int64(0): 1023, np.int64(1): 386})\n",
    "# we have 1023 non-churn and only 386 churn customer cases - 3:1 ratio"
   ]
  },
  {
   "cell_type": "code",
   "execution_count": 17,
   "id": "c69305bb-af70-47bb-9dd4-4b6b8aee26e3",
   "metadata": {},
   "outputs": [
    {
     "data": {
      "text/plain": [
       "np.float64(0.2739531582682754)"
      ]
     },
     "execution_count": 17,
     "metadata": {},
     "output_type": "execute_result"
    }
   ],
   "source": [
    "y_val.mean()\n",
    "# np.float64(0.2739531582682754) - only 27% customers churn"
   ]
  },
  {
   "cell_type": "code",
   "execution_count": 18,
   "id": "e5884588-d97b-4d3b-b6fe-ae13b36a0042",
   "metadata": {},
   "outputs": [
    {
     "data": {
      "text/plain": [
       "np.float64(0.7260468417317246)"
      ]
     },
     "execution_count": 18,
     "metadata": {},
     "output_type": "execute_result"
    }
   ],
   "source": [
    "1-y_val.mean()\n",
    "# np.float64(0.7260468417317246) - 73% non-churning customers - \n",
    "# this is exactly the 73% our dummy model predicted...\n",
    "# so if we predict no one will churn - by dummy model or by bad quality model \n",
    "# due to the class imbalance 3:1 we will be right in 73% - our baseline. \n",
    "\n",
    "# I remember Casie Kozyrkov Google ML eng lecture and her parking lot example \n",
    "# where the model predicted parking always 100% occupied.\n"
   ]
  },
  {
   "cell_type": "markdown",
   "id": "ce80bca7-d316-4f06-a657-fba8e4007a2e",
   "metadata": {},
   "source": [
    "## Confusion table / confusion matrix"
   ]
  },
  {
   "cell_type": "code",
   "execution_count": 19,
   "id": "a4fe4eb4-e5e8-4301-a9d3-02a0a138cd5b",
   "metadata": {},
   "outputs": [],
   "source": [
    "# we have to use other metrics than accuracy in our class imbalanced case,\n",
    "# because accuracy alone gives us only 7% over the baseline - not enough.\n",
    "actual_positive = (y_val == 1) # people who in fact churned\n",
    "# actual_positive # array([False, False, False, ..., False,  True,  True], shape=(1409,))\n",
    "actual_negative = (y_val == 0) # people who in fact did NOT churn\n"
   ]
  },
  {
   "cell_type": "code",
   "execution_count": 20,
   "id": "72f2c111-568c-4011-a2ad-17d2c24f15ac",
   "metadata": {},
   "outputs": [],
   "source": [
    "t = 0.5 # our threshold\n",
    "predict_positive = (y_pred >= t)\n",
    "predict_negative = (y_pred < t)"
   ]
  },
  {
   "cell_type": "code",
   "execution_count": 21,
   "id": "4a212f36-d994-4edb-acc1-e9068d1b0f1d",
   "metadata": {},
   "outputs": [],
   "source": [
    "# then true positive are in fact people who did churn and were predicted to churn:\n",
    "true_positive = actual_positive & predict_positive \n",
    "# & - logical AND - here select people who were positive in both cases"
   ]
  },
  {
   "cell_type": "code",
   "execution_count": 22,
   "id": "a0fea830-be42-4a71-8119-9e789883b8fe",
   "metadata": {},
   "outputs": [
    {
     "data": {
      "text/plain": [
       "np.int64(181)"
      ]
     },
     "execution_count": 22,
     "metadata": {},
     "output_type": "execute_result"
    }
   ],
   "source": [
    "# how many of them?\n",
    "tp = (actual_positive & predict_positive).sum()\n",
    "tp # 210"
   ]
  },
  {
   "cell_type": "code",
   "execution_count": 23,
   "id": "d0bf53d2-fd16-4048-af21-790d613ba7ed",
   "metadata": {},
   "outputs": [
    {
     "data": {
      "text/plain": [
       "np.int64(946)"
      ]
     },
     "execution_count": 23,
     "metadata": {},
     "output_type": "execute_result"
    }
   ],
   "source": [
    "# similar with true negatives - predicted not churn and not churned in real life\n",
    "tn = (actual_negative & predict_negative).sum()\n",
    "tn # 922"
   ]
  },
  {
   "cell_type": "code",
   "execution_count": 24,
   "id": "86f2f341-72bf-43e2-8417-e4482fc63a25",
   "metadata": {},
   "outputs": [
    {
     "data": {
      "text/plain": [
       "np.int64(77)"
      ]
     },
     "execution_count": 24,
     "metadata": {},
     "output_type": "execute_result"
    }
   ],
   "source": [
    "# false positive - people who were predicted to churn but never did:\n",
    "fp = (actual_negative & predict_positive).sum()\n",
    "fp # 101"
   ]
  },
  {
   "cell_type": "code",
   "execution_count": 25,
   "id": "2731a3d6-804d-4cae-b6c8-c8c2cd416ed3",
   "metadata": {},
   "outputs": [
    {
     "data": {
      "text/plain": [
       "np.int64(205)"
      ]
     },
     "execution_count": 25,
     "metadata": {},
     "output_type": "execute_result"
    }
   ],
   "source": [
    "# and false negative - people who were predicted to stay but in fact churned:\n",
    "fn = (actual_positive & predict_negative).sum()\n",
    "fn # 176"
   ]
  },
  {
   "cell_type": "code",
   "execution_count": 26,
   "id": "9716d352-ca10-4cd0-8178-ec361dae3a7f",
   "metadata": {},
   "outputs": [
    {
     "data": {
      "text/plain": [
       "np.int64(1409)"
      ]
     },
     "execution_count": 26,
     "metadata": {},
     "output_type": "execute_result"
    }
   ],
   "source": [
    "# quick sanity check -\n",
    "fp + fn + tp + tn\n",
    "# 1409 - this is how many people we have in val dataset - all good!"
   ]
  },
  {
   "cell_type": "code",
   "execution_count": 27,
   "id": "0aea76e1-825b-4c2c-a7e6-6638a343b740",
   "metadata": {},
   "outputs": [],
   "source": [
    "# Lets create confusion matrix as Numpy array\n",
    "confusion_matrix = np.array([\n",
    "[tn, fp],\n",
    "[fn, tp]\n",
    "])"
   ]
  },
  {
   "cell_type": "code",
   "execution_count": 28,
   "id": "119a1e61-8509-4180-91d3-32babaf6152e",
   "metadata": {},
   "outputs": [
    {
     "data": {
      "text/plain": [
       "array([[946,  77],\n",
       "       [205, 181]])"
      ]
     },
     "execution_count": 28,
     "metadata": {},
     "output_type": "execute_result"
    }
   ],
   "source": [
    "# lets print it out\n",
    "confusion_matrix\n",
    "# array([[922, 101],\n",
    "#        [176, 210]])"
   ]
  },
  {
   "cell_type": "code",
   "execution_count": 29,
   "id": "2d63c690-547f-432d-a421-b4f8a75ee8ed",
   "metadata": {},
   "outputs": [
    {
     "data": {
      "text/plain": [
       "array([[0.67, 0.05],\n",
       "       [0.15, 0.13]])"
      ]
     },
     "execution_count": 29,
     "metadata": {},
     "output_type": "execute_result"
    }
   ],
   "source": [
    "# and get % values\n",
    "(confusion_matrix / confusion_matrix.sum()).round(2)\n",
    "# array([[0.65, 0.07],\n",
    "#        [0.12, 0.15]])\n",
    "\n",
    "# we ended up in 80% correct predictions - tp + tn = our accuracy 80%\n",
    "# and 20% incorrect predictions - fp + fn"
   ]
  },
  {
   "cell_type": "markdown",
   "id": "d6437c3d-0c3c-4628-a1c8-232721ac4856",
   "metadata": {},
   "source": [
    "## Precision and recall"
   ]
  },
  {
   "cell_type": "code",
   "execution_count": 30,
   "id": "217c0eba-ef50-4e49-96bc-1288e91c907c",
   "metadata": {},
   "outputs": [
    {
     "data": {
      "text/plain": [
       "np.float64(0.7998580553584103)"
      ]
     },
     "execution_count": 30,
     "metadata": {},
     "output_type": "execute_result"
    }
   ],
   "source": [
    "# from tp, tn, fp and fn we can derive other metrics too, not only confusion matrix and accuracy\n",
    "\n",
    "# accuracy - how many correct predictions our model make\n",
    "accuracy = (tp + tn)/(tp+tn+fp+fn)\n",
    "accuracy # np.float64(0.8034066713981547) - our 80% accuracy"
   ]
  },
  {
   "cell_type": "code",
   "execution_count": 31,
   "id": "d74f3244-5a3b-4194-82ba-699d90edba20",
   "metadata": {},
   "outputs": [
    {
     "data": {
      "text/plain": [
       "np.float64(0.7015503875968992)"
      ]
     },
     "execution_count": 31,
     "metadata": {},
     "output_type": "execute_result"
    }
   ],
   "source": [
    "# precision is fraction of positive predictions (churn) that are correct\n",
    "\n",
    "p = tp / (tp + fp)  # true positives divided by all positives - \n",
    "# - how much churn we actually collect/address with our model - \n",
    "# - we were able to collect 2/3 churn customer cases\n",
    "p # np.float64(0.6752411575562701) - 67%"
   ]
  },
  {
   "cell_type": "code",
   "execution_count": 32,
   "id": "e820132c-c8f3-49b0-9ca5-a04e0f57cd7c",
   "metadata": {},
   "outputs": [
    {
     "data": {
      "text/plain": [
       "np.float64(0.4689119170984456)"
      ]
     },
     "execution_count": 32,
     "metadata": {},
     "output_type": "execute_result"
    }
   ],
   "source": [
    "# recall - how many people our model recognised as churn out of all churning people\n",
    "\n",
    "r = tp / (tp + fn)\n",
    "r # np.float64(0.5440414507772021) - 54% - roughly 1/2"
   ]
  },
  {
   "cell_type": "markdown",
   "id": "e99abc4c-624e-40cd-9fce-7f6edffb7f27",
   "metadata": {},
   "source": [
    "## ROC curves"
   ]
  },
  {
   "cell_type": "code",
   "execution_count": 33,
   "id": "15525c30-d044-4998-aca5-5becb8cbef8d",
   "metadata": {},
   "outputs": [
    {
     "data": {
      "text/plain": [
       "(np.float64(0.07526881720430108), np.float64(0.4689119170984456))"
      ]
     },
     "execution_count": 33,
     "metadata": {},
     "output_type": "execute_result"
    }
   ],
   "source": [
    "# ROC - receiver operating characteristics\n",
    "# Comes from WWII - evaluating of the strength of radar detectors \n",
    "# We are interested in FPR - false positive rate and TPR - true positive rate\n",
    "\n",
    "# FPR = fp / (fp + tn) # divide false positives by all negatives - true neg and false pos\n",
    "# TPR = tp / (fn + tp) # divide true positives by all positives - false neg and true pos\n",
    "\n",
    "tpr = tp / (fn + tp)\n",
    "fpr = fp / (fp + tn)\n",
    "(fpr, tpr) # (np.float64(0.09872922776148582), np.float64(0.5440414507772021))\n",
    "# 10% and 54% respectively "
   ]
  },
  {
   "cell_type": "code",
   "execution_count": 34,
   "id": "a7774e91-5bf2-4856-9214-487d265af809",
   "metadata": {},
   "outputs": [
    {
     "data": {
      "text/plain": [
       "(np.float64(0.4689119170984456), np.float64(0.4689119170984456))"
      ]
     },
     "execution_count": 34,
     "metadata": {},
     "output_type": "execute_result"
    }
   ],
   "source": [
    "tpr, r # tpr is the same as recall - percentage of how much our model collects/predicts churn from all churn - about 1/2"
   ]
  },
  {
   "cell_type": "code",
   "execution_count": 35,
   "id": "e681ca7d-afa6-4a73-ac47-ac410a2def03",
   "metadata": {},
   "outputs": [
    {
     "data": {
      "text/plain": [
       "[(np.float64(0.0), np.int64(386), np.int64(1023), np.int64(0), np.int64(0)),\n",
       " (np.float64(0.01), np.int64(386), np.int64(959), np.int64(0), np.int64(64)),\n",
       " (np.float64(0.02), np.int64(385), np.int64(913), np.int64(1), np.int64(110))]"
      ]
     },
     "execution_count": 35,
     "metadata": {},
     "output_type": "execute_result"
    }
   ],
   "source": [
    "# we can evaluate tpr and fpr for different thresholds - not only for 0.5 - similar to radar sensitivity fine tuning\n",
    "\n",
    "scores = []\n",
    "thresholds = np.linspace(0, 1, 101) # similar to list(range(...\n",
    "\n",
    "for t in thresholds:\n",
    "    actual_positive = (y_val == 1) # people who in fact churned\n",
    "    actual_negative = (y_val == 0)\n",
    "    \n",
    "    predict_positive = (y_pred >= t)\n",
    "    predict_negative = (y_pred < t)\n",
    "\n",
    "    tp = (actual_positive & predict_positive).sum()\n",
    "    tn = (actual_negative & predict_negative).sum()\n",
    "    fp = (actual_negative & predict_positive).sum()\n",
    "    fn = (actual_positive & predict_negative).sum()\n",
    "\n",
    "    scores.append((t, tp, fp, fn, tn))\n",
    "\n",
    "scores[:3]"
   ]
  },
  {
   "cell_type": "code",
   "execution_count": 36,
   "id": "29e44f56-fede-4fe5-9aec-d1403e565d1e",
   "metadata": {},
   "outputs": [
    {
     "data": {
      "text/html": [
       "<div>\n",
       "<style scoped>\n",
       "    .dataframe tbody tr th:only-of-type {\n",
       "        vertical-align: middle;\n",
       "    }\n",
       "\n",
       "    .dataframe tbody tr th {\n",
       "        vertical-align: top;\n",
       "    }\n",
       "\n",
       "    .dataframe thead th {\n",
       "        text-align: right;\n",
       "    }\n",
       "</style>\n",
       "<table border=\"1\" class=\"dataframe\">\n",
       "  <thead>\n",
       "    <tr style=\"text-align: right;\">\n",
       "      <th></th>\n",
       "      <th>threshold</th>\n",
       "      <th>tp</th>\n",
       "      <th>fp</th>\n",
       "      <th>fn</th>\n",
       "      <th>tn</th>\n",
       "    </tr>\n",
       "  </thead>\n",
       "  <tbody>\n",
       "    <tr>\n",
       "      <th>0</th>\n",
       "      <td>0.00</td>\n",
       "      <td>386</td>\n",
       "      <td>1023</td>\n",
       "      <td>0</td>\n",
       "      <td>0</td>\n",
       "    </tr>\n",
       "    <tr>\n",
       "      <th>1</th>\n",
       "      <td>0.01</td>\n",
       "      <td>386</td>\n",
       "      <td>959</td>\n",
       "      <td>0</td>\n",
       "      <td>64</td>\n",
       "    </tr>\n",
       "    <tr>\n",
       "      <th>2</th>\n",
       "      <td>0.02</td>\n",
       "      <td>385</td>\n",
       "      <td>913</td>\n",
       "      <td>1</td>\n",
       "      <td>110</td>\n",
       "    </tr>\n",
       "    <tr>\n",
       "      <th>3</th>\n",
       "      <td>0.03</td>\n",
       "      <td>385</td>\n",
       "      <td>867</td>\n",
       "      <td>1</td>\n",
       "      <td>156</td>\n",
       "    </tr>\n",
       "    <tr>\n",
       "      <th>4</th>\n",
       "      <td>0.04</td>\n",
       "      <td>381</td>\n",
       "      <td>827</td>\n",
       "      <td>5</td>\n",
       "      <td>196</td>\n",
       "    </tr>\n",
       "  </tbody>\n",
       "</table>\n",
       "</div>"
      ],
      "text/plain": [
       "   threshold   tp    fp  fn   tn\n",
       "0       0.00  386  1023   0    0\n",
       "1       0.01  386   959   0   64\n",
       "2       0.02  385   913   1  110\n",
       "3       0.03  385   867   1  156\n",
       "4       0.04  381   827   5  196"
      ]
     },
     "execution_count": 36,
     "metadata": {},
     "output_type": "execute_result"
    }
   ],
   "source": [
    "columns = ['threshold', 'tp', 'fp', 'fn', 'tn']\n",
    "df_scores = pd.DataFrame(scores, columns=columns)\n",
    "# df_scores.columns = columns\n",
    "df_scores.head()"
   ]
  },
  {
   "cell_type": "code",
   "execution_count": 37,
   "id": "6b9eb072-b4d8-4754-bd84-ca4538aac3d7",
   "metadata": {},
   "outputs": [
    {
     "data": {
      "text/html": [
       "<div>\n",
       "<style scoped>\n",
       "    .dataframe tbody tr th:only-of-type {\n",
       "        vertical-align: middle;\n",
       "    }\n",
       "\n",
       "    .dataframe tbody tr th {\n",
       "        vertical-align: top;\n",
       "    }\n",
       "\n",
       "    .dataframe thead th {\n",
       "        text-align: right;\n",
       "    }\n",
       "</style>\n",
       "<table border=\"1\" class=\"dataframe\">\n",
       "  <thead>\n",
       "    <tr style=\"text-align: right;\">\n",
       "      <th></th>\n",
       "      <th>threshold</th>\n",
       "      <th>tp</th>\n",
       "      <th>fp</th>\n",
       "      <th>fn</th>\n",
       "      <th>tn</th>\n",
       "    </tr>\n",
       "  </thead>\n",
       "  <tbody>\n",
       "    <tr>\n",
       "      <th>0</th>\n",
       "      <td>0.0</td>\n",
       "      <td>386</td>\n",
       "      <td>1023</td>\n",
       "      <td>0</td>\n",
       "      <td>0</td>\n",
       "    </tr>\n",
       "    <tr>\n",
       "      <th>10</th>\n",
       "      <td>0.1</td>\n",
       "      <td>373</td>\n",
       "      <td>653</td>\n",
       "      <td>13</td>\n",
       "      <td>370</td>\n",
       "    </tr>\n",
       "    <tr>\n",
       "      <th>20</th>\n",
       "      <td>0.2</td>\n",
       "      <td>325</td>\n",
       "      <td>391</td>\n",
       "      <td>61</td>\n",
       "      <td>632</td>\n",
       "    </tr>\n",
       "    <tr>\n",
       "      <th>30</th>\n",
       "      <td>0.3</td>\n",
       "      <td>284</td>\n",
       "      <td>250</td>\n",
       "      <td>102</td>\n",
       "      <td>773</td>\n",
       "    </tr>\n",
       "    <tr>\n",
       "      <th>40</th>\n",
       "      <td>0.4</td>\n",
       "      <td>231</td>\n",
       "      <td>155</td>\n",
       "      <td>155</td>\n",
       "      <td>868</td>\n",
       "    </tr>\n",
       "    <tr>\n",
       "      <th>50</th>\n",
       "      <td>0.5</td>\n",
       "      <td>181</td>\n",
       "      <td>77</td>\n",
       "      <td>205</td>\n",
       "      <td>946</td>\n",
       "    </tr>\n",
       "    <tr>\n",
       "      <th>60</th>\n",
       "      <td>0.6</td>\n",
       "      <td>126</td>\n",
       "      <td>33</td>\n",
       "      <td>260</td>\n",
       "      <td>990</td>\n",
       "    </tr>\n",
       "    <tr>\n",
       "      <th>70</th>\n",
       "      <td>0.7</td>\n",
       "      <td>29</td>\n",
       "      <td>6</td>\n",
       "      <td>357</td>\n",
       "      <td>1017</td>\n",
       "    </tr>\n",
       "    <tr>\n",
       "      <th>80</th>\n",
       "      <td>0.8</td>\n",
       "      <td>0</td>\n",
       "      <td>0</td>\n",
       "      <td>386</td>\n",
       "      <td>1023</td>\n",
       "    </tr>\n",
       "    <tr>\n",
       "      <th>90</th>\n",
       "      <td>0.9</td>\n",
       "      <td>0</td>\n",
       "      <td>0</td>\n",
       "      <td>386</td>\n",
       "      <td>1023</td>\n",
       "    </tr>\n",
       "    <tr>\n",
       "      <th>100</th>\n",
       "      <td>1.0</td>\n",
       "      <td>0</td>\n",
       "      <td>0</td>\n",
       "      <td>386</td>\n",
       "      <td>1023</td>\n",
       "    </tr>\n",
       "  </tbody>\n",
       "</table>\n",
       "</div>"
      ],
      "text/plain": [
       "     threshold   tp    fp   fn    tn\n",
       "0          0.0  386  1023    0     0\n",
       "10         0.1  373   653   13   370\n",
       "20         0.2  325   391   61   632\n",
       "30         0.3  284   250  102   773\n",
       "40         0.4  231   155  155   868\n",
       "50         0.5  181    77  205   946\n",
       "60         0.6  126    33  260   990\n",
       "70         0.7   29     6  357  1017\n",
       "80         0.8    0     0  386  1023\n",
       "90         0.9    0     0  386  1023\n",
       "100        1.0    0     0  386  1023"
      ]
     },
     "execution_count": 37,
     "metadata": {},
     "output_type": "execute_result"
    }
   ],
   "source": [
    "# or nice trick - print every 10th record:\n",
    "df_scores[::10]\n",
    "# NB 50\t0.5\t210\t101\t176\t922 - same as we saw before - quick sanity check"
   ]
  },
  {
   "cell_type": "code",
   "execution_count": 38,
   "id": "8dece05c-0c6c-47a9-9dea-f45f92985dc1",
   "metadata": {},
   "outputs": [
    {
     "data": {
      "text/html": [
       "<div>\n",
       "<style scoped>\n",
       "    .dataframe tbody tr th:only-of-type {\n",
       "        vertical-align: middle;\n",
       "    }\n",
       "\n",
       "    .dataframe tbody tr th {\n",
       "        vertical-align: top;\n",
       "    }\n",
       "\n",
       "    .dataframe thead th {\n",
       "        text-align: right;\n",
       "    }\n",
       "</style>\n",
       "<table border=\"1\" class=\"dataframe\">\n",
       "  <thead>\n",
       "    <tr style=\"text-align: right;\">\n",
       "      <th></th>\n",
       "      <th>threshold</th>\n",
       "      <th>tp</th>\n",
       "      <th>fp</th>\n",
       "      <th>fn</th>\n",
       "      <th>tn</th>\n",
       "      <th>tpr</th>\n",
       "      <th>fpr</th>\n",
       "    </tr>\n",
       "  </thead>\n",
       "  <tbody>\n",
       "    <tr>\n",
       "      <th>0</th>\n",
       "      <td>0.0</td>\n",
       "      <td>386</td>\n",
       "      <td>1023</td>\n",
       "      <td>0</td>\n",
       "      <td>0</td>\n",
       "      <td>1.000000</td>\n",
       "      <td>1.000000</td>\n",
       "    </tr>\n",
       "    <tr>\n",
       "      <th>10</th>\n",
       "      <td>0.1</td>\n",
       "      <td>373</td>\n",
       "      <td>653</td>\n",
       "      <td>13</td>\n",
       "      <td>370</td>\n",
       "      <td>0.966321</td>\n",
       "      <td>0.638319</td>\n",
       "    </tr>\n",
       "    <tr>\n",
       "      <th>20</th>\n",
       "      <td>0.2</td>\n",
       "      <td>325</td>\n",
       "      <td>391</td>\n",
       "      <td>61</td>\n",
       "      <td>632</td>\n",
       "      <td>0.841969</td>\n",
       "      <td>0.382209</td>\n",
       "    </tr>\n",
       "    <tr>\n",
       "      <th>30</th>\n",
       "      <td>0.3</td>\n",
       "      <td>284</td>\n",
       "      <td>250</td>\n",
       "      <td>102</td>\n",
       "      <td>773</td>\n",
       "      <td>0.735751</td>\n",
       "      <td>0.244379</td>\n",
       "    </tr>\n",
       "    <tr>\n",
       "      <th>40</th>\n",
       "      <td>0.4</td>\n",
       "      <td>231</td>\n",
       "      <td>155</td>\n",
       "      <td>155</td>\n",
       "      <td>868</td>\n",
       "      <td>0.598446</td>\n",
       "      <td>0.151515</td>\n",
       "    </tr>\n",
       "    <tr>\n",
       "      <th>50</th>\n",
       "      <td>0.5</td>\n",
       "      <td>181</td>\n",
       "      <td>77</td>\n",
       "      <td>205</td>\n",
       "      <td>946</td>\n",
       "      <td>0.468912</td>\n",
       "      <td>0.075269</td>\n",
       "    </tr>\n",
       "    <tr>\n",
       "      <th>60</th>\n",
       "      <td>0.6</td>\n",
       "      <td>126</td>\n",
       "      <td>33</td>\n",
       "      <td>260</td>\n",
       "      <td>990</td>\n",
       "      <td>0.326425</td>\n",
       "      <td>0.032258</td>\n",
       "    </tr>\n",
       "    <tr>\n",
       "      <th>70</th>\n",
       "      <td>0.7</td>\n",
       "      <td>29</td>\n",
       "      <td>6</td>\n",
       "      <td>357</td>\n",
       "      <td>1017</td>\n",
       "      <td>0.075130</td>\n",
       "      <td>0.005865</td>\n",
       "    </tr>\n",
       "    <tr>\n",
       "      <th>80</th>\n",
       "      <td>0.8</td>\n",
       "      <td>0</td>\n",
       "      <td>0</td>\n",
       "      <td>386</td>\n",
       "      <td>1023</td>\n",
       "      <td>0.000000</td>\n",
       "      <td>0.000000</td>\n",
       "    </tr>\n",
       "    <tr>\n",
       "      <th>90</th>\n",
       "      <td>0.9</td>\n",
       "      <td>0</td>\n",
       "      <td>0</td>\n",
       "      <td>386</td>\n",
       "      <td>1023</td>\n",
       "      <td>0.000000</td>\n",
       "      <td>0.000000</td>\n",
       "    </tr>\n",
       "    <tr>\n",
       "      <th>100</th>\n",
       "      <td>1.0</td>\n",
       "      <td>0</td>\n",
       "      <td>0</td>\n",
       "      <td>386</td>\n",
       "      <td>1023</td>\n",
       "      <td>0.000000</td>\n",
       "      <td>0.000000</td>\n",
       "    </tr>\n",
       "  </tbody>\n",
       "</table>\n",
       "</div>"
      ],
      "text/plain": [
       "     threshold   tp    fp   fn    tn       tpr       fpr\n",
       "0          0.0  386  1023    0     0  1.000000  1.000000\n",
       "10         0.1  373   653   13   370  0.966321  0.638319\n",
       "20         0.2  325   391   61   632  0.841969  0.382209\n",
       "30         0.3  284   250  102   773  0.735751  0.244379\n",
       "40         0.4  231   155  155   868  0.598446  0.151515\n",
       "50         0.5  181    77  205   946  0.468912  0.075269\n",
       "60         0.6  126    33  260   990  0.326425  0.032258\n",
       "70         0.7   29     6  357  1017  0.075130  0.005865\n",
       "80         0.8    0     0  386  1023  0.000000  0.000000\n",
       "90         0.9    0     0  386  1023  0.000000  0.000000\n",
       "100        1.0    0     0  386  1023  0.000000  0.000000"
      ]
     },
     "execution_count": 38,
     "metadata": {},
     "output_type": "execute_result"
    }
   ],
   "source": [
    "# add tpr and fpr columns:\n",
    "df_scores['tpr'] = df_scores.tp / (df_scores.tp + df_scores.fn)\n",
    "df_scores['fpr'] = df_scores.fp / (df_scores.fp + df_scores.tn)\n",
    "df_scores[::10]\n",
    "# quick sanity check - 50\t0.5\t210\t101\t176\t922\t0.544041\t0.098729 - as we have seen before"
   ]
  },
  {
   "cell_type": "code",
   "execution_count": 39,
   "id": "0f86cb0e-e7de-434f-b093-3160d6551d20",
   "metadata": {},
   "outputs": [
    {
     "data": {
      "text/plain": [
       "<matplotlib.legend.Legend at 0x72b2db1622a0>"
      ]
     },
     "execution_count": 39,
     "metadata": {},
     "output_type": "execute_result"
    },
    {
     "data": {
      "image/png": "[encoded data removed]",
      "text/plain": [
       "<Figure size 640x480 with 1 Axes>"
      ]
     },
     "metadata": {},
     "output_type": "display_data"
    }
   ],
   "source": [
    "# and plotting part:\n",
    "plt.plot(df_scores.threshold, df_scores['tpr'], label='TPR')\n",
    "plt.plot(df_scores.threshold, df_scores['fpr'], label='FPR')\n",
    "plt.legend()"
   ]
  },
  {
   "cell_type": "code",
   "execution_count": 40,
   "id": "a8083a92-0290-4bca-a44e-f8ae8d001bdd",
   "metadata": {},
   "outputs": [
    {
     "data": {
      "text/plain": [
       "<matplotlib.legend.Legend at 0x72b2db1fb7d0>"
      ]
     },
     "execution_count": 40,
     "metadata": {},
     "output_type": "execute_result"
    },
    {
     "data": {
      "image/png": "[encoded data removed]",
      "text/plain": [
       "<Figure size 640x480 with 1 Axes>"
      ]
     },
     "metadata": {},
     "output_type": "display_data"
    }
   ],
   "source": [
    "plt.plot(df_scores.threshold, df_scores.tpr, label='TPR')\n",
    "plt.legend()\n",
    "\n",
    "# for trhreshold = 0 our model is dummy mmodel - it predicts everyone as churn, thats why TPR = 1\n",
    "# thus for model quality we need to minimize area under yellow curve => push the curve or FPR down\n",
    "# and maximize area under blue curve -> to push TPR and its curve up respectively"
   ]
  },
  {
   "cell_type": "markdown",
   "id": "be027d18-0d41-4b0c-9e55-34919edf62c7",
   "metadata": {},
   "source": [
    "## Random model"
   ]
  },
  {
   "cell_type": "code",
   "execution_count": 41,
   "id": "2447e864-3fd7-45fa-8fb9-e9746cf71ee8",
   "metadata": {},
   "outputs": [
    {
     "data": {
      "text/plain": [
       "array([0.417, 0.72 , 0.   , ..., 0.774, 0.334, 0.089], shape=(1409,))"
      ]
     },
     "execution_count": 41,
     "metadata": {},
     "output_type": "execute_result"
    }
   ],
   "source": [
    "# Random model\n",
    "# we need random model - model which randomly assign customers to churn/no churn groups\n",
    "# so we can compare our model with the random choice and see if it is any better....\n",
    "\n",
    "np.random.seed(1)\n",
    "y_rand = np.random.uniform(0, 1, size=len(y_val))\n",
    "y_rand.round(3)"
   ]
  },
  {
   "cell_type": "code",
   "execution_count": 42,
   "id": "791ea0ee-d077-4e8c-8108-67c87ced867b",
   "metadata": {},
   "outputs": [
    {
     "data": {
      "text/plain": [
       "np.float64(0.5017743080198722)"
      ]
     },
     "execution_count": 42,
     "metadata": {},
     "output_type": "execute_result"
    }
   ],
   "source": [
    "# we expect accuracy of this random model to be 50% - equal chance for hit or miss:\n",
    "((y_rand >= 0.5) == y_val).mean() # np.float64(0.5017743080198722)"
   ]
  },
  {
   "cell_type": "code",
   "execution_count": 43,
   "id": "1325d074-f694-493d-a5e1-0bd7c5e16a5f",
   "metadata": {},
   "outputs": [],
   "source": [
    "# to plot tpr and fpr of this random model we put calculations into a function for convenience\n",
    "\n",
    "\t\n",
    "def tpr_fpr_dataframe(y_val, y_pred):\n",
    "    scores = []\n",
    "    thresholds = np.linspace(0, 1, 101)\n",
    " \n",
    "    for t in thresholds:\n",
    "        actual_positive = (y_val == 1)\n",
    "        actual_negative = (y_val == 0)\n",
    " \n",
    "        predict_positive = (y_pred >= t)\n",
    "        predict_negative = (y_pred < t)\n",
    " \n",
    "        tp = (predict_positive & actual_positive).sum()\n",
    "        tn = (predict_negative & actual_negative).sum()\n",
    " \n",
    "        fp = (predict_positive & actual_negative).sum()\n",
    "        fn = (predict_negative & actual_positive).sum()\n",
    " \n",
    "        scores.append((t, tp, tn, fp, fn))\n",
    " \n",
    "    columns = ['threshold', 'tp', 'tn', 'fp', 'fn']\n",
    "    df_scores = pd.DataFrame(scores, columns=columns)\n",
    " \n",
    "    df_scores['tpr'] = df_scores.tp / (df_scores.tp + df_scores.fn)\n",
    "    df_scores['fpr'] = df_scores.fp / (df_scores.fp + df_scores.tn)\n",
    " \n",
    "    return df_scores\n",
    "\n",
    "    "
   ]
  },
  {
   "cell_type": "code",
   "execution_count": 44,
   "id": "74a4f65a-95bc-46e3-901b-95e5e570b485",
   "metadata": {},
   "outputs": [
    {
     "data": {
      "text/html": [
       "<div>\n",
       "<style scoped>\n",
       "    .dataframe tbody tr th:only-of-type {\n",
       "        vertical-align: middle;\n",
       "    }\n",
       "\n",
       "    .dataframe tbody tr th {\n",
       "        vertical-align: top;\n",
       "    }\n",
       "\n",
       "    .dataframe thead th {\n",
       "        text-align: right;\n",
       "    }\n",
       "</style>\n",
       "<table border=\"1\" class=\"dataframe\">\n",
       "  <thead>\n",
       "    <tr style=\"text-align: right;\">\n",
       "      <th></th>\n",
       "      <th>threshold</th>\n",
       "      <th>tp</th>\n",
       "      <th>tn</th>\n",
       "      <th>fp</th>\n",
       "      <th>fn</th>\n",
       "      <th>tpr</th>\n",
       "      <th>fpr</th>\n",
       "    </tr>\n",
       "  </thead>\n",
       "  <tbody>\n",
       "    <tr>\n",
       "      <th>0</th>\n",
       "      <td>0.0</td>\n",
       "      <td>386</td>\n",
       "      <td>0</td>\n",
       "      <td>1023</td>\n",
       "      <td>0</td>\n",
       "      <td>1.000000</td>\n",
       "      <td>1.000000</td>\n",
       "    </tr>\n",
       "    <tr>\n",
       "      <th>10</th>\n",
       "      <td>0.1</td>\n",
       "      <td>347</td>\n",
       "      <td>100</td>\n",
       "      <td>923</td>\n",
       "      <td>39</td>\n",
       "      <td>0.898964</td>\n",
       "      <td>0.902248</td>\n",
       "    </tr>\n",
       "    <tr>\n",
       "      <th>20</th>\n",
       "      <td>0.2</td>\n",
       "      <td>307</td>\n",
       "      <td>201</td>\n",
       "      <td>822</td>\n",
       "      <td>79</td>\n",
       "      <td>0.795337</td>\n",
       "      <td>0.803519</td>\n",
       "    </tr>\n",
       "    <tr>\n",
       "      <th>30</th>\n",
       "      <td>0.3</td>\n",
       "      <td>276</td>\n",
       "      <td>299</td>\n",
       "      <td>724</td>\n",
       "      <td>110</td>\n",
       "      <td>0.715026</td>\n",
       "      <td>0.707722</td>\n",
       "    </tr>\n",
       "    <tr>\n",
       "      <th>40</th>\n",
       "      <td>0.4</td>\n",
       "      <td>237</td>\n",
       "      <td>399</td>\n",
       "      <td>624</td>\n",
       "      <td>149</td>\n",
       "      <td>0.613990</td>\n",
       "      <td>0.609971</td>\n",
       "    </tr>\n",
       "    <tr>\n",
       "      <th>50</th>\n",
       "      <td>0.5</td>\n",
       "      <td>202</td>\n",
       "      <td>505</td>\n",
       "      <td>518</td>\n",
       "      <td>184</td>\n",
       "      <td>0.523316</td>\n",
       "      <td>0.506354</td>\n",
       "    </tr>\n",
       "    <tr>\n",
       "      <th>60</th>\n",
       "      <td>0.6</td>\n",
       "      <td>161</td>\n",
       "      <td>614</td>\n",
       "      <td>409</td>\n",
       "      <td>225</td>\n",
       "      <td>0.417098</td>\n",
       "      <td>0.399804</td>\n",
       "    </tr>\n",
       "    <tr>\n",
       "      <th>70</th>\n",
       "      <td>0.7</td>\n",
       "      <td>121</td>\n",
       "      <td>721</td>\n",
       "      <td>302</td>\n",
       "      <td>265</td>\n",
       "      <td>0.313472</td>\n",
       "      <td>0.295210</td>\n",
       "    </tr>\n",
       "    <tr>\n",
       "      <th>80</th>\n",
       "      <td>0.8</td>\n",
       "      <td>78</td>\n",
       "      <td>817</td>\n",
       "      <td>206</td>\n",
       "      <td>308</td>\n",
       "      <td>0.202073</td>\n",
       "      <td>0.201369</td>\n",
       "    </tr>\n",
       "    <tr>\n",
       "      <th>90</th>\n",
       "      <td>0.9</td>\n",
       "      <td>40</td>\n",
       "      <td>922</td>\n",
       "      <td>101</td>\n",
       "      <td>346</td>\n",
       "      <td>0.103627</td>\n",
       "      <td>0.098729</td>\n",
       "    </tr>\n",
       "    <tr>\n",
       "      <th>100</th>\n",
       "      <td>1.0</td>\n",
       "      <td>0</td>\n",
       "      <td>1023</td>\n",
       "      <td>0</td>\n",
       "      <td>386</td>\n",
       "      <td>0.000000</td>\n",
       "      <td>0.000000</td>\n",
       "    </tr>\n",
       "  </tbody>\n",
       "</table>\n",
       "</div>"
      ],
      "text/plain": [
       "     threshold   tp    tn    fp   fn       tpr       fpr\n",
       "0          0.0  386     0  1023    0  1.000000  1.000000\n",
       "10         0.1  347   100   923   39  0.898964  0.902248\n",
       "20         0.2  307   201   822   79  0.795337  0.803519\n",
       "30         0.3  276   299   724  110  0.715026  0.707722\n",
       "40         0.4  237   399   624  149  0.613990  0.609971\n",
       "50         0.5  202   505   518  184  0.523316  0.506354\n",
       "60         0.6  161   614   409  225  0.417098  0.399804\n",
       "70         0.7  121   721   302  265  0.313472  0.295210\n",
       "80         0.8   78   817   206  308  0.202073  0.201369\n",
       "90         0.9   40   922   101  346  0.103627  0.098729\n",
       "100        1.0    0  1023     0  386  0.000000  0.000000"
      ]
     },
     "execution_count": 44,
     "metadata": {},
     "output_type": "execute_result"
    }
   ],
   "source": [
    "# use our function to calc dataframe with random model metrics\n",
    "df_rand = tpr_fpr_dataframe(y_val, y_rand)\n",
    "df_rand[::10]\n",
    "# quick sanity check - 50\t0.5\t202\t505\t518\t184\t0.523316\t0.506354 - 50%/50% hit or miss chance"
   ]
  },
  {
   "cell_type": "code",
   "execution_count": 45,
   "id": "9ec51d3d-b287-4b6c-a1c2-3f1c5482a8bc",
   "metadata": {},
   "outputs": [
    {
     "data": {
      "text/plain": [
       "<matplotlib.legend.Legend at 0x72b2dae69e20>"
      ]
     },
     "execution_count": 45,
     "metadata": {},
     "output_type": "execute_result"
    },
    {
     "data": {
      "image/png": "[encoded data removed]",
      "text/plain": [
       "<Figure size 640x480 with 1 Axes>"
      ]
     },
     "metadata": {},
     "output_type": "display_data"
    }
   ],
   "source": [
    "# and plot it in similar fashion as before\n",
    "plt.plot(df_rand.threshold, df_rand['tpr'], label='TPR')\n",
    "plt.plot(df_rand.threshold, df_rand['fpr'], label='FPR')\n",
    "plt.legend()"
   ]
  },
  {
   "cell_type": "markdown",
   "id": "b0754059-4764-4487-a496-6ec948cff53c",
   "metadata": {},
   "source": [
    "## Ideal model"
   ]
  },
  {
   "cell_type": "code",
   "execution_count": 46,
   "id": "4c74bbd9-c819-4943-af1f-5670397a69cf",
   "metadata": {},
   "outputs": [
    {
     "data": {
      "text/plain": [
       "(np.int64(1023), np.int64(386), np.int64(1409))"
      ]
     },
     "execution_count": 46,
     "metadata": {},
     "output_type": "execute_result"
    }
   ],
   "source": [
    "# Ideal model\n",
    "# Now, let’s discuss the concept of an ideal model that makes correct predictions \n",
    "# for every example. To implement this, we need to determine the number of negative \n",
    "# examples, which corresponds to the number of people who are not churning in our dataset.\n",
    "\n",
    "num_neg = (y_val == 0).sum()\n",
    "num_pos = (y_val == 1).sum()\n",
    "num_neg, num_pos, num_neg + num_pos"
   ]
  },
  {
   "cell_type": "code",
   "execution_count": 47,
   "id": "d35279ea-a7db-402f-b945-7c1ddceee7dd",
   "metadata": {},
   "outputs": [
    {
     "data": {
      "text/plain": [
       "array([0, 0, 0, ..., 1, 1, 1], shape=(1409,))"
      ]
     },
     "execution_count": 47,
     "metadata": {},
     "output_type": "execute_result"
    }
   ],
   "source": [
    "# To create the ideal model’s predictions for our validation set, we first create a y_ideal \n",
    "# array that contains only negative observations (0s) followed by positive observations (1s). \n",
    "# We use the np.repeat() function to achieve this, creating an array with 1023 zeros and then 386 ones.\n",
    "\n",
    "y_ideal = np.repeat([0, 1], [num_neg, num_pos])\n",
    "y_ideal\n",
    " \n",
    "# Output: array([0, 0, 0, ..., 1, 1, 1])"
   ]
  },
  {
   "cell_type": "code",
   "execution_count": 48,
   "id": "4f8e02c7-a78c-4bc0-a81b-35bd9d2aeb7d",
   "metadata": {},
   "outputs": [
    {
     "data": {
      "text/plain": [
       "array([0.00000000e+00, 7.10227273e-04, 1.42045455e-03, ...,\n",
       "       9.98579545e-01, 9.99289773e-01, 1.00000000e+00], shape=(1409,))"
      ]
     },
     "execution_count": 48,
     "metadata": {},
     "output_type": "execute_result"
    }
   ],
   "source": [
    "# To create our predictions for the ideal model, which are numbers between 0 and 1, we can use \n",
    "# the np.linspace() function to generate an array of evenly spaced values between 0 and 1. \n",
    "# This array should have the same length as y_ideal, which is 1409 in this case.\n",
    "\n",
    "y_ideal_pred = np.linspace(0, 1, len(y_ideal))\n",
    "y_ideal_pred\n",
    " \n",
    "# Output: \n",
    "# array([0.00000000e+00, 7.10227273e-04, 1.42045455e-03, ...,\n",
    "#       9.98579545e-01, 9.99289773e-01, 1.00000000e+00])"
   ]
  },
  {
   "cell_type": "code",
   "execution_count": 49,
   "id": "c47b92d6-b50c-4903-8299-e0ed74bd3bb9",
   "metadata": {},
   "outputs": [
    {
     "data": {
      "text/plain": [
       "np.float64(0.7260468417317246)"
      ]
     },
     "execution_count": 49,
     "metadata": {},
     "output_type": "execute_result"
    }
   ],
   "source": [
    "1 - y_val.mean()\n",
    "# Output: 0.7260468417317246"
   ]
  },
  {
   "cell_type": "code",
   "execution_count": 50,
   "id": "3c99eeb2-3f65-452e-89cd-26a6b4827b33",
   "metadata": {},
   "outputs": [
    {
     "data": {
      "text/plain": [
       "np.float64(1.0)"
      ]
     },
     "execution_count": 50,
     "metadata": {},
     "output_type": "execute_result"
    }
   ],
   "source": [
    "accuracy_ideal = ((y_ideal_pred >= 0.726) == y_ideal).mean()\n",
    "accuracy_ideal # of course 100%)))  = np.float64(1.0)"
   ]
  },
  {
   "cell_type": "code",
   "execution_count": 51,
   "id": "84169335-7e17-40ce-86be-adbc55976edb",
   "metadata": {},
   "outputs": [
    {
     "data": {
      "text/html": [
       "<div>\n",
       "<style scoped>\n",
       "    .dataframe tbody tr th:only-of-type {\n",
       "        vertical-align: middle;\n",
       "    }\n",
       "\n",
       "    .dataframe tbody tr th {\n",
       "        vertical-align: top;\n",
       "    }\n",
       "\n",
       "    .dataframe thead th {\n",
       "        text-align: right;\n",
       "    }\n",
       "</style>\n",
       "<table border=\"1\" class=\"dataframe\">\n",
       "  <thead>\n",
       "    <tr style=\"text-align: right;\">\n",
       "      <th></th>\n",
       "      <th>threshold</th>\n",
       "      <th>tp</th>\n",
       "      <th>tn</th>\n",
       "      <th>fp</th>\n",
       "      <th>fn</th>\n",
       "      <th>tpr</th>\n",
       "      <th>fpr</th>\n",
       "    </tr>\n",
       "  </thead>\n",
       "  <tbody>\n",
       "    <tr>\n",
       "      <th>0</th>\n",
       "      <td>0.0</td>\n",
       "      <td>386</td>\n",
       "      <td>0</td>\n",
       "      <td>1023</td>\n",
       "      <td>0</td>\n",
       "      <td>1.000000</td>\n",
       "      <td>1.000000</td>\n",
       "    </tr>\n",
       "    <tr>\n",
       "      <th>10</th>\n",
       "      <td>0.1</td>\n",
       "      <td>386</td>\n",
       "      <td>141</td>\n",
       "      <td>882</td>\n",
       "      <td>0</td>\n",
       "      <td>1.000000</td>\n",
       "      <td>0.862170</td>\n",
       "    </tr>\n",
       "    <tr>\n",
       "      <th>20</th>\n",
       "      <td>0.2</td>\n",
       "      <td>386</td>\n",
       "      <td>282</td>\n",
       "      <td>741</td>\n",
       "      <td>0</td>\n",
       "      <td>1.000000</td>\n",
       "      <td>0.724340</td>\n",
       "    </tr>\n",
       "    <tr>\n",
       "      <th>30</th>\n",
       "      <td>0.3</td>\n",
       "      <td>386</td>\n",
       "      <td>423</td>\n",
       "      <td>600</td>\n",
       "      <td>0</td>\n",
       "      <td>1.000000</td>\n",
       "      <td>0.586510</td>\n",
       "    </tr>\n",
       "    <tr>\n",
       "      <th>40</th>\n",
       "      <td>0.4</td>\n",
       "      <td>386</td>\n",
       "      <td>564</td>\n",
       "      <td>459</td>\n",
       "      <td>0</td>\n",
       "      <td>1.000000</td>\n",
       "      <td>0.448680</td>\n",
       "    </tr>\n",
       "    <tr>\n",
       "      <th>50</th>\n",
       "      <td>0.5</td>\n",
       "      <td>386</td>\n",
       "      <td>704</td>\n",
       "      <td>319</td>\n",
       "      <td>0</td>\n",
       "      <td>1.000000</td>\n",
       "      <td>0.311828</td>\n",
       "    </tr>\n",
       "    <tr>\n",
       "      <th>60</th>\n",
       "      <td>0.6</td>\n",
       "      <td>386</td>\n",
       "      <td>845</td>\n",
       "      <td>178</td>\n",
       "      <td>0</td>\n",
       "      <td>1.000000</td>\n",
       "      <td>0.173998</td>\n",
       "    </tr>\n",
       "    <tr>\n",
       "      <th>70</th>\n",
       "      <td>0.7</td>\n",
       "      <td>386</td>\n",
       "      <td>986</td>\n",
       "      <td>37</td>\n",
       "      <td>0</td>\n",
       "      <td>1.000000</td>\n",
       "      <td>0.036168</td>\n",
       "    </tr>\n",
       "    <tr>\n",
       "      <th>80</th>\n",
       "      <td>0.8</td>\n",
       "      <td>282</td>\n",
       "      <td>1023</td>\n",
       "      <td>0</td>\n",
       "      <td>104</td>\n",
       "      <td>0.730570</td>\n",
       "      <td>0.000000</td>\n",
       "    </tr>\n",
       "    <tr>\n",
       "      <th>90</th>\n",
       "      <td>0.9</td>\n",
       "      <td>141</td>\n",
       "      <td>1023</td>\n",
       "      <td>0</td>\n",
       "      <td>245</td>\n",
       "      <td>0.365285</td>\n",
       "      <td>0.000000</td>\n",
       "    </tr>\n",
       "    <tr>\n",
       "      <th>100</th>\n",
       "      <td>1.0</td>\n",
       "      <td>1</td>\n",
       "      <td>1023</td>\n",
       "      <td>0</td>\n",
       "      <td>385</td>\n",
       "      <td>0.002591</td>\n",
       "      <td>0.000000</td>\n",
       "    </tr>\n",
       "  </tbody>\n",
       "</table>\n",
       "</div>"
      ],
      "text/plain": [
       "     threshold   tp    tn    fp   fn       tpr       fpr\n",
       "0          0.0  386     0  1023    0  1.000000  1.000000\n",
       "10         0.1  386   141   882    0  1.000000  0.862170\n",
       "20         0.2  386   282   741    0  1.000000  0.724340\n",
       "30         0.3  386   423   600    0  1.000000  0.586510\n",
       "40         0.4  386   564   459    0  1.000000  0.448680\n",
       "50         0.5  386   704   319    0  1.000000  0.311828\n",
       "60         0.6  386   845   178    0  1.000000  0.173998\n",
       "70         0.7  386   986    37    0  1.000000  0.036168\n",
       "80         0.8  282  1023     0  104  0.730570  0.000000\n",
       "90         0.9  141  1023     0  245  0.365285  0.000000\n",
       "100        1.0    1  1023     0  385  0.002591  0.000000"
      ]
     },
     "execution_count": 51,
     "metadata": {},
     "output_type": "execute_result"
    }
   ],
   "source": [
    "# The ideal model, which makes perfect predictions, doesn’t exist in reality, but it \n",
    "# serves as a benchmark to understand how well our actual model is performing. \n",
    "# By comparing our model’s performance to that of the ideal model, we can assess \n",
    "# how much room for improvement there is.\n",
    "\n",
    "df_ideal = tpr_fpr_dataframe(y_ideal, y_ideal_pred)\n",
    "df_ideal[::10]"
   ]
  },
  {
   "cell_type": "code",
   "execution_count": 52,
   "id": "5d7bff9f-0200-4b2d-8778-a6806e61eb3a",
   "metadata": {},
   "outputs": [
    {
     "data": {
      "text/plain": [
       "<matplotlib.legend.Legend at 0x72b2daedcb60>"
      ]
     },
     "execution_count": 52,
     "metadata": {},
     "output_type": "execute_result"
    },
    {
     "data": {
      "image/png": "[encoded data removed]",
      "text/plain": [
       "<Figure size 640x480 with 1 Axes>"
      ]
     },
     "metadata": {},
     "output_type": "display_data"
    }
   ],
   "source": [
    "plt.plot(df_ideal.threshold, df_ideal['tpr'], label='TPR')\n",
    "plt.plot(df_ideal.threshold, df_ideal['fpr'], label='FPR')\n",
    "plt.legend()"
   ]
  },
  {
   "cell_type": "code",
   "execution_count": 53,
   "id": "43d96242-f122-4aeb-b522-625fc45edbe2",
   "metadata": {},
   "outputs": [],
   "source": [
    "# What we see here is that TPR almost always stays around 1 and starts to go down after the \n",
    "# threshold of 0.726. So, this model can correctly identify churning customers up to that threshold. \n",
    "# For people who are not churning but are classified as churning by the model when the threshold is \n",
    "# below 0.726, the model is not always correct. However, the detection becomes always true after the threshold of 0.726.\n",
    "\n"
   ]
  },
  {
   "cell_type": "markdown",
   "id": "c3bdcc65-5c48-4dce-846d-f140361ca08b",
   "metadata": {},
   "source": [
    "## Putting everything together"
   ]
  },
  {
   "cell_type": "code",
   "execution_count": 54,
   "id": "961a31dc-1f51-447e-a984-47a77caf72ce",
   "metadata": {},
   "outputs": [
    {
     "data": {
      "text/plain": [
       "<matplotlib.legend.Legend at 0x72b2d6d17320>"
      ]
     },
     "execution_count": 54,
     "metadata": {},
     "output_type": "execute_result"
    },
    {
     "data": {
      "image/png": "[encoded data removed]",
      "text/plain": [
       "<Figure size 640x480 with 1 Axes>"
      ]
     },
     "metadata": {},
     "output_type": "display_data"
    }
   ],
   "source": [
    "# Putting everything together\n",
    "# Now let’s try to plot all the models together so we can hold the benchmarks together.\n",
    "\n",
    "plt.plot(df_scores.threshold, df_scores['tpr'], label='TPR')\n",
    "plt.plot(df_scores.threshold, df_scores['fpr'], label='FPR')\n",
    " \n",
    "#plt.plot(df_rand.threshold, df_rand['tpr'], label='TPR')\n",
    "#plt.plot(df_rand.threshold, df_rand['fpr'], label='FPR')\n",
    " \n",
    "plt.plot(df_ideal.threshold, df_ideal['tpr'], label='TPR', color = 'black')\n",
    "plt.plot(df_ideal.threshold, df_ideal['fpr'], label='FPR', color = 'black')\n",
    " \n",
    "plt.legend()"
   ]
  },
  {
   "cell_type": "code",
   "execution_count": 55,
   "id": "c2835be2-c745-42e7-9262-bf351fa59f7a",
   "metadata": {},
   "outputs": [
    {
     "data": {
      "text/plain": [
       "<matplotlib.legend.Legend at 0x72b2d6d6e810>"
      ]
     },
     "execution_count": 55,
     "metadata": {},
     "output_type": "execute_result"
    },
    {
     "data": {
      "image/png": "[encoded data removed]",
      "text/plain": [
       "<Figure size 500x500 with 1 Axes>"
      ]
     },
     "metadata": {},
     "output_type": "display_data"
    }
   ],
   "source": [
    "# We see that our TPR is far from the ideal model. We want it to be as close as possible to 1. \n",
    "# We also notice that our FPR is significantly different from that of the ideal model. \n",
    "# Plotting against the threshold is not always intuitive. For example, in our model, \n",
    "# the best threshold is 0.5, as we know from accuracy. However, for the ideal model, \n",
    "# as we saw earlier, the best threshold is 0.726. So they have different thresholds. \n",
    "# What we can do to better visualize this is to plot FPR against TPR. On the x-axis, \n",
    "# we’ll have FPR, and on the y-axis, we’ll have TPR. To make it easier to understand, \n",
    "# we can also add the benchmark lines.\n",
    "\n",
    "plt.figure(figsize=(5,5))\n",
    " \n",
    "plt.plot(df_scores.fpr, df_scores.tpr, label='model')\n",
    "plt.plot([0,1], [0,1], label='random')\n",
    "#plt.plot(df_rand.fpr, df_rand.tpr, label='random')\n",
    "#plt.plot(df_ideal.fpr, df_ideal.tpr, label='ideal')\n",
    " \n",
    "plt.xlabel('FPR')\n",
    "plt.ylabel('TPR')\n",
    " \n",
    "plt.legend()"
   ]
  },
  {
   "cell_type": "code",
   "execution_count": 56,
   "id": "22c38e5d-0600-40e5-b801-9ed66e19334f",
   "metadata": {},
   "outputs": [
    {
     "data": {
      "text/plain": [
       "<matplotlib.legend.Legend at 0x72b2d6dcdb80>"
      ]
     },
     "execution_count": 56,
     "metadata": {},
     "output_type": "execute_result"
    },
    {
     "data": {
      "image/png": "[encoded data removed]",
      "text/plain": [
       "<Figure size 500x500 with 1 Axes>"
      ]
     },
     "metadata": {},
     "output_type": "display_data"
    }
   ],
   "source": [
    "# In the curve of the ideal model, there is one crucial point, often referred to as the ‘north star’ \n",
    "# or ideal spot, located in the upper-left corner where TPR is 100% and FPR is 0%. This point represents \n",
    "# the optimal performance we aim to achieve with our model. A ROC curve visualizes this by plotting TPR \n",
    "# against FPR, and we usually add a diagonal random baseline. Our goal is to make our model’s curve as \n",
    "# close as possible to this ideal spot, which means simultaneously being as far away as possible from \n",
    "# the random baseline. In essence, if our model closely resembles the random baseline model, it is not performing well.\n",
    "\n",
    "# We can also use the ROC functionality of scikit learn package\n",
    "from sklearn.metrics import roc_curve\n",
    " \n",
    "fpr, tpr, thresholds = roc_curve(y_val, y_pred)\n",
    " \n",
    "plt.figure(figsize=(5,5))\n",
    " \n",
    "plt.plot(fpr, tpr, label='Model')\n",
    "plt.plot([0,1], [0,1], label='Random', linestyle='--')\n",
    " \n",
    "plt.xlabel('FPR')\n",
    "plt.ylabel('TPR')\n",
    " \n",
    "plt.legend()"
   ]
  },
  {
   "cell_type": "code",
   "execution_count": 57,
   "id": "e508d550-61f4-48dd-90e7-8371eb812a26",
   "metadata": {},
   "outputs": [],
   "source": [
    "# HERE WE NEED TO DECREASE THE AREA UNDER ROC CURVE - ROC AUC METRIC/PARAMETER - from my GCP ML eng exam....\n",
    "\n",
    "# What kind of information do we get from ROC curve?\n",
    "# Let’s begin in the lower-left corner, where both TPR and FPR are 0. This occurs at higher thresholds like 1.0. \n",
    "# In this scenario, we predict that every customer is non-churning, resulting in TPR being 0 since we don’t \n",
    "# predict anyone as churning. FPR is also 0 because there are no false positives; we only have true negatives (TN).\n",
    "\n",
    "# As we move from the lower left corner, where the threshold starts at 1.0, we eventually reach the upper-right corner \n",
    "# with a threshold of 0.0. Here, our model achieves 100% TPR because we predict everyone as churning, enabling us to \n",
    "# identify all churning customers. However, we also make many mistakes, incorrectly identifying non-churning customers. \n",
    "# Thus, we have TPR = FPR = 100%.\n",
    "\n",
    "# When we adjust the threshold, we predict more customers as churning, causing our TPR to increase, but the FPR also increases concurrently.\n",
    "\n",
    "# The ROC curve allows us to observe how the model behaves at different thresholds. Each point on the ROC curve represents \n",
    "# TPR and FPR evaluated at a specific threshold. By plotting this curve, we can assess how far the model is from the ideal \n",
    "# spot and how far it is from the random baseline. Additionally, the ROC curve is useful for comparing different models, \n",
    "# as it’s easy to determine which one is superior (a model closer to the ideal spot is better, while one closer to the \n",
    "# random baseline is worse).\n",
    "\n",
    "# There is an interesting metric derived from the ROC curve known as AUC, which stands for the area under the curve.\n",
    "# We need to MAXIMIZE ROC AUC - area under the ROC curve - to reach our ideal spot / north star - top left corner - 100% accuracy\n"
   ]
  },
  {
   "cell_type": "markdown",
   "id": "0ef6ab9a-feb4-4c9d-a2e9-95af014d1d84",
   "metadata": {},
   "source": [
    "## ROC AUC – Area under the ROC curve"
   ]
  },
  {
   "cell_type": "code",
   "execution_count": 58,
   "id": "67b34cd2-5b2d-4553-86c6-ea6e8d28666f",
   "metadata": {},
   "outputs": [
    {
     "data": {
      "text/plain": [
       "0.8265413621422313"
      ]
     },
     "execution_count": 58,
     "metadata": {},
     "output_type": "execute_result"
    }
   ],
   "source": [
    "# ROC AUC – Area under the ROC curve\n",
    "# Useful metric\n",
    "# One way to quantify how close we are to the ideal point is by measuring the area under the ROC curve (AUC). \n",
    "# AUC equals 0.5 for a random baseline and 1.0 for an ideal curve. Therefore, our model’s AUC should fall \n",
    "# between 0.5 and 1.0. When AUC is less than 0.5, we’ve made a mistake. AUC = 0.8 is considered good, \n",
    "# while 0.9 is great, but 0.6 is considered poor. We can calculate AUC using the scikit-learn package. \n",
    "# This package is not specifically for roc curves, this is for any curve. It can calculate area under any curve.\n",
    "\n",
    "from sklearn.metrics import auc\n",
    "# auc needs values for x-axis and y-axis\n",
    "auc(fpr, tpr)\n",
    "# Output: 0.843850505725819"
   ]
  },
  {
   "cell_type": "code",
   "execution_count": 59,
   "id": "1c0ef28a-094c-4aec-9b7a-38c2623ff63c",
   "metadata": {},
   "outputs": [
    {
     "data": {
      "text/plain": [
       "0.8261311088488089"
      ]
     },
     "execution_count": 59,
     "metadata": {},
     "output_type": "execute_result"
    }
   ],
   "source": [
    "auc(df_scores.fpr, df_scores.tpr)\n",
    "# Output: 0.8438732975754537"
   ]
  },
  {
   "cell_type": "code",
   "execution_count": 60,
   "id": "ccf9e654-224b-45f3-8762-e0ea7dbc368e",
   "metadata": {},
   "outputs": [
    {
     "data": {
      "text/plain": [
       "0.9999430203759136"
      ]
     },
     "execution_count": 60,
     "metadata": {},
     "output_type": "execute_result"
    }
   ],
   "source": [
    "auc(df_ideal.fpr, df_ideal.tpr)\n",
    "# Output: 0.9999430203759136"
   ]
  },
  {
   "cell_type": "code",
   "execution_count": 61,
   "id": "1eda6e88-9e32-4ad2-90dc-ff50a1d162db",
   "metadata": {},
   "outputs": [
    {
     "data": {
      "text/plain": [
       "0.8265413621422313"
      ]
     },
     "execution_count": 61,
     "metadata": {},
     "output_type": "execute_result"
    }
   ],
   "source": [
    "# This is what we need for every model - just 2 calculations:\n",
    "fpr, tpr, thresholds = roc_curve(y_val, y_pred)\n",
    "auc(fpr, tpr)\n",
    " \n",
    "# Output: 0.843850505725819"
   ]
  },
  {
   "cell_type": "code",
   "execution_count": 62,
   "id": "69bd7d60-a501-4bb5-980e-d6a1c57ee975",
   "metadata": {},
   "outputs": [
    {
     "data": {
      "text/plain": [
       "0.8265413621422313"
      ]
     },
     "execution_count": 62,
     "metadata": {},
     "output_type": "execute_result"
    }
   ],
   "source": [
    "# There is a shortcut in scikit-learn package - to do auc score in 1 line instead of 2 lines above:\n",
    "\n",
    "from sklearn.metrics import roc_auc_score\n",
    " \n",
    "roc_auc_score(y_val, y_pred)\n",
    " \n",
    "# Output: 0.843850505725819"
   ]
  },
  {
   "cell_type": "markdown",
   "id": "ea07ab97-8d4d-418e-b479-39bb6d37a344",
   "metadata": {},
   "source": [
    "## AUC interpretation"
   ]
  },
  {
   "cell_type": "code",
   "execution_count": 63,
   "id": "9646f9f1-66a8-4b7c-8029-a21c3546e2f0",
   "metadata": {},
   "outputs": [],
   "source": [
    "# AUC interpretation\n",
    "# AUC tells us the probability that a randomly selected positive example \n",
    "# has a score that is higher than a randomly selected negative example.\n",
    "\n",
    "neg = y_pred[y_val == 0]\n",
    "pos = y_pred[y_val == 1]"
   ]
  },
  {
   "cell_type": "code",
   "execution_count": 64,
   "id": "9d59a040-b9c4-4ebb-a671-f6cdca569aee",
   "metadata": {},
   "outputs": [],
   "source": [
    "import random\n",
    "pos_ind = random.randint(0, len(pos) -1)\n",
    "neg_ind = random.randint(0, len(neg) -1)"
   ]
  },
  {
   "cell_type": "code",
   "execution_count": 65,
   "id": "b831622c-aab7-4fe7-ad4c-328556bc79c7",
   "metadata": {},
   "outputs": [
    {
     "data": {
      "text/plain": [
       "0.82542"
      ]
     },
     "execution_count": 65,
     "metadata": {},
     "output_type": "execute_result"
    }
   ],
   "source": [
    "# So, for this random example, this is true. We can do this 100,000 times and evaluate the performance.\n",
    "\n",
    "n = 100000\n",
    "success = 0\n",
    " \n",
    "for i in range(n):\n",
    "    pos_ind = random.randint(0, len(pos) -1)\n",
    "    neg_ind = random.randint(0, len(neg) -1)\n",
    " \n",
    "    if pos[pos_ind] > neg[neg_ind]:\n",
    "        success += 1\n",
    " \n",
    "success / n\n",
    " \n",
    "# Output: 0.84389"
   ]
  },
  {
   "cell_type": "code",
   "execution_count": 66,
   "id": "63b3d08b-6861-465c-bf52-85e89ced2071",
   "metadata": {},
   "outputs": [
    {
     "data": {
      "text/plain": [
       "np.float64(0.82914)"
      ]
     },
     "execution_count": 66,
     "metadata": {},
     "output_type": "execute_result"
    }
   ],
   "source": [
    "# That result is quite close to roc_auc_score(y_val, y_pred) = 0.843850505725819.\n",
    "\n",
    "# Instead of implementing this manually, we can use NumPy. Be aware that in \n",
    "# np.random.randint(low, high, size, dtype), ‘low’ is inclusive, and ‘high’ is exclusive.\n",
    "\n",
    "n = 50000\n",
    " \n",
    "np.random.seed(1)\n",
    "pos_ind = np.random.randint(0, len(pos), size=n)\n",
    "neg_ind = np.random.randint(0, len(neg), size=n)\n",
    "pos[pos_ind] > neg[neg_ind]\n",
    "# Output: array([False,  True,  True, ...,  True,  True,  True])\n",
    " \n",
    "(pos[pos_ind] > neg[neg_ind]).mean()\n",
    "# Output: 0.84646"
   ]
  },
  {
   "cell_type": "code",
   "execution_count": 67,
   "id": "85e4f972-023e-474f-adc5-3d2242dc4cee",
   "metadata": {},
   "outputs": [],
   "source": [
    "# Because of this interpretation, AUC is quite popular as a way of measuring the performance \n",
    "# of binary classification models. It’s quite intuitive, and we can use it to assess how well \n",
    "# our model ranks positive and negative examples and separates positive examples from negative ones."
   ]
  },
  {
   "cell_type": "markdown",
   "id": "b3b87b91-fa09-480e-9136-58ee14909e6d",
   "metadata": {},
   "source": [
    "## Cross-Validation"
   ]
  },
  {
   "cell_type": "code",
   "execution_count": 68,
   "id": "1c38d192-e14b-400c-96a7-97369fc1bef7",
   "metadata": {},
   "outputs": [],
   "source": [
    "# Cross-Validation\n",
    "# Evaluating the same model on different subsets of data\n",
    "# In this article, I’ll discuss parameter tuning, which involves selecting the optimal parameter. \n",
    "# Typically, we start by splitting our entire dataset into three parts: training, validation, and testing. \n",
    "# We utilize the validation dataset to determine the best parameter for the formula g(xi), essentially \n",
    "# finding the optimal parameters for training our model.\n",
    "\n",
    "# For the time being, we set aside the test set and continue working with our combined training and validation \n",
    "# dataset – so called full_train. Next, we divide this data into ‘k’ parts, with ‘k’ equal to 3.\n",
    "\n",
    "# K-Fold Cross-Validation is a method for assessing the same model on various subsets of our dataset.\n",
    "\n",
    "def train(df_train, y_train):\n",
    "    dicts = df_train[categorical + numerical].to_dict(orient='records')\n",
    " \n",
    "    dv = DictVectorizer(sparse=False)\n",
    "    X_train = dv.fit_transform(dicts)\n",
    " \n",
    "    model = LogisticRegression(C=0.001, max_iter=10000)\n",
    "    model.fit(X_train, y_train)\n",
    " \n",
    "    return dv, model"
   ]
  },
  {
   "cell_type": "code",
   "execution_count": 69,
   "id": "736151ea-e9bc-4bcf-9568-e7a5b086f8b6",
   "metadata": {},
   "outputs": [],
   "source": [
    "dv, model = train(df_train, y_train)"
   ]
  },
  {
   "cell_type": "code",
   "execution_count": 70,
   "id": "d0954264-ed62-4f2c-a74b-4590d86bfa9d",
   "metadata": {},
   "outputs": [],
   "source": [
    "def predict(df, dv, model):\n",
    "     dicts = df[categorical + numerical].to_dict(orient='records')\n",
    " \n",
    "     X = dv.fit_transform(dicts)\n",
    "     y_pred = model.predict_proba(X)[:,1]\n",
    " \n",
    "     return y_pred"
   ]
  },
  {
   "cell_type": "code",
   "execution_count": 71,
   "id": "57377520-1549-4ba0-8b27-9eb4a5a760ef",
   "metadata": {},
   "outputs": [
    {
     "data": {
      "text/plain": [
       "array([0.02500275, 0.23982233, 0.24627023, ..., 0.24673019, 0.7557026 ,\n",
       "       0.75899868], shape=(1409,))"
      ]
     },
     "execution_count": 71,
     "metadata": {},
     "output_type": "execute_result"
    }
   ],
   "source": [
    "y_pred = predict(df_val, dv, model)\n",
    "y_pred\n",
    " \n",
    "# Output: array([0.00899722, 0.20451861, 0.2122173 , ..., 0.13639118,"
   ]
  },
  {
   "cell_type": "code",
   "execution_count": 72,
   "id": "412b979e-f41e-4849-bace-b5e0d89ca7c6",
   "metadata": {},
   "outputs": [
    {
     "data": {
      "text/plain": [
       "<generator object _BaseKFold.split at 0x72b2db00b560>"
      ]
     },
     "execution_count": 72,
     "metadata": {},
     "output_type": "execute_result"
    }
   ],
   "source": [
    "# We now have the ‘train’ and ‘predict’ functions in place. \n",
    "# Let’s proceed to implement K-Fold Cross-Validation.\n",
    "\n",
    "from sklearn.model_selection import KFold\n",
    " \n",
    "kfold = KFold(n_splits=10, shuffle=True, random_state=1) \n",
    " \n",
    "kfold.split(df_full_train)\n",
    "# Output: <generator object _BaseKFold.split at 0x2838baf20>\n",
    " \n"
   ]
  },
  {
   "cell_type": "code",
   "execution_count": 73,
   "id": "d0e63531-e889-4597-8b03-2e9db2738872",
   "metadata": {},
   "outputs": [
    {
     "data": {
      "text/plain": [
       "(5070, 564)"
      ]
     },
     "execution_count": 73,
     "metadata": {},
     "output_type": "execute_result"
    }
   ],
   "source": [
    "train_idx, val_idx = next(kfold.split(df_full_train))\n",
    "len(train_idx), len(val_idx)\n",
    "# Output: (5070, 564)\n"
   ]
  },
  {
   "cell_type": "code",
   "execution_count": 74,
   "id": "7871765b-898d-42ba-bc99-1fff20ad05d4",
   "metadata": {},
   "outputs": [
    {
     "data": {
      "text/plain": [
       "array([   0,    1,    2, ..., 5631, 5632, 5633], shape=(5070,))"
      ]
     },
     "execution_count": 74,
     "metadata": {},
     "output_type": "execute_result"
    }
   ],
   "source": [
    "# here are only indices \n",
    "train_idx # array([   0,    1,    2, ..., 5631, 5632, 5633], shape=(5070,))"
   ]
  },
  {
   "cell_type": "code",
   "execution_count": 75,
   "id": "502f62fc-5824-45b4-93ae-fce13ae69000",
   "metadata": {},
   "outputs": [
    {
     "data": {
      "text/plain": [
       "5634"
      ]
     },
     "execution_count": 75,
     "metadata": {},
     "output_type": "execute_result"
    }
   ],
   "source": [
    "len(df_full_train)\n",
    "# Output: 5634\n",
    " "
   ]
  },
  {
   "cell_type": "code",
   "execution_count": 76,
   "id": "b65d520d-5969-4fcf-902b-62d1648fdc5d",
   "metadata": {},
   "outputs": [],
   "source": [
    "# We can use iloc to select a part of this dataframe\n",
    "# because we got indices earlier\n",
    "df_train = df_full_train.iloc[train_idx]\n",
    "df_val = df_full_train.iloc[val_idx]"
   ]
  },
  {
   "cell_type": "code",
   "execution_count": 77,
   "id": "3ba0edc9-4491-4d07-9607-6c163c2f5656",
   "metadata": {},
   "outputs": [
    {
     "data": {
      "text/plain": [
       "[0.8233544837237409,\n",
       " 0.8293471534653465,\n",
       " 0.8422337757254622,\n",
       " 0.8264422681260802,\n",
       " 0.8055831265508685,\n",
       " 0.818914418914419,\n",
       " 0.8309833930315857,\n",
       " 0.8090528146742568,\n",
       " 0.831866014524974,\n",
       " 0.8434002218412827]"
      ]
     },
     "execution_count": 77,
     "metadata": {},
     "output_type": "execute_result"
    }
   ],
   "source": [
    "# The following code snippet demonstrates the implementation for 10 folds. \n",
    "# Finally, we use the ‘roc_auc_score’ function to calculate and output the corresponding score for each fold.\n",
    "\n",
    "from sklearn.model_selection import KFold\n",
    "from sklearn.metrics import roc_auc_score\n",
    " \n",
    "kfold = KFold(n_splits=10, shuffle=True, random_state=1)  \n",
    "scores = []\n",
    " \n",
    "for train_idx, val_idx in kfold.split(df_full_train):\n",
    "    df_train = df_full_train.iloc[train_idx]\n",
    "    df_val = df_full_train.iloc[val_idx]\n",
    " \n",
    "    y_train = df_train.churn.values\n",
    "    y_val = df_val.churn.values\n",
    " \n",
    "    dv, model = train(df_train, y_train)\n",
    "    y_pred = predict(df_val, dv, model)\n",
    " \n",
    "    auc = roc_auc_score(y_val, y_pred)\n",
    "    scores.append(auc)\n",
    " \n",
    "scores\n",
    "# Output:\n",
    "# [0.8479398247539081,\n",
    "# 0.8410581683168317,\n",
    "# 0.8557214756739697,\n",
    "# 0.8333552794008724,\n",
    "# 0.8262717121588089,\n",
    "# 0.8342657342657342,\n",
    "# 0.8412569195701727,\n",
    "# 0.8186669829222013,\n",
    "# 0.8452349192233585,\n",
    "# 0.8621054754462034]"
   ]
  },
  {
   "cell_type": "code",
   "execution_count": 78,
   "id": "1745a5dd-ae45-491d-bbd6-a6fd64c9390a",
   "metadata": {},
   "outputs": [
    {
     "data": {
      "application/vnd.jupyter.widget-view+json": {
       "model_id": "1d21b830e2784a0ca229a9175f50b52d",
       "version_major": 2,
       "version_minor": 0
      },
      "text/plain": [
       "0it [00:00, ?it/s]"
      ]
     },
     "metadata": {},
     "output_type": "display_data"
    },
    {
     "data": {
      "text/plain": [
       "[0.8233544837237409,\n",
       " 0.8293471534653465,\n",
       " 0.8422337757254622,\n",
       " 0.8264422681260802,\n",
       " 0.8055831265508685,\n",
       " 0.818914418914419,\n",
       " 0.8309833930315857,\n",
       " 0.8090528146742568,\n",
       " 0.831866014524974,\n",
       " 0.8434002218412827]"
      ]
     },
     "execution_count": 78,
     "metadata": {},
     "output_type": "execute_result"
    }
   ],
   "source": [
    "# Same implementation but this time with tqdm package.\n",
    "\n",
    "from sklearn.model_selection import KFold\n",
    "#!pip3 install tqdm\n",
    "from tqdm.auto import tqdm\n",
    " \n",
    "kfold = KFold(n_splits=10, shuffle=True, random_state=1)  \n",
    "scores = []\n",
    " \n",
    "for train_idx, val_idx in tqdm(kfold.split(df_full_train)):\n",
    "    df_train = df_full_train.iloc[train_idx]\n",
    "    df_val = df_full_train.iloc[val_idx]\n",
    " \n",
    "    y_train = df_train.churn.values\n",
    "    y_val = df_val.churn.values\n",
    " \n",
    "    dv, model = train(df_train, y_train)\n",
    "    y_pred = predict(df_val, dv, model)\n",
    " \n",
    "    auc = roc_auc_score(y_val, y_pred)\n",
    "    scores.append(auc)\n",
    " \n",
    "scores\n",
    "# Output: \n",
    "# [0.8479398247539081,\n",
    "# 0.8410581683168317,\n",
    "# 0.8557214756739697,\n",
    "# 0.8333552794008724,\n",
    "# 0.8262717121588089,\n",
    "# 0.8342657342657342,\n",
    "# 0.8412569195701727,\n",
    "# 0.8186669829222013,\n",
    "# 0.8452349192233585,\n",
    "# 0.8621054754462034]"
   ]
  },
  {
   "cell_type": "code",
   "execution_count": null,
   "id": "70c4a138-bee5-414d-987b-00baf8b898b1",
   "metadata": {},
   "outputs": [],
   "source": []
  },
  {
   "cell_type": "code",
   "execution_count": 79,
   "id": "b4458528-3fb3-4537-ae63-5e2eea3a28af",
   "metadata": {},
   "outputs": [
    {
     "name": "stdout",
     "output_type": "stream",
     "text": [
      "Mean and +- st.dev. for scores:  0.826 +- 0.012\n"
     ]
    },
    {
     "data": {
      "text/plain": [
       "[0.8233544837237409,\n",
       " 0.8293471534653465,\n",
       " 0.8422337757254622,\n",
       " 0.8264422681260802,\n",
       " 0.8055831265508685,\n",
       " 0.818914418914419,\n",
       " 0.8309833930315857,\n",
       " 0.8090528146742568,\n",
       " 0.831866014524974,\n",
       " 0.8434002218412827]"
      ]
     },
     "execution_count": 79,
     "metadata": {},
     "output_type": "execute_result"
    }
   ],
   "source": [
    "# Getting the average prediction and the spread within predictions\n",
    "# We can utilize the scores generated to compute the average score across the 10 folds, \n",
    "# which is 84.1%, with a standard deviation of 0.012.\n",
    "\n",
    "print('Mean and +- st.dev. for scores: ', '%.3f +- %.3f' % (np.mean(scores), np.std(scores)))\n",
    "# Output: 0.841 +- 0.012\n",
    "scores"
   ]
  },
  {
   "cell_type": "markdown",
   "id": "38f568ed-2c16-49a0-be9e-60dc2f9e9d91",
   "metadata": {},
   "source": [
    "## Parameter Tuning"
   ]
  },
  {
   "cell_type": "code",
   "execution_count": 80,
   "id": "858cb599-42a1-43ef-bbf7-855440b1623b",
   "metadata": {},
   "outputs": [],
   "source": [
    "# Parameter Tuning\n",
    "# We discussed parameter tuning, particularly the ‘C’ parameter in our LogisticRegression model, \n",
    "# which serves as the regularization parameter with a default value of 1.0. We can include this \n",
    "# ‘C’ parameter in our ‘train’ function. If ‘C’ is set to a very small value, it implies strong \n",
    "# regularization. Additionally, we can address an annoying message by setting the ‘max_iter’ value to 1000.\n",
    "\n",
    "def train(df_train, y_train, C=1.0):\n",
    "    dicts = df_train[categorical + numerical].to_dict(orient='records')\n",
    " \n",
    "    dv = DictVectorizer(sparse=False)\n",
    "    X_train = dv.fit_transform(dicts)\n",
    " \n",
    "    model = LogisticRegression(C=C, max_iter=10000)\n",
    "    model.fit(X_train, y_train)\n",
    " \n",
    "    return dv, model\n",
    "\n"
   ]
  },
  {
   "cell_type": "code",
   "execution_count": 81,
   "id": "6822c0de-7aab-479e-a972-5911c6ec424f",
   "metadata": {},
   "outputs": [],
   "source": [
    "dv, model = train(df_train, y_train, C=0.001)"
   ]
  },
  {
   "cell_type": "code",
   "execution_count": 82,
   "id": "f27221cd-e799-49c5-aea6-66d51a5c6cb3",
   "metadata": {},
   "outputs": [
    {
     "data": {
      "application/vnd.jupyter.widget-view+json": {
       "model_id": "d264e4e8d12a471d996f1d24239ef408",
       "version_major": 2,
       "version_minor": 0
      },
      "text/plain": [
       "  0%|          | 0/7 [00:00<?, ?it/s]"
      ]
     },
     "metadata": {},
     "output_type": "display_data"
    },
    {
     "name": "stdout",
     "output_type": "stream",
     "text": [
      "C=0.001 0.826 +- 0.012\n",
      "C=0.01 0.841 +- 0.012\n",
      "C=0.1 0.842 +- 0.012\n",
      "C=0.5 0.843 +- 0.012\n",
      "C=1 0.842 +- 0.012\n",
      "C=5 0.842 +- 0.012\n",
      "C=10 0.842 +- 0.012\n"
     ]
    }
   ],
   "source": [
    "# We can iterate over various values for ‘C,’ keeping in mind that ‘C’ cannot be set to 0.0, \n",
    "# as it would result in an ‘InvalidParameterError.’ The ‘C’ parameter for LogisticRegression \n",
    "# must be a float within the range (0.0, inf], so we need to avoid using 0.0.\n",
    "\n",
    "from sklearn.model_selection import KFold\n",
    " \n",
    "kfold = KFold(n_splits=10, shuffle=True, random_state=1)  \n",
    " \n",
    "for C in tqdm([0.001, 0.01, 0.1, 0.5, 1, 5, 10]):\n",
    "     \n",
    "    scores = []\n",
    " \n",
    "    for train_idx, val_idx in kfold.split(df_full_train):\n",
    "        df_train = df_full_train.iloc[train_idx]\n",
    "        df_val = df_full_train.iloc[val_idx]\n",
    " \n",
    "        y_train = df_train.churn.values\n",
    "        y_val = df_val.churn.values\n",
    " \n",
    "        dv, model = train(df_train, y_train, C=C)\n",
    "        y_pred = predict(df_val, dv, model)\n",
    " \n",
    "        auc = roc_auc_score(y_val, y_pred)\n",
    "        scores.append(auc)\n",
    " \n",
    "    print('C=%s %.3f +- %.3f' % (C, np.mean(scores), np.std(scores)))\n",
    " \n",
    "# Output:\n",
    "# C=0.001 0.826 +- 0.012\n",
    "# C=0.01 0.840 +- 0.012\n",
    "# C=0.1 0.841 +- 0.011\n",
    "# C=0.5 0.841 +- 0.011\n",
    "# C=1 0.840 +- 0.012\n",
    "# C=5 0.841 +- 0.012\n",
    "# C=10 0.841 +- 0.012"
   ]
  },
  {
   "cell_type": "code",
   "execution_count": null,
   "id": "976b8ec7-f07e-4169-869c-61d75448fb4f",
   "metadata": {},
   "outputs": [],
   "source": []
  }
 ],
 "metadata": {
  "kernelspec": {
   "display_name": "Python 3 (ipykernel)",
   "language": "python",
   "name": "python3"
  },
  "language_info": {
   "codemirror_mode": {
    "name": "ipython",
    "version": 3
   },
   "file_extension": ".py",
   "mimetype": "text/x-python",
   "name": "python",
   "nbconvert_exporter": "python",
   "pygments_lexer": "ipython3",
   "version": "3.12.1"
  }
 },
 "nbformat": 4,
 "nbformat_minor": 5
}
