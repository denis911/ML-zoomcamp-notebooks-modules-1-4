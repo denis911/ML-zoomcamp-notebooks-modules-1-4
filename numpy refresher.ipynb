{
 "cells": [
  {
   "cell_type": "code",
   "execution_count": 42,
   "id": "cfa05fa2-ff6e-4145-a7c6-496aad5f81c7",
   "metadata": {},
   "outputs": [
    {
     "data": {
      "text/plain": [
       "<module 'numpy' from '/home/codespace/.local/lib/python3.12/site-packages/numpy/__init__.py'>"
      ]
     },
     "execution_count": 42,
     "metadata": {},
     "output_type": "execute_result"
    }
   ],
   "source": [
    "# starts at https://www.youtube.com/watch?v=Qa0-jYtRdbY\n",
    "# and contunues to lin alg and Pandas\n",
    "import numpy as np\n",
    "np"
   ]
  },
  {
   "cell_type": "markdown",
   "id": "d093098e-3854-41eb-b1b3-1db34fe7d36e",
   "metadata": {},
   "source": [
    "## Create simple arrays"
   ]
  },
  {
   "cell_type": "code",
   "execution_count": 43,
   "id": "315bc198-f264-4e32-97ed-c0b3d8bf3708",
   "metadata": {},
   "outputs": [
    {
     "data": {
      "text/plain": [
       "array([0., 0., 0., 0., 0., 0., 0., 0., 0., 0.])"
      ]
     },
     "execution_count": 43,
     "metadata": {},
     "output_type": "execute_result"
    }
   ],
   "source": [
    "np.zeros(10)"
   ]
  },
  {
   "cell_type": "code",
   "execution_count": 44,
   "id": "e0e1431d-7236-480f-a8de-63bf80b80546",
   "metadata": {},
   "outputs": [
    {
     "data": {
      "text/plain": [
       "array([1., 1., 1., 1., 1., 1., 1., 1., 1., 1.])"
      ]
     },
     "execution_count": 44,
     "metadata": {},
     "output_type": "execute_result"
    }
   ],
   "source": [
    "np.ones(10)"
   ]
  },
  {
   "cell_type": "code",
   "execution_count": 45,
   "id": "e5971073-f5a3-4be4-a800-cad0b8da3d9d",
   "metadata": {},
   "outputs": [
    {
     "data": {
      "text/plain": [
       "array([2.5, 2.5, 2.5, 2.5, 2.5, 2.5, 2.5, 2.5, 2.5, 2.5])"
      ]
     },
     "execution_count": 45,
     "metadata": {},
     "output_type": "execute_result"
    }
   ],
   "source": [
    "np.full(10, 2.5)"
   ]
  },
  {
   "cell_type": "code",
   "execution_count": 46,
   "id": "de44aa3a-43ce-46f3-97bb-9ef2e7e34f87",
   "metadata": {},
   "outputs": [
    {
     "data": {
      "text/plain": [
       "array([ 1,  2,  3,  4,  5,  6, 10])"
      ]
     },
     "execution_count": 46,
     "metadata": {},
     "output_type": "execute_result"
    }
   ],
   "source": [
    "# from python list\n",
    "l = [1, 2, 3, 4, 5, 6, 10]\n",
    "a = np.array(l)\n",
    "a"
   ]
  },
  {
   "cell_type": "code",
   "execution_count": 47,
   "id": "bbd9c539-e30b-4ca2-baae-7bcc3b160d37",
   "metadata": {},
   "outputs": [
    {
     "data": {
      "text/plain": [
       "4"
      ]
     },
     "execution_count": 47,
     "metadata": {},
     "output_type": "execute_result"
    }
   ],
   "source": [
    "int(a[3]) # accessing elements by indices"
   ]
  },
  {
   "cell_type": "code",
   "execution_count": 48,
   "id": "56e21ca8-8ce8-4ea4-b6f9-0221c90134ee",
   "metadata": {},
   "outputs": [
    {
     "data": {
      "text/plain": [
       "array([3, 4, 5, 6, 7, 8, 9])"
      ]
     },
     "execution_count": 48,
     "metadata": {},
     "output_type": "execute_result"
    }
   ],
   "source": [
    "np.arange(3, 10)"
   ]
  },
  {
   "cell_type": "code",
   "execution_count": 49,
   "id": "5a93f5a8-6c94-407b-b547-a1373b8a5de7",
   "metadata": {},
   "outputs": [
    {
     "data": {
      "text/plain": [
       "array([0. , 0.1, 0.2, 0.3, 0.4, 0.5, 0.6, 0.7, 0.8, 0.9, 1. ])"
      ]
     },
     "execution_count": 49,
     "metadata": {},
     "output_type": "execute_result"
    }
   ],
   "source": [
    "np.linspace(0, 1, 11)"
   ]
  },
  {
   "cell_type": "markdown",
   "id": "58812d37-5e86-432a-b3bb-63ee23b2cdc5",
   "metadata": {},
   "source": [
    "## Multi-dimensional arrays"
   ]
  },
  {
   "cell_type": "code",
   "execution_count": 50,
   "id": "aaaad0e6-3633-43a6-8441-549d67395a9f",
   "metadata": {},
   "outputs": [],
   "source": [
    "n = np.zeros((5, 3)) # same way it can create arrays from multi-dimensional python lists..."
   ]
  },
  {
   "cell_type": "code",
   "execution_count": 51,
   "id": "e91e8310-2c3b-4cdb-b5f2-b3d4ac58a244",
   "metadata": {},
   "outputs": [
    {
     "data": {
      "text/plain": [
       "array([[0., 0., 0.],\n",
       "       [1., 2., 3.],\n",
       "       [0., 0., 0.],\n",
       "       [0., 0., 0.],\n",
       "       [0., 0., 0.]])"
      ]
     },
     "execution_count": 51,
     "metadata": {},
     "output_type": "execute_result"
    }
   ],
   "source": [
    "# adressing row\n",
    "n[1] = [1, 2, 3]\n",
    "n"
   ]
  },
  {
   "cell_type": "code",
   "execution_count": 52,
   "id": "7229baba-ac79-43bf-b460-186544333266",
   "metadata": {},
   "outputs": [
    {
     "data": {
      "text/plain": [
       "array([[ 0.,  0., 10.],\n",
       "       [ 1.,  2., 10.],\n",
       "       [ 0.,  0., 10.],\n",
       "       [ 0.,  0., 10.],\n",
       "       [ 0.,  0., 10.]])"
      ]
     },
     "execution_count": 52,
     "metadata": {},
     "output_type": "execute_result"
    }
   ],
   "source": [
    "# adressing column using : operator\n",
    "n[:, 2] = [10]*5\n",
    "n"
   ]
  },
  {
   "cell_type": "markdown",
   "id": "c2ec14c9-234a-456d-9ddc-f415ed8a62e6",
   "metadata": {},
   "source": [
    "## Randomly generated arrays and random seeds"
   ]
  },
  {
   "cell_type": "code",
   "execution_count": 53,
   "id": "5a5aeaf8-cef8-43e2-89ee-5894dea40f4b",
   "metadata": {},
   "outputs": [
    {
     "data": {
      "text/plain": [
       "array([[0.81413841, 0.94809042],\n",
       "       [0.82288464, 0.51513912],\n",
       "       [0.22099815, 0.74663141],\n",
       "       [0.43153777, 0.88830375],\n",
       "       [0.9411933 , 0.50301225]])"
      ]
     },
     "execution_count": 53,
     "metadata": {},
     "output_type": "execute_result"
    }
   ],
   "source": [
    "# if we don't need the seed - we get a new array every time\n",
    "random_different_values = np.random.rand(5, 2)\n",
    "random_different_values \n",
    "# array([[0.20303549, 0.49645129],\n",
    "#        [0.98002669, 0.31447288],\n",
    "#        [0.72151985, 0.1577254 ],\n",
    "#        [0.67189464, 0.64356604],\n",
    "#        [0.71482408, 0.81511062]])\n",
    "\n",
    "# array([[0.18126911, 0.94628129],\n",
    "#        [0.32282185, 0.18224532],\n",
    "#        [0.28034724, 0.43799104],\n",
    "#        [0.2495647 , 0.0891415 ],\n",
    "#        [0.00137409, 0.93752768]])\n",
    "\n",
    "# and so on - different each time"
   ]
  },
  {
   "cell_type": "code",
   "execution_count": 54,
   "id": "ccda49e7-7275-46a5-ac87-2bf45f83b654",
   "metadata": {},
   "outputs": [
    {
     "data": {
      "text/plain": [
       "array([[0.4359949 , 0.02592623],\n",
       "       [0.54966248, 0.43532239],\n",
       "       [0.4203678 , 0.33033482],\n",
       "       [0.20464863, 0.61927097],\n",
       "       [0.29965467, 0.26682728]])"
      ]
     },
     "execution_count": 54,
     "metadata": {},
     "output_type": "execute_result"
    }
   ],
   "source": [
    "# But if we set up a seed we will get the same results all the time\n",
    "np.random.seed(2)\n",
    "similar = np.random.rand(5, 2)\n",
    "similar # [0.4359949 , 0.02592623] - like in video:\n",
    "# https://www.youtube.com/watch?v=Qa0-jYtRdbY\n",
    "\n",
    "# array([[0.4359949 , 0.02592623],\n",
    "#        [0.54966248, 0.43532239],\n",
    "#        [0.4203678 , 0.33033482],\n",
    "#        [0.20464863, 0.61927097],\n",
    "#        [0.29965467, 0.26682728]])"
   ]
  },
  {
   "cell_type": "code",
   "execution_count": 55,
   "id": "62968cab-3bb7-4956-8162-6e8f3d2b9193",
   "metadata": {},
   "outputs": [
    {
     "data": {
      "text/plain": [
       "array([[2.17997451, 0.12963116],\n",
       "       [2.74831239, 2.17661196],\n",
       "       [2.10183901, 1.65167411],\n",
       "       [1.02324317, 3.09635483],\n",
       "       [1.49827337, 1.33413638]])"
      ]
     },
     "execution_count": 55,
     "metadata": {},
     "output_type": "execute_result"
    }
   ],
   "source": [
    "# np.random.randn - samples from n - normal distribution\n",
    "\n",
    "# numpy allows easy multiplication and any other ariphmetics:\n",
    "5 * similar # every element is multiplied by 5"
   ]
  },
  {
   "cell_type": "code",
   "execution_count": 56,
   "id": "ddab94a2-0dce-449f-9eb1-9b3145fc9036",
   "metadata": {},
   "outputs": [
    {
     "data": {
      "text/plain": [
       "array([[40, 15],\n",
       "       [72, 22],\n",
       "       [43, 82],\n",
       "       [75,  7],\n",
       "       [34, 49]])"
      ]
     },
     "execution_count": 56,
     "metadata": {},
     "output_type": "execute_result"
    }
   ],
   "source": [
    "# how to generate integers, not floats\n",
    "np.random.seed(2)\n",
    "sim_int = np.random.randint(low=0, high=100, size=(5, 2))\n",
    "sim_int"
   ]
  },
  {
   "cell_type": "markdown",
   "id": "1298e1c2-b208-4477-bd5e-9bbba5151a64",
   "metadata": {},
   "source": [
    "## Element-wise operations"
   ]
  },
  {
   "cell_type": "code",
   "execution_count": 57,
   "id": "48eb1be5-4579-4507-bf5a-55ced6793a6c",
   "metadata": {},
   "outputs": [
    {
     "data": {
      "text/plain": [
       "array([0, 1, 2, 3, 4])"
      ]
     },
     "execution_count": 57,
     "metadata": {},
     "output_type": "execute_result"
    }
   ],
   "source": [
    "a = np.arange(5)\n",
    "a"
   ]
  },
  {
   "cell_type": "code",
   "execution_count": 58,
   "id": "7b4ba6a8-babf-4bf1-95f6-6692ecb21218",
   "metadata": {},
   "outputs": [
    {
     "data": {
      "text/plain": [
       "array([1, 2, 3, 4, 5])"
      ]
     },
     "execution_count": 58,
     "metadata": {},
     "output_type": "execute_result"
    }
   ],
   "source": [
    "# we can add without loops:\n",
    "a + 1"
   ]
  },
  {
   "cell_type": "code",
   "execution_count": 59,
   "id": "220d93bb-8fbf-4d3f-8a5d-3ca88bae48e5",
   "metadata": {},
   "outputs": [
    {
     "data": {
      "text/plain": [
       "array([10, 12, 14, 16, 18])"
      ]
     },
     "execution_count": 59,
     "metadata": {},
     "output_type": "execute_result"
    }
   ],
   "source": [
    "10 + a * 2 # and perform any ariphmetics freely..."
   ]
  },
  {
   "cell_type": "markdown",
   "id": "8d471b0e-a022-432c-aaff-727ff43b1359",
   "metadata": {},
   "source": [
    "## Comparison"
   ]
  },
  {
   "cell_type": "code",
   "execution_count": 60,
   "id": "6ccf06c5-2765-40ce-a861-fd0e22095a8d",
   "metadata": {},
   "outputs": [
    {
     "data": {
      "text/plain": [
       "array([0, 1, 2, 3, 4])"
      ]
     },
     "execution_count": 60,
     "metadata": {},
     "output_type": "execute_result"
    }
   ],
   "source": [
    "a"
   ]
  },
  {
   "cell_type": "code",
   "execution_count": 61,
   "id": "435868c5-5a29-4f10-9daf-360dabc8587b",
   "metadata": {},
   "outputs": [
    {
     "data": {
      "text/plain": [
       "array([False, False,  True,  True,  True])"
      ]
     },
     "execution_count": 61,
     "metadata": {},
     "output_type": "execute_result"
    }
   ],
   "source": [
    "a >= 2"
   ]
  },
  {
   "cell_type": "code",
   "execution_count": 62,
   "id": "39cfb0da-828f-4270-8ea5-f072d261854e",
   "metadata": {},
   "outputs": [
    {
     "data": {
      "text/plain": [
       "array([2, 3, 4])"
      ]
     },
     "execution_count": 62,
     "metadata": {},
     "output_type": "execute_result"
    }
   ],
   "source": [
    "a[a >= 2] # - selecting elements which are greater than 2 without loops"
   ]
  },
  {
   "cell_type": "markdown",
   "id": "7b18c952-39de-49ee-81ee-0ae98cb37530",
   "metadata": {},
   "source": [
    "## Summarising operations"
   ]
  },
  {
   "cell_type": "code",
   "execution_count": 63,
   "id": "1e49f730-8e03-43f4-8307-b8bc7ed5daeb",
   "metadata": {},
   "outputs": [
    {
     "data": {
      "text/plain": [
       "np.int64(0)"
      ]
     },
     "execution_count": 63,
     "metadata": {},
     "output_type": "execute_result"
    }
   ],
   "source": [
    "a.min()"
   ]
  },
  {
   "cell_type": "code",
   "execution_count": 64,
   "id": "2a9e0bc6-67f4-46da-94b8-66ad203fcc7a",
   "metadata": {},
   "outputs": [
    {
     "data": {
      "text/plain": [
       "np.float64(2.0)"
      ]
     },
     "execution_count": 64,
     "metadata": {},
     "output_type": "execute_result"
    }
   ],
   "source": [
    "a.mean()"
   ]
  },
  {
   "cell_type": "code",
   "execution_count": 65,
   "id": "215f3659-c024-4b98-b58a-02fb02196b3e",
   "metadata": {},
   "outputs": [
    {
     "data": {
      "text/plain": [
       "np.int64(10)"
      ]
     },
     "execution_count": 65,
     "metadata": {},
     "output_type": "execute_result"
    }
   ],
   "source": [
    "a.sum()"
   ]
  },
  {
   "cell_type": "markdown",
   "id": "56dfd6f5-aa5d-40d6-9aec-a91ebfb60b5e",
   "metadata": {},
   "source": [
    "## Linear algebra"
   ]
  },
  {
   "cell_type": "code",
   "execution_count": 66,
   "id": "cf14763b-9d41-4105-906f-5cce67c02e63",
   "metadata": {},
   "outputs": [
    {
     "data": {
      "text/plain": [
       "10"
      ]
     },
     "execution_count": 66,
     "metadata": {},
     "output_type": "execute_result"
    }
   ],
   "source": [
    "u = np.random.randint(10, size=10)\n",
    "len(u)"
   ]
  },
  {
   "cell_type": "code",
   "execution_count": 67,
   "id": "884a2067-627e-4104-836d-f679243b5d9d",
   "metadata": {},
   "outputs": [
    {
     "data": {
      "text/plain": [
       "array([5, 4, 4, 5, 7, 3, 6, 4, 3, 7])"
      ]
     },
     "execution_count": 67,
     "metadata": {},
     "output_type": "execute_result"
    }
   ],
   "source": [
    "u"
   ]
  },
  {
   "cell_type": "code",
   "execution_count": 68,
   "id": "a78631b8-2417-4af4-8b25-097f95d98e78",
   "metadata": {},
   "outputs": [
    {
     "data": {
      "text/plain": [
       "(10,)"
      ]
     },
     "execution_count": 68,
     "metadata": {},
     "output_type": "execute_result"
    }
   ],
   "source": [
    "v = np.random.randint(10, size=10)\n",
    "v.shape #[0]"
   ]
  },
  {
   "cell_type": "code",
   "execution_count": 74,
   "id": "98ec79fe-beed-4017-9e25-cfbe1558b62b",
   "metadata": {},
   "outputs": [
    {
     "data": {
      "text/plain": [
       "array([6, 1, 3, 5, 8, 4, 6, 3, 9, 2])"
      ]
     },
     "execution_count": 74,
     "metadata": {},
     "output_type": "execute_result"
    }
   ],
   "source": [
    "v"
   ]
  },
  {
   "cell_type": "code",
   "execution_count": 72,
   "id": "5f740053-5864-419f-a035-1fa0e40a02fb",
   "metadata": {},
   "outputs": [],
   "source": [
    "# how to multiply vectors\n",
    "def vec_multiply(u, v):\n",
    "    assert u.shape[0] == v.shape[0] # to make sure u and v have same dimenson\n",
    "    \n",
    "    n = u.shape[0] # esseltially len of u or v\n",
    "    m = 0 # our sum of multiplication products\n",
    "    \n",
    "    for i in range(n):\n",
    "        m += u[i]*v[i]\n",
    "\n",
    "    return int(m)"
   ]
  },
  {
   "cell_type": "code",
   "execution_count": 73,
   "id": "a24db9e5-dcef-4cd1-8bf0-4d5e3098f24c",
   "metadata": {},
   "outputs": [
    {
     "data": {
      "text/plain": [
       "228"
      ]
     },
     "execution_count": 73,
     "metadata": {},
     "output_type": "execute_result"
    }
   ],
   "source": [
    "product = vec_multiply(u, v)\n",
    "product"
   ]
  },
  {
   "cell_type": "code",
   "execution_count": 71,
   "id": "8abcf7ab-89d8-49aa-ad86-acac0f49af24",
   "metadata": {},
   "outputs": [],
   "source": [
    "#vec_multiply(a, v) # AssertionError "
   ]
  },
  {
   "cell_type": "code",
   "execution_count": null,
   "id": "c9b57fbd-494e-47a8-af75-50dde9954187",
   "metadata": {},
   "outputs": [],
   "source": []
  }
 ],
 "metadata": {
  "kernelspec": {
   "display_name": "Python 3 (ipykernel)",
   "language": "python",
   "name": "python3"
  },
  "language_info": {
   "codemirror_mode": {
    "name": "ipython",
    "version": 3
   },
   "file_extension": ".py",
   "mimetype": "text/x-python",
   "name": "python",
   "nbconvert_exporter": "python",
   "pygments_lexer": "ipython3",
   "version": "3.12.1"
  }
 },
 "nbformat": 4,
 "nbformat_minor": 5
}
