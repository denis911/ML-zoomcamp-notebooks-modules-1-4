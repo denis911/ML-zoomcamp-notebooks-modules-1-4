{
 "cells": [
  {
   "cell_type": "code",
   "execution_count": 1,
   "id": "cfa05fa2-ff6e-4145-a7c6-496aad5f81c7",
   "metadata": {},
   "outputs": [
    {
     "data": {
      "text/plain": [
       "<module 'numpy' from '/home/codespace/.local/lib/python3.12/site-packages/numpy/__init__.py'>"
      ]
     },
     "execution_count": 1,
     "metadata": {},
     "output_type": "execute_result"
    }
   ],
   "source": [
    "# starts at https://www.youtube.com/watch?v=Qa0-jYtRdbY\n",
    "# and contunues to lin alg and Pandas\n",
    "import numpy as np\n",
    "np"
   ]
  },
  {
   "cell_type": "markdown",
   "id": "d093098e-3854-41eb-b1b3-1db34fe7d36e",
   "metadata": {},
   "source": [
    "## Create simple arrays"
   ]
  },
  {
   "cell_type": "code",
   "execution_count": 2,
   "id": "315bc198-f264-4e32-97ed-c0b3d8bf3708",
   "metadata": {},
   "outputs": [
    {
     "data": {
      "text/plain": [
       "array([0., 0., 0., 0., 0., 0., 0., 0., 0., 0.])"
      ]
     },
     "execution_count": 2,
     "metadata": {},
     "output_type": "execute_result"
    }
   ],
   "source": [
    "np.zeros(10)"
   ]
  },
  {
   "cell_type": "code",
   "execution_count": 3,
   "id": "e0e1431d-7236-480f-a8de-63bf80b80546",
   "metadata": {},
   "outputs": [
    {
     "data": {
      "text/plain": [
       "array([1., 1., 1., 1., 1., 1., 1., 1., 1., 1.])"
      ]
     },
     "execution_count": 3,
     "metadata": {},
     "output_type": "execute_result"
    }
   ],
   "source": [
    "np.ones(10)"
   ]
  },
  {
   "cell_type": "code",
   "execution_count": 4,
   "id": "e5971073-f5a3-4be4-a800-cad0b8da3d9d",
   "metadata": {},
   "outputs": [
    {
     "data": {
      "text/plain": [
       "array([2.5, 2.5, 2.5, 2.5, 2.5, 2.5, 2.5, 2.5, 2.5, 2.5])"
      ]
     },
     "execution_count": 4,
     "metadata": {},
     "output_type": "execute_result"
    }
   ],
   "source": [
    "np.full(10, 2.5)"
   ]
  },
  {
   "cell_type": "code",
   "execution_count": 5,
   "id": "de44aa3a-43ce-46f3-97bb-9ef2e7e34f87",
   "metadata": {},
   "outputs": [
    {
     "data": {
      "text/plain": [
       "array([ 1,  2,  3,  4,  5,  6, 10])"
      ]
     },
     "execution_count": 5,
     "metadata": {},
     "output_type": "execute_result"
    }
   ],
   "source": [
    "# from python list\n",
    "l = [1, 2, 3, 4, 5, 6, 10]\n",
    "a = np.array(l)\n",
    "a"
   ]
  },
  {
   "cell_type": "code",
   "execution_count": 6,
   "id": "bbd9c539-e30b-4ca2-baae-7bcc3b160d37",
   "metadata": {},
   "outputs": [
    {
     "data": {
      "text/plain": [
       "4"
      ]
     },
     "execution_count": 6,
     "metadata": {},
     "output_type": "execute_result"
    }
   ],
   "source": [
    "int(a[3]) # accessing elements by indices"
   ]
  },
  {
   "cell_type": "code",
   "execution_count": 7,
   "id": "56e21ca8-8ce8-4ea4-b6f9-0221c90134ee",
   "metadata": {},
   "outputs": [
    {
     "data": {
      "text/plain": [
       "array([3, 4, 5, 6, 7, 8, 9])"
      ]
     },
     "execution_count": 7,
     "metadata": {},
     "output_type": "execute_result"
    }
   ],
   "source": [
    "np.arange(3, 10)"
   ]
  },
  {
   "cell_type": "code",
   "execution_count": 8,
   "id": "5a93f5a8-6c94-407b-b547-a1373b8a5de7",
   "metadata": {},
   "outputs": [
    {
     "data": {
      "text/plain": [
       "array([0. , 0.1, 0.2, 0.3, 0.4, 0.5, 0.6, 0.7, 0.8, 0.9, 1. ])"
      ]
     },
     "execution_count": 8,
     "metadata": {},
     "output_type": "execute_result"
    }
   ],
   "source": [
    "np.linspace(0, 1, 11)"
   ]
  },
  {
   "cell_type": "markdown",
   "id": "58812d37-5e86-432a-b3bb-63ee23b2cdc5",
   "metadata": {},
   "source": [
    "## Multi-dimensional arrays"
   ]
  },
  {
   "cell_type": "code",
   "execution_count": 9,
   "id": "aaaad0e6-3633-43a6-8441-549d67395a9f",
   "metadata": {},
   "outputs": [],
   "source": [
    "n = np.zeros((5, 3)) # same way it can create arrays from multi-dimensional python lists..."
   ]
  },
  {
   "cell_type": "code",
   "execution_count": 10,
   "id": "e91e8310-2c3b-4cdb-b5f2-b3d4ac58a244",
   "metadata": {},
   "outputs": [
    {
     "data": {
      "text/plain": [
       "array([[0., 0., 0.],\n",
       "       [1., 2., 3.],\n",
       "       [0., 0., 0.],\n",
       "       [0., 0., 0.],\n",
       "       [0., 0., 0.]])"
      ]
     },
     "execution_count": 10,
     "metadata": {},
     "output_type": "execute_result"
    }
   ],
   "source": [
    "# adressing row\n",
    "n[1] = [1, 2, 3]\n",
    "n"
   ]
  },
  {
   "cell_type": "code",
   "execution_count": 11,
   "id": "7229baba-ac79-43bf-b460-186544333266",
   "metadata": {},
   "outputs": [
    {
     "data": {
      "text/plain": [
       "array([[ 0.,  0., 10.],\n",
       "       [ 1.,  2., 10.],\n",
       "       [ 0.,  0., 10.],\n",
       "       [ 0.,  0., 10.],\n",
       "       [ 0.,  0., 10.]])"
      ]
     },
     "execution_count": 11,
     "metadata": {},
     "output_type": "execute_result"
    }
   ],
   "source": [
    "# adressing column using : operator\n",
    "n[:, 2] = [10]*5\n",
    "n"
   ]
  },
  {
   "cell_type": "markdown",
   "id": "c2ec14c9-234a-456d-9ddc-f415ed8a62e6",
   "metadata": {},
   "source": [
    "## Randomly generated arrays and random seeds"
   ]
  },
  {
   "cell_type": "code",
   "execution_count": 12,
   "id": "5a5aeaf8-cef8-43e2-89ee-5894dea40f4b",
   "metadata": {},
   "outputs": [
    {
     "data": {
      "text/plain": [
       "array([[0.63124976, 0.15695868],\n",
       "       [0.61860574, 0.47535091],\n",
       "       [0.70973164, 0.87683533],\n",
       "       [0.12108516, 0.65618641],\n",
       "       [0.28325033, 0.60811906]])"
      ]
     },
     "execution_count": 12,
     "metadata": {},
     "output_type": "execute_result"
    }
   ],
   "source": [
    "# if we don't need the seed - we get a new array every time\n",
    "random_different_values = np.random.rand(5, 2)\n",
    "random_different_values \n",
    "# array([[0.20303549, 0.49645129],\n",
    "#        [0.98002669, 0.31447288],\n",
    "#        [0.72151985, 0.1577254 ],\n",
    "#        [0.67189464, 0.64356604],\n",
    "#        [0.71482408, 0.81511062]])\n",
    "\n",
    "# array([[0.18126911, 0.94628129],\n",
    "#        [0.32282185, 0.18224532],\n",
    "#        [0.28034724, 0.43799104],\n",
    "#        [0.2495647 , 0.0891415 ],\n",
    "#        [0.00137409, 0.93752768]])\n",
    "\n",
    "# and so on - different each time"
   ]
  },
  {
   "cell_type": "code",
   "execution_count": 13,
   "id": "ccda49e7-7275-46a5-ac87-2bf45f83b654",
   "metadata": {},
   "outputs": [
    {
     "data": {
      "text/plain": [
       "array([[0.4359949 , 0.02592623],\n",
       "       [0.54966248, 0.43532239],\n",
       "       [0.4203678 , 0.33033482],\n",
       "       [0.20464863, 0.61927097],\n",
       "       [0.29965467, 0.26682728]])"
      ]
     },
     "execution_count": 13,
     "metadata": {},
     "output_type": "execute_result"
    }
   ],
   "source": [
    "# But if we set up a seed we will get the same results all the time\n",
    "np.random.seed(2)\n",
    "similar = np.random.rand(5, 2)\n",
    "similar # [0.4359949 , 0.02592623] - like in video:\n",
    "# https://www.youtube.com/watch?v=Qa0-jYtRdbY\n",
    "\n",
    "# array([[0.4359949 , 0.02592623],\n",
    "#        [0.54966248, 0.43532239],\n",
    "#        [0.4203678 , 0.33033482],\n",
    "#        [0.20464863, 0.61927097],\n",
    "#        [0.29965467, 0.26682728]])"
   ]
  },
  {
   "cell_type": "code",
   "execution_count": 14,
   "id": "62968cab-3bb7-4956-8162-6e8f3d2b9193",
   "metadata": {},
   "outputs": [
    {
     "data": {
      "text/plain": [
       "array([[2.17997451, 0.12963116],\n",
       "       [2.74831239, 2.17661196],\n",
       "       [2.10183901, 1.65167411],\n",
       "       [1.02324317, 3.09635483],\n",
       "       [1.49827337, 1.33413638]])"
      ]
     },
     "execution_count": 14,
     "metadata": {},
     "output_type": "execute_result"
    }
   ],
   "source": [
    "# np.random.randn - samples from n - normal distribution\n",
    "\n",
    "# numpy allows easy multiplication and any other ariphmetics:\n",
    "5 * similar # every element is multiplied by 5"
   ]
  },
  {
   "cell_type": "code",
   "execution_count": 15,
   "id": "ddab94a2-0dce-449f-9eb1-9b3145fc9036",
   "metadata": {},
   "outputs": [
    {
     "data": {
      "text/plain": [
       "array([[40, 15],\n",
       "       [72, 22],\n",
       "       [43, 82],\n",
       "       [75,  7],\n",
       "       [34, 49]])"
      ]
     },
     "execution_count": 15,
     "metadata": {},
     "output_type": "execute_result"
    }
   ],
   "source": [
    "# how to generate integers, not floats\n",
    "np.random.seed(2)\n",
    "sim_int = np.random.randint(low=0, high=100, size=(5, 2))\n",
    "sim_int"
   ]
  },
  {
   "cell_type": "markdown",
   "id": "1298e1c2-b208-4477-bd5e-9bbba5151a64",
   "metadata": {},
   "source": [
    "## Element-wise operations"
   ]
  },
  {
   "cell_type": "code",
   "execution_count": 16,
   "id": "48eb1be5-4579-4507-bf5a-55ced6793a6c",
   "metadata": {},
   "outputs": [
    {
     "data": {
      "text/plain": [
       "array([0, 1, 2, 3, 4])"
      ]
     },
     "execution_count": 16,
     "metadata": {},
     "output_type": "execute_result"
    }
   ],
   "source": [
    "a = np.arange(5)\n",
    "a"
   ]
  },
  {
   "cell_type": "code",
   "execution_count": 17,
   "id": "7b4ba6a8-babf-4bf1-95f6-6692ecb21218",
   "metadata": {},
   "outputs": [
    {
     "data": {
      "text/plain": [
       "array([1, 2, 3, 4, 5])"
      ]
     },
     "execution_count": 17,
     "metadata": {},
     "output_type": "execute_result"
    }
   ],
   "source": [
    "# we can add without loops:\n",
    "a + 1"
   ]
  },
  {
   "cell_type": "code",
   "execution_count": 18,
   "id": "220d93bb-8fbf-4d3f-8a5d-3ca88bae48e5",
   "metadata": {},
   "outputs": [
    {
     "data": {
      "text/plain": [
       "array([10, 12, 14, 16, 18])"
      ]
     },
     "execution_count": 18,
     "metadata": {},
     "output_type": "execute_result"
    }
   ],
   "source": [
    "10 + a * 2 # and perform any ariphmetics freely..."
   ]
  },
  {
   "cell_type": "markdown",
   "id": "8d471b0e-a022-432c-aaff-727ff43b1359",
   "metadata": {},
   "source": [
    "## Comparison"
   ]
  },
  {
   "cell_type": "code",
   "execution_count": 19,
   "id": "6ccf06c5-2765-40ce-a861-fd0e22095a8d",
   "metadata": {},
   "outputs": [
    {
     "data": {
      "text/plain": [
       "array([0, 1, 2, 3, 4])"
      ]
     },
     "execution_count": 19,
     "metadata": {},
     "output_type": "execute_result"
    }
   ],
   "source": [
    "a"
   ]
  },
  {
   "cell_type": "code",
   "execution_count": 20,
   "id": "435868c5-5a29-4f10-9daf-360dabc8587b",
   "metadata": {},
   "outputs": [
    {
     "data": {
      "text/plain": [
       "array([False, False,  True,  True,  True])"
      ]
     },
     "execution_count": 20,
     "metadata": {},
     "output_type": "execute_result"
    }
   ],
   "source": [
    "a >= 2"
   ]
  },
  {
   "cell_type": "code",
   "execution_count": 21,
   "id": "39cfb0da-828f-4270-8ea5-f072d261854e",
   "metadata": {},
   "outputs": [
    {
     "data": {
      "text/plain": [
       "array([2, 3, 4])"
      ]
     },
     "execution_count": 21,
     "metadata": {},
     "output_type": "execute_result"
    }
   ],
   "source": [
    "a[a >= 2] # - selecting elements which are greater than 2 without loops"
   ]
  },
  {
   "cell_type": "markdown",
   "id": "7b18c952-39de-49ee-81ee-0ae98cb37530",
   "metadata": {},
   "source": [
    "## Summarising operations"
   ]
  },
  {
   "cell_type": "code",
   "execution_count": 22,
   "id": "1e49f730-8e03-43f4-8307-b8bc7ed5daeb",
   "metadata": {},
   "outputs": [
    {
     "data": {
      "text/plain": [
       "np.int64(0)"
      ]
     },
     "execution_count": 22,
     "metadata": {},
     "output_type": "execute_result"
    }
   ],
   "source": [
    "a.min()"
   ]
  },
  {
   "cell_type": "code",
   "execution_count": 23,
   "id": "2a9e0bc6-67f4-46da-94b8-66ad203fcc7a",
   "metadata": {},
   "outputs": [
    {
     "data": {
      "text/plain": [
       "np.float64(2.0)"
      ]
     },
     "execution_count": 23,
     "metadata": {},
     "output_type": "execute_result"
    }
   ],
   "source": [
    "a.mean()"
   ]
  },
  {
   "cell_type": "code",
   "execution_count": 24,
   "id": "215f3659-c024-4b98-b58a-02fb02196b3e",
   "metadata": {},
   "outputs": [
    {
     "data": {
      "text/plain": [
       "np.int64(10)"
      ]
     },
     "execution_count": 24,
     "metadata": {},
     "output_type": "execute_result"
    }
   ],
   "source": [
    "a.sum()"
   ]
  },
  {
   "cell_type": "markdown",
   "id": "56dfd6f5-aa5d-40d6-9aec-a91ebfb60b5e",
   "metadata": {},
   "source": [
    "## Linear algebra"
   ]
  },
  {
   "cell_type": "code",
   "execution_count": null,
   "id": "cf14763b-9d41-4105-906f-5cce67c02e63",
   "metadata": {},
   "outputs": [],
   "source": []
  }
 ],
 "metadata": {
  "kernelspec": {
   "display_name": "Python 3 (ipykernel)",
   "language": "python",
   "name": "python3"
  },
  "language_info": {
   "codemirror_mode": {
    "name": "ipython",
    "version": 3
   },
   "file_extension": ".py",
   "mimetype": "text/x-python",
   "name": "python",
   "nbconvert_exporter": "python",
   "pygments_lexer": "ipython3",
   "version": "3.12.1"
  }
 },
 "nbformat": 4,
 "nbformat_minor": 5
}
