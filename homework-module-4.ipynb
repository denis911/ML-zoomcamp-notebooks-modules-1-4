{
 "cells": [
  {
   "cell_type": "markdown",
   "id": "3a2dc278-2545-4bc9-b8ba-df5ae8f7a0a4",
   "metadata": {},
   "source": [
    "## Load and clean the data"
   ]
  },
  {
   "cell_type": "code",
   "execution_count": 4,
   "id": "955a8320-6b23-46f0-8894-4633ff1fbe98",
   "metadata": {},
   "outputs": [],
   "source": [
    "# In this homework, we will use the lead scoring dataset Bank Marketing dataset. Download it from\n",
    "# https://raw.githubusercontent.com/alexeygrigorev/datasets/master/course_lead_scoring.csv\n",
    "# In this dataset our desired target for classification task will be converted variable - has the client signed up to the platform or not.\n",
    "\n",
    "# Data preparation\n",
    "# Check if the missing values are presented in the features.\n",
    "# If there are missing values:\n",
    "# For caterogiral features, replace them with 'NA'\n",
    "# For numerical features, replace with with 0.0\n",
    "# Split the data into 3 parts: train/validation/test with 60%/20%/20% distribution. \n",
    "# Use train_test_split function for that with random_state=1\n",
    "\n",
    "# run once\n",
    "# !wget https://raw.githubusercontent.com/alexeygrigorev/datasets/master/course_lead_scoring.csv"
   ]
  },
  {
   "cell_type": "code",
   "execution_count": null,
   "id": "cebaf25b-f1dc-4d6f-bf2f-175576676ffa",
   "metadata": {},
   "outputs": [],
   "source": []
  }
 ],
 "metadata": {
  "kernelspec": {
   "display_name": "Python 3 (ipykernel)",
   "language": "python",
   "name": "python3"
  },
  "language_info": {
   "codemirror_mode": {
    "name": "ipython",
    "version": 3
   },
   "file_extension": ".py",
   "mimetype": "text/x-python",
   "name": "python",
   "nbconvert_exporter": "python",
   "pygments_lexer": "ipython3",
   "version": "3.12.1"
  }
 },
 "nbformat": 4,
 "nbformat_minor": 5
}
