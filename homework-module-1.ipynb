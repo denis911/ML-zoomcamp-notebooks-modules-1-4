{
 "cells": [
  {
   "cell_type": "markdown",
   "id": "b132b1a6-7bf6-4cff-baef-abffa1458fcb",
   "metadata": {},
   "source": [
    "## Q1. Pandas version"
   ]
  },
  {
   "cell_type": "code",
   "execution_count": 3,
   "id": "beb8febf-4cc5-4b14-8052-69f9f744216a",
   "metadata": {},
   "outputs": [
    {
     "data": {
      "text/plain": [
       "'2.3.1'"
      ]
     },
     "execution_count": 3,
     "metadata": {},
     "output_type": "execute_result"
    }
   ],
   "source": [
    "# Q1. Pandas version\n",
    "# What's the version of Pandas that you installed?\n",
    "\n",
    "# You can get the version information using the __version__ field:\n",
    "import pandas as pd\n",
    "pd.__version__\n",
    "# '2.3.1'"
   ]
  },
  {
   "cell_type": "code",
   "execution_count": 6,
   "id": "b966e75b-22dc-4210-8156-70d61fa2f2ef",
   "metadata": {},
   "outputs": [
    {
     "data": {
      "text/html": [
       "<div>\n",
       "<style scoped>\n",
       "    .dataframe tbody tr th:only-of-type {\n",
       "        vertical-align: middle;\n",
       "    }\n",
       "\n",
       "    .dataframe tbody tr th {\n",
       "        vertical-align: top;\n",
       "    }\n",
       "\n",
       "    .dataframe thead th {\n",
       "        text-align: right;\n",
       "    }\n",
       "</style>\n",
       "<table border=\"1\" class=\"dataframe\">\n",
       "  <thead>\n",
       "    <tr style=\"text-align: right;\">\n",
       "      <th></th>\n",
       "      <th>engine_displacement</th>\n",
       "      <th>num_cylinders</th>\n",
       "      <th>horsepower</th>\n",
       "      <th>vehicle_weight</th>\n",
       "      <th>acceleration</th>\n",
       "      <th>model_year</th>\n",
       "      <th>origin</th>\n",
       "      <th>fuel_type</th>\n",
       "      <th>drivetrain</th>\n",
       "      <th>num_doors</th>\n",
       "      <th>fuel_efficiency_mpg</th>\n",
       "    </tr>\n",
       "  </thead>\n",
       "  <tbody>\n",
       "    <tr>\n",
       "      <th>9699</th>\n",
       "      <td>140</td>\n",
       "      <td>5.0</td>\n",
       "      <td>164.0</td>\n",
       "      <td>2981.107371</td>\n",
       "      <td>17.3</td>\n",
       "      <td>2013</td>\n",
       "      <td>Europe</td>\n",
       "      <td>Diesel</td>\n",
       "      <td>Front-wheel drive</td>\n",
       "      <td>NaN</td>\n",
       "      <td>15.101802</td>\n",
       "    </tr>\n",
       "    <tr>\n",
       "      <th>9700</th>\n",
       "      <td>180</td>\n",
       "      <td>NaN</td>\n",
       "      <td>154.0</td>\n",
       "      <td>2439.525729</td>\n",
       "      <td>15.0</td>\n",
       "      <td>2004</td>\n",
       "      <td>USA</td>\n",
       "      <td>Gasoline</td>\n",
       "      <td>All-wheel drive</td>\n",
       "      <td>0.0</td>\n",
       "      <td>17.962326</td>\n",
       "    </tr>\n",
       "    <tr>\n",
       "      <th>9701</th>\n",
       "      <td>220</td>\n",
       "      <td>2.0</td>\n",
       "      <td>138.0</td>\n",
       "      <td>2583.471318</td>\n",
       "      <td>15.1</td>\n",
       "      <td>2008</td>\n",
       "      <td>USA</td>\n",
       "      <td>Diesel</td>\n",
       "      <td>All-wheel drive</td>\n",
       "      <td>-1.0</td>\n",
       "      <td>17.186587</td>\n",
       "    </tr>\n",
       "    <tr>\n",
       "      <th>9702</th>\n",
       "      <td>230</td>\n",
       "      <td>4.0</td>\n",
       "      <td>177.0</td>\n",
       "      <td>2905.527390</td>\n",
       "      <td>19.4</td>\n",
       "      <td>2011</td>\n",
       "      <td>USA</td>\n",
       "      <td>Diesel</td>\n",
       "      <td>Front-wheel drive</td>\n",
       "      <td>1.0</td>\n",
       "      <td>15.331551</td>\n",
       "    </tr>\n",
       "    <tr>\n",
       "      <th>9703</th>\n",
       "      <td>270</td>\n",
       "      <td>3.0</td>\n",
       "      <td>140.0</td>\n",
       "      <td>2908.043477</td>\n",
       "      <td>14.7</td>\n",
       "      <td>2005</td>\n",
       "      <td>Asia</td>\n",
       "      <td>Diesel</td>\n",
       "      <td>All-wheel drive</td>\n",
       "      <td>-1.0</td>\n",
       "      <td>14.884467</td>\n",
       "    </tr>\n",
       "  </tbody>\n",
       "</table>\n",
       "</div>"
      ],
      "text/plain": [
       "      engine_displacement  num_cylinders  horsepower  vehicle_weight  \\\n",
       "9699                  140            5.0       164.0     2981.107371   \n",
       "9700                  180            NaN       154.0     2439.525729   \n",
       "9701                  220            2.0       138.0     2583.471318   \n",
       "9702                  230            4.0       177.0     2905.527390   \n",
       "9703                  270            3.0       140.0     2908.043477   \n",
       "\n",
       "      acceleration  model_year  origin fuel_type         drivetrain  \\\n",
       "9699          17.3        2013  Europe    Diesel  Front-wheel drive   \n",
       "9700          15.0        2004     USA  Gasoline    All-wheel drive   \n",
       "9701          15.1        2008     USA    Diesel    All-wheel drive   \n",
       "9702          19.4        2011     USA    Diesel  Front-wheel drive   \n",
       "9703          14.7        2005    Asia    Diesel    All-wheel drive   \n",
       "\n",
       "      num_doors  fuel_efficiency_mpg  \n",
       "9699        NaN            15.101802  \n",
       "9700        0.0            17.962326  \n",
       "9701       -1.0            17.186587  \n",
       "9702        1.0            15.331551  \n",
       "9703       -1.0            14.884467  "
      ]
     },
     "execution_count": 6,
     "metadata": {},
     "output_type": "execute_result"
    }
   ],
   "source": [
    "# Getting the data\n",
    "# For this homework, we'll use the Car Fuel Efficiency dataset. Download it from here.\n",
    "\n",
    "# You can do it with wget:\n",
    "\n",
    "# !wget https://raw.githubusercontent.com/alexeygrigorev/datasets/master/car_fuel_efficiency.csv\n",
    "# Or just open it with your browser and click \"Save as...\".\n",
    "\n",
    "# Now read it with Pandas.\n",
    "\n",
    "fe = pd.read_csv(\"car_fuel_efficiency.csv\")\n",
    "fe.tail()"
   ]
  },
  {
   "cell_type": "markdown",
   "id": "1f4d8015-dac5-40e7-8ce8-6c82c057b0b4",
   "metadata": {},
   "source": [
    "## Q2. Records count"
   ]
  },
  {
   "cell_type": "code",
   "execution_count": 7,
   "id": "5eb2aef4-574a-47ef-81af-7ebb95129b3c",
   "metadata": {},
   "outputs": [],
   "source": [
    "# Q2. Records count\n",
    "# How many records are in the dataset?\n",
    "\n",
    "# 4704\n",
    "# 8704\n",
    "# 9704 # as we start with 0 and end with 9703 ...\n",
    "# 17704"
   ]
  },
  {
   "cell_type": "code",
   "execution_count": 9,
   "id": "abb9551e-d849-428e-87b8-dab1e6d8c20c",
   "metadata": {},
   "outputs": [
    {
     "data": {
      "text/plain": [
       "9704"
      ]
     },
     "execution_count": 9,
     "metadata": {},
     "output_type": "execute_result"
    }
   ],
   "source": [
    "# nice way to double check row count\n",
    "len(fe) # 9704"
   ]
  },
  {
   "cell_type": "markdown",
   "id": "bafd47e0-5951-49f8-acca-bfad5d163573",
   "metadata": {},
   "source": [
    "## Q3. Fuel types"
   ]
  },
  {
   "cell_type": "code",
   "execution_count": null,
   "id": "1d3b9229-649b-4636-980f-49bfd64c2d8c",
   "metadata": {},
   "outputs": [],
   "source": [
    "# Q3. Fuel types\n",
    "# How many fuel types are presented in the dataset?\n",
    "\n",
    "# 1\n",
    "# 2 - 'Gasoline', 'Diesel'\n",
    "# 3\n",
    "# 4"
   ]
  },
  {
   "cell_type": "code",
   "execution_count": 12,
   "id": "8db02a3a-31c1-4a16-bdfb-e8e9f04f35c4",
   "metadata": {},
   "outputs": [
    {
     "data": {
      "text/plain": [
       "array(['Gasoline', 'Diesel'], dtype=object)"
      ]
     },
     "execution_count": 12,
     "metadata": {},
     "output_type": "execute_result"
    }
   ],
   "source": [
    "# to see column stats we use\n",
    "fe[\"fuel_type\"].unique() # 'Gasoline', 'Diesel'"
   ]
  }
 ],
 "metadata": {
  "kernelspec": {
   "display_name": "Python 3 (ipykernel)",
   "language": "python",
   "name": "python3"
  },
  "language_info": {
   "codemirror_mode": {
    "name": "ipython",
    "version": 3
   },
   "file_extension": ".py",
   "mimetype": "text/x-python",
   "name": "python",
   "nbconvert_exporter": "python",
   "pygments_lexer": "ipython3",
   "version": "3.12.1"
  }
 },
 "nbformat": 4,
 "nbformat_minor": 5
}
