{
 "cells": [
  {
   "cell_type": "markdown",
   "id": "b132b1a6-7bf6-4cff-baef-abffa1458fcb",
   "metadata": {},
   "source": [
    "## Q1. Pandas version"
   ]
  },
  {
   "cell_type": "code",
   "execution_count": 3,
   "id": "beb8febf-4cc5-4b14-8052-69f9f744216a",
   "metadata": {},
   "outputs": [
    {
     "data": {
      "text/plain": [
       "'2.3.1'"
      ]
     },
     "execution_count": 3,
     "metadata": {},
     "output_type": "execute_result"
    }
   ],
   "source": [
    "# Q1. Pandas version\n",
    "# What's the version of Pandas that you installed?\n",
    "\n",
    "# You can get the version information using the __version__ field:\n",
    "import pandas as pd\n",
    "pd.__version__\n",
    "# '2.3.1'"
   ]
  },
  {
   "cell_type": "code",
   "execution_count": null,
   "id": "b966e75b-22dc-4210-8156-70d61fa2f2ef",
   "metadata": {},
   "outputs": [],
   "source": []
  }
 ],
 "metadata": {
  "kernelspec": {
   "display_name": "Python 3 (ipykernel)",
   "language": "python",
   "name": "python3"
  },
  "language_info": {
   "codemirror_mode": {
    "name": "ipython",
    "version": 3
   },
   "file_extension": ".py",
   "mimetype": "text/x-python",
   "name": "python",
   "nbconvert_exporter": "python",
   "pygments_lexer": "ipython3",
   "version": "3.12.1"
  }
 },
 "nbformat": 4,
 "nbformat_minor": 5
}
