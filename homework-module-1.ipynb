{
 "cells": [
  {
   "cell_type": "markdown",
   "id": "b132b1a6-7bf6-4cff-baef-abffa1458fcb",
   "metadata": {},
   "source": [
    "## Q1. Pandas version"
   ]
  },
  {
   "cell_type": "code",
   "execution_count": 3,
   "id": "beb8febf-4cc5-4b14-8052-69f9f744216a",
   "metadata": {},
   "outputs": [
    {
     "data": {
      "text/plain": [
       "'2.3.1'"
      ]
     },
     "execution_count": 3,
     "metadata": {},
     "output_type": "execute_result"
    }
   ],
   "source": [
    "# Q1. Pandas version\n",
    "# What's the version of Pandas that you installed?\n",
    "\n",
    "# You can get the version information using the __version__ field:\n",
    "import pandas as pd\n",
    "pd.__version__\n",
    "# '2.3.1'"
   ]
  },
  {
   "cell_type": "code",
   "execution_count": 6,
   "id": "b966e75b-22dc-4210-8156-70d61fa2f2ef",
   "metadata": {},
   "outputs": [
    {
     "data": {
      "text/html": [
       "<div>\n",
       "<style scoped>\n",
       "    .dataframe tbody tr th:only-of-type {\n",
       "        vertical-align: middle;\n",
       "    }\n",
       "\n",
       "    .dataframe tbody tr th {\n",
       "        vertical-align: top;\n",
       "    }\n",
       "\n",
       "    .dataframe thead th {\n",
       "        text-align: right;\n",
       "    }\n",
       "</style>\n",
       "<table border=\"1\" class=\"dataframe\">\n",
       "  <thead>\n",
       "    <tr style=\"text-align: right;\">\n",
       "      <th></th>\n",
       "      <th>engine_displacement</th>\n",
       "      <th>num_cylinders</th>\n",
       "      <th>horsepower</th>\n",
       "      <th>vehicle_weight</th>\n",
       "      <th>acceleration</th>\n",
       "      <th>model_year</th>\n",
       "      <th>origin</th>\n",
       "      <th>fuel_type</th>\n",
       "      <th>drivetrain</th>\n",
       "      <th>num_doors</th>\n",
       "      <th>fuel_efficiency_mpg</th>\n",
       "    </tr>\n",
       "  </thead>\n",
       "  <tbody>\n",
       "    <tr>\n",
       "      <th>9699</th>\n",
       "      <td>140</td>\n",
       "      <td>5.0</td>\n",
       "      <td>164.0</td>\n",
       "      <td>2981.107371</td>\n",
       "      <td>17.3</td>\n",
       "      <td>2013</td>\n",
       "      <td>Europe</td>\n",
       "      <td>Diesel</td>\n",
       "      <td>Front-wheel drive</td>\n",
       "      <td>NaN</td>\n",
       "      <td>15.101802</td>\n",
       "    </tr>\n",
       "    <tr>\n",
       "      <th>9700</th>\n",
       "      <td>180</td>\n",
       "      <td>NaN</td>\n",
       "      <td>154.0</td>\n",
       "      <td>2439.525729</td>\n",
       "      <td>15.0</td>\n",
       "      <td>2004</td>\n",
       "      <td>USA</td>\n",
       "      <td>Gasoline</td>\n",
       "      <td>All-wheel drive</td>\n",
       "      <td>0.0</td>\n",
       "      <td>17.962326</td>\n",
       "    </tr>\n",
       "    <tr>\n",
       "      <th>9701</th>\n",
       "      <td>220</td>\n",
       "      <td>2.0</td>\n",
       "      <td>138.0</td>\n",
       "      <td>2583.471318</td>\n",
       "      <td>15.1</td>\n",
       "      <td>2008</td>\n",
       "      <td>USA</td>\n",
       "      <td>Diesel</td>\n",
       "      <td>All-wheel drive</td>\n",
       "      <td>-1.0</td>\n",
       "      <td>17.186587</td>\n",
       "    </tr>\n",
       "    <tr>\n",
       "      <th>9702</th>\n",
       "      <td>230</td>\n",
       "      <td>4.0</td>\n",
       "      <td>177.0</td>\n",
       "      <td>2905.527390</td>\n",
       "      <td>19.4</td>\n",
       "      <td>2011</td>\n",
       "      <td>USA</td>\n",
       "      <td>Diesel</td>\n",
       "      <td>Front-wheel drive</td>\n",
       "      <td>1.0</td>\n",
       "      <td>15.331551</td>\n",
       "    </tr>\n",
       "    <tr>\n",
       "      <th>9703</th>\n",
       "      <td>270</td>\n",
       "      <td>3.0</td>\n",
       "      <td>140.0</td>\n",
       "      <td>2908.043477</td>\n",
       "      <td>14.7</td>\n",
       "      <td>2005</td>\n",
       "      <td>Asia</td>\n",
       "      <td>Diesel</td>\n",
       "      <td>All-wheel drive</td>\n",
       "      <td>-1.0</td>\n",
       "      <td>14.884467</td>\n",
       "    </tr>\n",
       "  </tbody>\n",
       "</table>\n",
       "</div>"
      ],
      "text/plain": [
       "      engine_displacement  num_cylinders  horsepower  vehicle_weight  \\\n",
       "9699                  140            5.0       164.0     2981.107371   \n",
       "9700                  180            NaN       154.0     2439.525729   \n",
       "9701                  220            2.0       138.0     2583.471318   \n",
       "9702                  230            4.0       177.0     2905.527390   \n",
       "9703                  270            3.0       140.0     2908.043477   \n",
       "\n",
       "      acceleration  model_year  origin fuel_type         drivetrain  \\\n",
       "9699          17.3        2013  Europe    Diesel  Front-wheel drive   \n",
       "9700          15.0        2004     USA  Gasoline    All-wheel drive   \n",
       "9701          15.1        2008     USA    Diesel    All-wheel drive   \n",
       "9702          19.4        2011     USA    Diesel  Front-wheel drive   \n",
       "9703          14.7        2005    Asia    Diesel    All-wheel drive   \n",
       "\n",
       "      num_doors  fuel_efficiency_mpg  \n",
       "9699        NaN            15.101802  \n",
       "9700        0.0            17.962326  \n",
       "9701       -1.0            17.186587  \n",
       "9702        1.0            15.331551  \n",
       "9703       -1.0            14.884467  "
      ]
     },
     "execution_count": 6,
     "metadata": {},
     "output_type": "execute_result"
    }
   ],
   "source": [
    "# Getting the data\n",
    "# For this homework, we'll use the Car Fuel Efficiency dataset. Download it from here.\n",
    "\n",
    "# You can do it with wget:\n",
    "\n",
    "# !wget https://raw.githubusercontent.com/alexeygrigorev/datasets/master/car_fuel_efficiency.csv\n",
    "# Or just open it with your browser and click \"Save as...\".\n",
    "\n",
    "# Now read it with Pandas.\n",
    "\n",
    "fe = pd.read_csv(\"car_fuel_efficiency.csv\")\n",
    "fe.tail()"
   ]
  },
  {
   "cell_type": "markdown",
   "id": "1f4d8015-dac5-40e7-8ce8-6c82c057b0b4",
   "metadata": {},
   "source": [
    "## Q2. Records count"
   ]
  },
  {
   "cell_type": "code",
   "execution_count": 7,
   "id": "5eb2aef4-574a-47ef-81af-7ebb95129b3c",
   "metadata": {},
   "outputs": [],
   "source": [
    "# Q2. Records count\n",
    "# How many records are in the dataset?\n",
    "\n",
    "# 4704\n",
    "# 8704\n",
    "# 9704 # as we start with 0 and end with 9703 ...\n",
    "# 17704"
   ]
  },
  {
   "cell_type": "code",
   "execution_count": 9,
   "id": "abb9551e-d849-428e-87b8-dab1e6d8c20c",
   "metadata": {},
   "outputs": [
    {
     "data": {
      "text/plain": [
       "9704"
      ]
     },
     "execution_count": 9,
     "metadata": {},
     "output_type": "execute_result"
    }
   ],
   "source": [
    "# nice way to double check row count\n",
    "len(fe) # 9704"
   ]
  },
  {
   "cell_type": "markdown",
   "id": "bafd47e0-5951-49f8-acca-bfad5d163573",
   "metadata": {},
   "source": [
    "## Q3. Fuel types"
   ]
  },
  {
   "cell_type": "code",
   "execution_count": null,
   "id": "1d3b9229-649b-4636-980f-49bfd64c2d8c",
   "metadata": {},
   "outputs": [],
   "source": [
    "# Q3. Fuel types\n",
    "# How many fuel types are presented in the dataset?\n",
    "\n",
    "# 1\n",
    "# 2 - 'Gasoline', 'Diesel'\n",
    "# 3\n",
    "# 4"
   ]
  },
  {
   "cell_type": "code",
   "execution_count": 13,
   "id": "8db02a3a-31c1-4a16-bdfb-e8e9f04f35c4",
   "metadata": {},
   "outputs": [
    {
     "data": {
      "text/plain": [
       "array(['Gasoline', 'Diesel'], dtype=object)"
      ]
     },
     "execution_count": 13,
     "metadata": {},
     "output_type": "execute_result"
    }
   ],
   "source": [
    "# to see column stats we use\n",
    "fe[\"fuel_type\"].unique() # 'Gasoline', 'Diesel'"
   ]
  },
  {
   "cell_type": "markdown",
   "id": "1cb86343-27fc-425a-94ff-14f6bfb73c1a",
   "metadata": {},
   "source": [
    "## Q4. Missing values"
   ]
  },
  {
   "cell_type": "code",
   "execution_count": 15,
   "id": "96201d44-5d51-4149-985b-84e138f41be2",
   "metadata": {},
   "outputs": [
    {
     "name": "stdout",
     "output_type": "stream",
     "text": [
      "Number of columns with missing values: 4\n"
     ]
    }
   ],
   "source": [
    "# Q4. Missing values\n",
    "# How many columns in the dataset have missing values?\n",
    "\n",
    "# 0\n",
    "# 1\n",
    "# 2\n",
    "# 3\n",
    "# 4\n",
    "\n",
    "# Count of columns with missing values\n",
    "num_missing_cols = fe.isnull().any().sum()\n",
    "\n",
    "print(f\"Number of columns with missing values: {num_missing_cols}\") # 4"
   ]
  },
  {
   "cell_type": "code",
   "execution_count": 16,
   "id": "e601c5b4-4d64-4e3d-a2b2-d5a42c1874e1",
   "metadata": {},
   "outputs": [
    {
     "name": "stdout",
     "output_type": "stream",
     "text": [
      "num_cylinders    482\n",
      "horsepower       708\n",
      "acceleration     930\n",
      "num_doors        502\n",
      "dtype: int64\n"
     ]
    }
   ],
   "source": [
    "# to double check which columns have missing values and how many:\n",
    "\n",
    "missing_info = fe.isnull().sum()\n",
    "missing_info = missing_info[missing_info > 0]\n",
    "\n",
    "print(missing_info)\n",
    "\n",
    "# num_cylinders    482\n",
    "# horsepower       708\n",
    "# acceleration     930\n",
    "# num_doors        502"
   ]
  },
  {
   "cell_type": "markdown",
   "id": "ae47080f-32d3-4fb0-8f2c-813a3f2edf3b",
   "metadata": {},
   "source": [
    "## Q5. Max fuel efficiency"
   ]
  },
  {
   "cell_type": "code",
   "execution_count": 20,
   "id": "9abd4a6b-ad8a-4235-99a3-c231cdaccba6",
   "metadata": {},
   "outputs": [
    {
     "name": "stdout",
     "output_type": "stream",
     "text": [
      "Max fuel efficiency: 23.759122836520497\n"
     ]
    }
   ],
   "source": [
    "# Q5. Max fuel efficiency\n",
    "# What's the maximum fuel efficiency of cars from Asia?\n",
    "\n",
    "# 13.75\n",
    "# 23.75 # Max fuel efficiency: 23.759122836520497\n",
    "# 33.75\n",
    "# 43.75\n",
    "\n",
    "asia_cars = fe[fe[\"origin\"] == \"Asia\"]\n",
    "# asia_cars # 3247 rows × 11 columns\n",
    "\n",
    "# Max value in the column\n",
    "max_mpg = asia_cars[\"fuel_efficiency_mpg\"].max()\n",
    "print(\"Max fuel efficiency:\", max_mpg) # Max fuel efficiency: 23.759122836520497"
   ]
  },
  {
   "cell_type": "markdown",
   "id": "79f97d88-d0cf-4b62-9706-5246be53a745",
   "metadata": {},
   "source": [
    "## Q6. Median value of horsepower"
   ]
  },
  {
   "cell_type": "code",
   "execution_count": 22,
   "id": "10ad579c-3b1c-497b-87eb-d634d35844f6",
   "metadata": {},
   "outputs": [],
   "source": [
    "# Q6. Median value of horsepower\n",
    "# Find the median value of horsepower column in the dataset.\n",
    "# Next, calculate the most frequent value of the same horsepower column.\n",
    "# Use fillna method to fill the missing values in horsepower column with the most frequent value from the previous step.\n",
    "# Now, calculate the median value of horsepower once again.\n",
    "# Has it changed?\n",
    "\n",
    "# Yes, it increased # 50% 152.000000 - a bit higher than before 149.0\n",
    "# Yes, it decreased\n",
    "# No"
   ]
  },
  {
   "cell_type": "code",
   "execution_count": 24,
   "id": "d9f0def3-e519-4827-9a4a-b9d4ca162df3",
   "metadata": {},
   "outputs": [
    {
     "data": {
      "text/plain": [
       "np.float64(149.0)"
      ]
     },
     "execution_count": 24,
     "metadata": {},
     "output_type": "execute_result"
    }
   ],
   "source": [
    "# Find the median value of horsepower column in the dataset.\n",
    "fe[\"horsepower\"].median() # np.float64(149.0)"
   ]
  },
  {
   "cell_type": "code",
   "execution_count": 26,
   "id": "9548cff9-f0d3-4cbd-b2dd-e3bac69c6312",
   "metadata": {},
   "outputs": [
    {
     "data": {
      "text/plain": [
       "count    8996.000000\n",
       "mean      149.657292\n",
       "std        29.879555\n",
       "min        37.000000\n",
       "25%       130.000000\n",
       "50%       149.000000\n",
       "75%       170.000000\n",
       "max       271.000000\n",
       "Name: horsepower, dtype: float64"
      ]
     },
     "execution_count": 26,
     "metadata": {},
     "output_type": "execute_result"
    }
   ],
   "source": [
    "# to double check\n",
    "fe[\"horsepower\"].describe() # 50%       149.000000"
   ]
  },
  {
   "cell_type": "code",
   "execution_count": 27,
   "id": "7c3aba31-f878-49dd-8a4c-9de690fb379e",
   "metadata": {},
   "outputs": [
    {
     "name": "stdout",
     "output_type": "stream",
     "text": [
      "Most frequent horsepower: 152.0\n"
     ]
    }
   ],
   "source": [
    "# Next, calculate the most frequent value of the same horsepower column.\n",
    "# Most frequent value (mode)\n",
    "most_freq_hp = fe[\"horsepower\"].mode()[0]\n",
    "print(\"Most frequent horsepower:\", most_freq_hp) # 152.0"
   ]
  },
  {
   "cell_type": "code",
   "execution_count": 28,
   "id": "2dc1d36c-ec31-4331-beb8-ed0541b57621",
   "metadata": {},
   "outputs": [
    {
     "name": "stderr",
     "output_type": "stream",
     "text": [
      "/tmp/ipykernel_17554/3707462728.py:2: FutureWarning: A value is trying to be set on a copy of a DataFrame or Series through chained assignment using an inplace method.\n",
      "The behavior will change in pandas 3.0. This inplace method will never work because the intermediate object on which we are setting values always behaves as a copy.\n",
      "\n",
      "For example, when doing 'df[col].method(value, inplace=True)', try using 'df.method({col: value}, inplace=True)' or df[col] = df[col].method(value) instead, to perform the operation inplace on the original object.\n",
      "\n",
      "\n",
      "  fe[\"horsepower\"].fillna(most_freq_hp, inplace=True)\n"
     ]
    },
    {
     "data": {
      "text/plain": [
       "count    9704.000000\n",
       "mean      149.828215\n",
       "std        28.775248\n",
       "min        37.000000\n",
       "25%       131.000000\n",
       "50%       152.000000\n",
       "75%       168.000000\n",
       "max       271.000000\n",
       "Name: horsepower, dtype: float64"
      ]
     },
     "execution_count": 28,
     "metadata": {},
     "output_type": "execute_result"
    }
   ],
   "source": [
    "# Use fillna method to fill the missing values in horsepower column with the most frequent value from the previous step.\n",
    "fe[\"horsepower\"].fillna(most_freq_hp, inplace=True)\n",
    "fe[\"horsepower\"].describe() # 50% 152.000000 - a bit higher than before 149.0"
   ]
  },
  {
   "cell_type": "markdown",
   "id": "c4f06263-1f1e-436e-8dc5-6b80536a3dce",
   "metadata": {},
   "source": [
    "## Q7. Sum of weights"
   ]
  },
  {
   "cell_type": "code",
   "execution_count": 30,
   "id": "a3dc03e9-0362-458f-970d-bf1cf090e416",
   "metadata": {},
   "outputs": [],
   "source": [
    "# Q7. Sum of weights\n",
    "# Select all the cars from Asia\n",
    "# Select only columns vehicle_weight and model_year\n",
    "# Select the first 7 values\n",
    "# Get the underlying NumPy array. Let's call it X.\n",
    "# Compute matrix-matrix multiplication between the transpose of X and X. To get the transpose, use X.T. Let's call the result XTX.\n",
    "# Invert XTX.\n",
    "# Create an array y with values [1100, 1300, 800, 900, 1000, 1100, 1200].\n",
    "# Multiply the inverse of XTX with the transpose of X, and then multiply the result by y. Call the result w.\n",
    "# What's the sum of all the elements of the result?\n",
    "# Note: You just implemented linear regression. We'll talk about it in the next lesson.\n",
    "\n",
    "# 0.051\n",
    "# 0.51 # array([0.01386421, 0.5049067 ])\n",
    "# 5.1\n",
    "# 51"
   ]
  },
  {
   "cell_type": "code",
   "execution_count": 33,
   "id": "7fc50f0a-9e7e-4f84-b998-46593ac4dfc9",
   "metadata": {},
   "outputs": [
    {
     "data": {
      "text/html": [
       "<div>\n",
       "<style scoped>\n",
       "    .dataframe tbody tr th:only-of-type {\n",
       "        vertical-align: middle;\n",
       "    }\n",
       "\n",
       "    .dataframe tbody tr th {\n",
       "        vertical-align: top;\n",
       "    }\n",
       "\n",
       "    .dataframe thead th {\n",
       "        text-align: right;\n",
       "    }\n",
       "</style>\n",
       "<table border=\"1\" class=\"dataframe\">\n",
       "  <thead>\n",
       "    <tr style=\"text-align: right;\">\n",
       "      <th></th>\n",
       "      <th>vehicle_weight</th>\n",
       "      <th>model_year</th>\n",
       "    </tr>\n",
       "  </thead>\n",
       "  <tbody>\n",
       "    <tr>\n",
       "      <th>8</th>\n",
       "      <td>2714.219310</td>\n",
       "      <td>2016</td>\n",
       "    </tr>\n",
       "    <tr>\n",
       "      <th>12</th>\n",
       "      <td>2783.868974</td>\n",
       "      <td>2010</td>\n",
       "    </tr>\n",
       "    <tr>\n",
       "      <th>14</th>\n",
       "      <td>3582.687368</td>\n",
       "      <td>2007</td>\n",
       "    </tr>\n",
       "    <tr>\n",
       "      <th>20</th>\n",
       "      <td>2231.808142</td>\n",
       "      <td>2011</td>\n",
       "    </tr>\n",
       "    <tr>\n",
       "      <th>21</th>\n",
       "      <td>2659.431451</td>\n",
       "      <td>2016</td>\n",
       "    </tr>\n",
       "    <tr>\n",
       "      <th>34</th>\n",
       "      <td>2844.227534</td>\n",
       "      <td>2014</td>\n",
       "    </tr>\n",
       "    <tr>\n",
       "      <th>38</th>\n",
       "      <td>3761.994038</td>\n",
       "      <td>2019</td>\n",
       "    </tr>\n",
       "  </tbody>\n",
       "</table>\n",
       "</div>"
      ],
      "text/plain": [
       "    vehicle_weight  model_year\n",
       "8      2714.219310        2016\n",
       "12     2783.868974        2010\n",
       "14     3582.687368        2007\n",
       "20     2231.808142        2011\n",
       "21     2659.431451        2016\n",
       "34     2844.227534        2014\n",
       "38     3761.994038        2019"
      ]
     },
     "execution_count": 33,
     "metadata": {},
     "output_type": "execute_result"
    }
   ],
   "source": [
    "# Select all the cars from Asia\n",
    "# Select only columns vehicle_weight and model_year\n",
    "# Select the first 7 values\n",
    "\n",
    "asia_wy = asia_cars[[\"vehicle_weight\", \"model_year\"]]\n",
    "a = asia_wy[:7]\n",
    "a"
   ]
  },
  {
   "cell_type": "code",
   "execution_count": 35,
   "id": "27938b9e-5316-4783-b04d-d76e19434e24",
   "metadata": {},
   "outputs": [
    {
     "data": {
      "text/plain": [
       "array([[62248334.33150762, 41431216.5073268 ],\n",
       "       [41431216.5073268 , 28373339.        ]])"
      ]
     },
     "execution_count": 35,
     "metadata": {},
     "output_type": "execute_result"
    }
   ],
   "source": [
    "# Get the underlying NumPy array. Let's call it X.\n",
    "# Compute matrix-matrix multiplication between the transpose of X and X. To get the transpose, use X.T. Let's call the result XTX.\n",
    "# Invert XTX.\n",
    "import numpy as np\n",
    "X = np.array(a)\n",
    "# Compute X^T X\n",
    "XTX = X.T @ X   # Using @ operator (preferred in modern Python)\n",
    "# or equivalently:\n",
    "# XTX = np.matmul(X.T, X)\n",
    "# XTX = np.dot(X.T, X)\n",
    "XTX"
   ]
  },
  {
   "cell_type": "code",
   "execution_count": 36,
   "id": "03ad5d14-574d-4b6c-9c9d-9d048d86694e",
   "metadata": {},
   "outputs": [
    {
     "data": {
      "text/plain": [
       "array([0.01386421, 0.5049067 ])"
      ]
     },
     "execution_count": 36,
     "metadata": {},
     "output_type": "execute_result"
    }
   ],
   "source": [
    "# Create an array y with values [1100, 1300, 800, 900, 1000, 1100, 1200].\n",
    "# Multiply the inverse of XTX with the transpose of X, and then multiply the result by y. Call the result w.\n",
    "\n",
    "# Step 1: Target vector y\n",
    "y = np.array([1100, 1300, 800, 900, 1000, 1100, 1200])\n",
    "\n",
    "# Step 2: Compute inverse of X^T X\n",
    "XTX_inv = np.linalg.inv(XTX)\n",
    "\n",
    "# Step 3: Compute w = (X^T X)^(-1) X^T y\n",
    "w = XTX_inv @ X.T @ y\n",
    "w # array([0.01386421, 0.5049067 ])\n"
   ]
  },
  {
   "cell_type": "code",
   "execution_count": null,
   "id": "b6dde84b-3262-43a4-9505-341390b89c41",
   "metadata": {},
   "outputs": [],
   "source": []
  }
 ],
 "metadata": {
  "kernelspec": {
   "display_name": "Python 3 (ipykernel)",
   "language": "python",
   "name": "python3"
  },
  "language_info": {
   "codemirror_mode": {
    "name": "ipython",
    "version": 3
   },
   "file_extension": ".py",
   "mimetype": "text/x-python",
   "name": "python",
   "nbconvert_exporter": "python",
   "pygments_lexer": "ipython3",
   "version": "3.12.1"
  }
 },
 "nbformat": 4,
 "nbformat_minor": 5
}
