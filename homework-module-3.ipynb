{
 "cells": [
  {
   "cell_type": "markdown",
   "id": "2bfe8951-c3cf-40e4-bfb0-e44f1b2cdca8",
   "metadata": {},
   "source": [
    "## Download and prep the data"
   ]
  },
  {
   "cell_type": "code",
   "execution_count": 3,
   "id": "4bf86d66-8c4c-477b-b24d-80735d0fe7e9",
   "metadata": {},
   "outputs": [],
   "source": [
    "# Dataset\n",
    "# In this homework, we will use the lead scoring dataset Bank Marketing dataset.\n",
    "\n",
    "# run once\n",
    "# !wget https://raw.githubusercontent.com/alexeygrigorev/datasets/master/course_lead_scoring.csv"
   ]
  },
  {
   "cell_type": "code",
   "execution_count": null,
   "id": "ce742982-af5f-4cea-b085-91cf8599fb63",
   "metadata": {},
   "outputs": [],
   "source": []
  }
 ],
 "metadata": {
  "kernelspec": {
   "display_name": "Python 3 (ipykernel)",
   "language": "python",
   "name": "python3"
  },
  "language_info": {
   "codemirror_mode": {
    "name": "ipython",
    "version": 3
   },
   "file_extension": ".py",
   "mimetype": "text/x-python",
   "name": "python",
   "nbconvert_exporter": "python",
   "pygments_lexer": "ipython3",
   "version": "3.12.1"
  }
 },
 "nbformat": 4,
 "nbformat_minor": 5
}
